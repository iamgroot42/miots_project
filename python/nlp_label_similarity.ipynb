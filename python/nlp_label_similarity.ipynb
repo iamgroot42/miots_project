{
  "nbformat": 4,
  "nbformat_minor": 0,
  "metadata": {
    "colab": {
      "name": "nlp_label_similarity.ipynb",
      "provenance": [],
      "collapsed_sections": [
        "yhiXTjJij0Me",
        "tuYIF7oBj7uW",
        "Vr-y8L2TkF-l",
        "WElgHMIBkM2X",
        "OI1yGecF8nFz",
        "Jk2bb5_B8sii"
      ]
    },
    "kernelspec": {
      "name": "python3",
      "display_name": "Python 3"
    },
    "language_info": {
      "name": "python"
    }
  },
  "cells": [
    {
      "cell_type": "markdown",
      "metadata": {
        "id": "Vc9qurA4Kd2f"
      },
      "source": [
        "The purpose of this notebook is to predict the similarity of GitHub Issue labels to the labels \"security\" and \"vulnerability\". The use of spaCy and GloVe will be evaluated by their utility in this task."
      ]
    },
    {
      "cell_type": "markdown",
      "metadata": {
        "id": "yhiXTjJij0Me"
      },
      "source": [
        "# SpaCy"
      ]
    },
    {
      "cell_type": "code",
      "metadata": {
        "id": "2bixsxM9KVSS"
      },
      "source": [
        "import spacy\n",
        "\n",
        "nlp_sm = spacy.load(\"en_core_web_sm\")"
      ],
      "execution_count": null,
      "outputs": []
    },
    {
      "cell_type": "markdown",
      "metadata": {
        "id": "zDeHdFUVkC6b"
      },
      "source": [
        "## Experiments"
      ]
    },
    {
      "cell_type": "code",
      "metadata": {
        "id": "A_isp71uS9Jv"
      },
      "source": [
        "sm_label = nlp_sm(\"security\")"
      ],
      "execution_count": null,
      "outputs": []
    },
    {
      "cell_type": "code",
      "metadata": {
        "id": "0RpycvuTUQwF"
      },
      "source": [
        "sm_label2 = nlp_sm(\"vulnerability\")"
      ],
      "execution_count": null,
      "outputs": []
    },
    {
      "cell_type": "code",
      "metadata": {
        "colab": {
          "base_uri": "https://localhost:8080/"
        },
        "id": "hWZiJQCAUXFG",
        "outputId": "d29d8d0b-f2d6-4621-8e7f-8ac59ed998f5"
      },
      "source": [
        "print(sm_label, \"<->\", sm_label2, sm_label.similarity(sm_label2))"
      ],
      "execution_count": null,
      "outputs": [
        {
          "output_type": "stream",
          "name": "stdout",
          "text": [
            "security <-> vulnerability 0.7965347826534772\n"
          ]
        }
      ]
    },
    {
      "cell_type": "markdown",
      "metadata": {
        "id": "zqAF7huKU-9G"
      },
      "source": [
        "Test out simple labels which we might expect would be similar:"
      ]
    },
    {
      "cell_type": "code",
      "metadata": {
        "colab": {
          "base_uri": "https://localhost:8080/"
        },
        "id": "U-TxblN_UirD",
        "outputId": "43e7e69d-0e6d-4615-d085-65221c817657"
      },
      "source": [
        "sm_test1 = nlp_sm(\"bug\")\n",
        "print(sm_test1, \"<->\", sm_label, sm_test1.similarity(sm_label))\n",
        "print(sm_test1, \"<->\", sm_label2, sm_test1.similarity(sm_label2))"
      ],
      "execution_count": null,
      "outputs": [
        {
          "output_type": "stream",
          "name": "stdout",
          "text": [
            "bug <-> security 0.6740645666130319\n",
            "bug <-> vulnerability 0.5688523061642695\n"
          ]
        }
      ]
    },
    {
      "cell_type": "code",
      "metadata": {
        "colab": {
          "base_uri": "https://localhost:8080/"
        },
        "id": "xtxvTtjqVbT3",
        "outputId": "b6c0dcc6-998f-4bf6-be4a-cd229c18d378"
      },
      "source": [
        "sm_test2 = nlp_sm(\"insecure\")\n",
        "print(sm_test2, \"<->\", sm_label, sm_test2.similarity(sm_label))\n",
        "print(sm_test2, \"<->\", sm_label2, sm_test2.similarity(sm_label2))"
      ],
      "execution_count": null,
      "outputs": [
        {
          "output_type": "stream",
          "name": "stdout",
          "text": [
            "insecure <-> security 0.6533364319319176\n",
            "insecure <-> vulnerability 0.705820830598976\n"
          ]
        }
      ]
    },
    {
      "cell_type": "code",
      "metadata": {
        "colab": {
          "base_uri": "https://localhost:8080/"
        },
        "id": "S5u5Ert9VqJF",
        "outputId": "a867f918-baa4-451a-adb8-f6cc5e5688df"
      },
      "source": [
        "sm_test3 = nlp_sm(\"unsafe\")\n",
        "print(sm_test3, \"<->\", sm_label, sm_test3.similarity(sm_label))\n",
        "print(sm_test3, \"<->\", sm_label2, sm_test3.similarity(sm_label2))"
      ],
      "execution_count": null,
      "outputs": [
        {
          "output_type": "stream",
          "name": "stdout",
          "text": [
            "unsafe <-> security 0.47697006003469256\n",
            "unsafe <-> vulnerability 0.5230829815579838\n"
          ]
        }
      ]
    },
    {
      "cell_type": "code",
      "metadata": {
        "colab": {
          "base_uri": "https://localhost:8080/"
        },
        "id": "Wy_S8cFIWDAc",
        "outputId": "5c9bb1f1-13d9-4e0f-cc37-403c01e7778d"
      },
      "source": [
        "sm_test4 = nlp_sm(\"vulnerable\")\n",
        "print(sm_test4, \"<->\", sm_label, sm_test4.similarity(sm_label))\n",
        "print(sm_test4, \"<->\", sm_label2, sm_test4.similarity(sm_label2))"
      ],
      "execution_count": null,
      "outputs": [
        {
          "output_type": "stream",
          "name": "stdout",
          "text": [
            "vulnerable <-> security 0.5249633367952065\n",
            "vulnerable <-> vulnerability 0.506240344325377\n"
          ]
        }
      ]
    },
    {
      "cell_type": "code",
      "metadata": {
        "colab": {
          "base_uri": "https://localhost:8080/"
        },
        "id": "OUFenh28bcqV",
        "outputId": "3ca4fa64-c584-46b8-e599-fedd25d662fd"
      },
      "source": [
        "sm_test5 = nlp_sm(\"dog\")\n",
        "print(sm_test5, \"<->\", sm_label, sm_test5.similarity(sm_label))\n",
        "print(sm_test5, \"<->\", sm_label2, sm_test5.similarity(sm_label2))"
      ],
      "execution_count": null,
      "outputs": [
        {
          "output_type": "stream",
          "name": "stdout",
          "text": [
            "dog <-> security 0.6259899698075035\n",
            "dog <-> vulnerability 0.5904966117464396\n"
          ]
        }
      ]
    },
    {
      "cell_type": "markdown",
      "metadata": {
        "id": "jfWMuhPsY7wK"
      },
      "source": [
        "Use the large package with MANY word vectors included for more accurate results."
      ]
    },
    {
      "cell_type": "code",
      "metadata": {
        "colab": {
          "base_uri": "https://localhost:8080/"
        },
        "id": "8iW4e6K1WLID",
        "outputId": "b7745fed-c32d-42b5-c613-7ab105d12d08"
      },
      "source": [
        "!python -m spacy download en_core_web_lg\n",
        "import en_core_web_lg"
      ],
      "execution_count": null,
      "outputs": [
        {
          "output_type": "stream",
          "name": "stdout",
          "text": [
            "Collecting en_core_web_lg==2.2.5\n",
            "  Downloading https://github.com/explosion/spacy-models/releases/download/en_core_web_lg-2.2.5/en_core_web_lg-2.2.5.tar.gz (827.9 MB)\n",
            "\u001b[K     |████████████████████████████████| 827.9 MB 1.2 MB/s \n",
            "\u001b[?25hRequirement already satisfied: spacy>=2.2.2 in /usr/local/lib/python3.7/dist-packages (from en_core_web_lg==2.2.5) (2.2.4)\n",
            "Requirement already satisfied: srsly<1.1.0,>=1.0.2 in /usr/local/lib/python3.7/dist-packages (from spacy>=2.2.2->en_core_web_lg==2.2.5) (1.0.5)\n",
            "Requirement already satisfied: plac<1.2.0,>=0.9.6 in /usr/local/lib/python3.7/dist-packages (from spacy>=2.2.2->en_core_web_lg==2.2.5) (1.1.3)\n",
            "Requirement already satisfied: wasabi<1.1.0,>=0.4.0 in /usr/local/lib/python3.7/dist-packages (from spacy>=2.2.2->en_core_web_lg==2.2.5) (0.8.2)\n",
            "Requirement already satisfied: requests<3.0.0,>=2.13.0 in /usr/local/lib/python3.7/dist-packages (from spacy>=2.2.2->en_core_web_lg==2.2.5) (2.23.0)\n",
            "Requirement already satisfied: tqdm<5.0.0,>=4.38.0 in /usr/local/lib/python3.7/dist-packages (from spacy>=2.2.2->en_core_web_lg==2.2.5) (4.62.3)\n",
            "Requirement already satisfied: numpy>=1.15.0 in /usr/local/lib/python3.7/dist-packages (from spacy>=2.2.2->en_core_web_lg==2.2.5) (1.19.5)\n",
            "Requirement already satisfied: blis<0.5.0,>=0.4.0 in /usr/local/lib/python3.7/dist-packages (from spacy>=2.2.2->en_core_web_lg==2.2.5) (0.4.1)\n",
            "Requirement already satisfied: murmurhash<1.1.0,>=0.28.0 in /usr/local/lib/python3.7/dist-packages (from spacy>=2.2.2->en_core_web_lg==2.2.5) (1.0.5)\n",
            "Requirement already satisfied: preshed<3.1.0,>=3.0.2 in /usr/local/lib/python3.7/dist-packages (from spacy>=2.2.2->en_core_web_lg==2.2.5) (3.0.5)\n",
            "Requirement already satisfied: cymem<2.1.0,>=2.0.2 in /usr/local/lib/python3.7/dist-packages (from spacy>=2.2.2->en_core_web_lg==2.2.5) (2.0.5)\n",
            "Requirement already satisfied: thinc==7.4.0 in /usr/local/lib/python3.7/dist-packages (from spacy>=2.2.2->en_core_web_lg==2.2.5) (7.4.0)\n",
            "Requirement already satisfied: setuptools in /usr/local/lib/python3.7/dist-packages (from spacy>=2.2.2->en_core_web_lg==2.2.5) (57.4.0)\n",
            "Requirement already satisfied: catalogue<1.1.0,>=0.0.7 in /usr/local/lib/python3.7/dist-packages (from spacy>=2.2.2->en_core_web_lg==2.2.5) (1.0.0)\n",
            "Requirement already satisfied: importlib-metadata>=0.20 in /usr/local/lib/python3.7/dist-packages (from catalogue<1.1.0,>=0.0.7->spacy>=2.2.2->en_core_web_lg==2.2.5) (4.8.1)\n",
            "Requirement already satisfied: zipp>=0.5 in /usr/local/lib/python3.7/dist-packages (from importlib-metadata>=0.20->catalogue<1.1.0,>=0.0.7->spacy>=2.2.2->en_core_web_lg==2.2.5) (3.6.0)\n",
            "Requirement already satisfied: typing-extensions>=3.6.4 in /usr/local/lib/python3.7/dist-packages (from importlib-metadata>=0.20->catalogue<1.1.0,>=0.0.7->spacy>=2.2.2->en_core_web_lg==2.2.5) (3.7.4.3)\n",
            "Requirement already satisfied: idna<3,>=2.5 in /usr/local/lib/python3.7/dist-packages (from requests<3.0.0,>=2.13.0->spacy>=2.2.2->en_core_web_lg==2.2.5) (2.10)\n",
            "Requirement already satisfied: urllib3!=1.25.0,!=1.25.1,<1.26,>=1.21.1 in /usr/local/lib/python3.7/dist-packages (from requests<3.0.0,>=2.13.0->spacy>=2.2.2->en_core_web_lg==2.2.5) (1.24.3)\n",
            "Requirement already satisfied: chardet<4,>=3.0.2 in /usr/local/lib/python3.7/dist-packages (from requests<3.0.0,>=2.13.0->spacy>=2.2.2->en_core_web_lg==2.2.5) (3.0.4)\n",
            "Requirement already satisfied: certifi>=2017.4.17 in /usr/local/lib/python3.7/dist-packages (from requests<3.0.0,>=2.13.0->spacy>=2.2.2->en_core_web_lg==2.2.5) (2021.5.30)\n",
            "Building wheels for collected packages: en-core-web-lg\n",
            "  Building wheel for en-core-web-lg (setup.py) ... \u001b[?25l\u001b[?25hdone\n",
            "  Created wheel for en-core-web-lg: filename=en_core_web_lg-2.2.5-py3-none-any.whl size=829180942 sha256=a74a9ce03a77bb67f35634dd8b23d53008a9086f2a4da5b1cadd1c7ee5a84aa3\n",
            "  Stored in directory: /tmp/pip-ephem-wheel-cache-6ji5v3di/wheels/11/95/ba/2c36cc368c0bd339b44a791c2c1881a1fb714b78c29a4cb8f5\n",
            "Successfully built en-core-web-lg\n",
            "Installing collected packages: en-core-web-lg\n",
            "Successfully installed en-core-web-lg-2.2.5\n",
            "\u001b[38;5;2m✔ Download and installation successful\u001b[0m\n",
            "You can now load the model via spacy.load('en_core_web_lg')\n"
          ]
        }
      ]
    },
    {
      "cell_type": "code",
      "metadata": {
        "id": "gnkQ7mobWXVu"
      },
      "source": [
        "nlp_lg = en_core_web_lg.load()\n",
        "\n",
        "lg_label = nlp_lg(\"security\")\n",
        "lg_label2 = nlp_lg(\"vulnerability\")\n",
        "\n",
        "lg_test1 = nlp_lg(\"bug\")\n",
        "lg_test2 = nlp_lg(\"insecure\")\n",
        "lg_test3 = nlp_lg(\"unsafe\")\n",
        "lg_test4 = nlp_lg(\"vulnerable\")"
      ],
      "execution_count": null,
      "outputs": []
    },
    {
      "cell_type": "code",
      "metadata": {
        "colab": {
          "base_uri": "https://localhost:8080/"
        },
        "id": "TVs4BOJ8bMkA",
        "outputId": "99ab5462-3251-4cba-d2a0-bed7355c2635"
      },
      "source": [
        "print(lg_label, \"<->\", lg_label2, lg_label.similarity(lg_label2))"
      ],
      "execution_count": null,
      "outputs": [
        {
          "output_type": "stream",
          "name": "stdout",
          "text": [
            "security <-> vulnerability 0.5095413966051392\n"
          ]
        }
      ]
    },
    {
      "cell_type": "code",
      "metadata": {
        "colab": {
          "base_uri": "https://localhost:8080/"
        },
        "id": "yjcnqah4ZDHq",
        "outputId": "286e8c04-136c-403d-ae51-28dfff9f4254"
      },
      "source": [
        "print(test1, \"<->\", lg_label, test1.similarity(lg_label))\n",
        "print(test1, \"<->\", lg_label2, test1.similarity(lg_label2))"
      ],
      "execution_count": null,
      "outputs": [
        {
          "output_type": "stream",
          "name": "stdout",
          "text": [
            "bug <-> security 0.29468643661551325\n",
            "bug <-> vulnerability 0.3992475894969541\n"
          ]
        }
      ]
    },
    {
      "cell_type": "code",
      "metadata": {
        "colab": {
          "base_uri": "https://localhost:8080/"
        },
        "id": "535IoOK1ZNwP",
        "outputId": "577a34ee-d83d-4172-c721-322cd3f20821"
      },
      "source": [
        "print(test2, \"<->\", lg_label, test2.similarity(lg_label))\n",
        "print(test2, \"<->\", lg_label2, test2.similarity(lg_label2))"
      ],
      "execution_count": null,
      "outputs": [
        {
          "output_type": "stream",
          "name": "stdout",
          "text": [
            "insecure <-> security 0.366487105387259\n",
            "insecure <-> vulnerability 0.4748353033691004\n"
          ]
        }
      ]
    },
    {
      "cell_type": "code",
      "metadata": {
        "colab": {
          "base_uri": "https://localhost:8080/"
        },
        "id": "Zq1NcS7dZTA7",
        "outputId": "6718be2f-c2fd-467b-9621-2f5ae5a81f98"
      },
      "source": [
        "print(test3, \"<->\", lg_label, test3.similarity(lg_label))\n",
        "print(test3, \"<->\", lg_label2, test3.similarity(lg_label2))"
      ],
      "execution_count": null,
      "outputs": [
        {
          "output_type": "stream",
          "name": "stdout",
          "text": [
            "unsafe <-> security 0.2584225218602517\n",
            "unsafe <-> vulnerability 0.27426078407910415\n"
          ]
        }
      ]
    },
    {
      "cell_type": "code",
      "metadata": {
        "colab": {
          "base_uri": "https://localhost:8080/"
        },
        "id": "6md1uaxwZXB5",
        "outputId": "8b7308a9-118d-4649-fe29-421e5fe85c0a"
      },
      "source": [
        "print(test4, \"<->\", lg_label, test4.similarity(lg_label))\n",
        "print(test4, \"<->\", lg_label2, test4.similarity(lg_label2))"
      ],
      "execution_count": null,
      "outputs": [
        {
          "output_type": "stream",
          "name": "stdout",
          "text": [
            "vulnerable <-> security 0.44470424491192456\n",
            "vulnerable <-> vulnerability 0.6644242300419219\n"
          ]
        }
      ]
    },
    {
      "cell_type": "code",
      "metadata": {
        "colab": {
          "base_uri": "https://localhost:8080/"
        },
        "id": "gX7pYruzb1b_",
        "outputId": "d449e633-9b62-4cc9-e8b8-4eca0bd7f491"
      },
      "source": [
        "lg_test5 = nlp_lg(\"dog\")\n",
        "print(test5, \"<->\", lg_label, test5.similarity(lg_label))\n",
        "print(test5, \"<->\", lg_label2, test5.similarity(lg_label2))"
      ],
      "execution_count": null,
      "outputs": [
        {
          "output_type": "stream",
          "name": "stdout",
          "text": [
            "dog <-> security 0.22207311333141674\n",
            "dog <-> vulnerability 0.05948544424415952\n"
          ]
        }
      ]
    },
    {
      "cell_type": "markdown",
      "metadata": {
        "id": "m4ffrmf-aCc7"
      },
      "source": [
        "The large model appears to perform even worse than we would expect for words that we consider semantically similar! However, it is better and distinguising the very dissimilar words \"dog\" and \"vulnerability\". Try the medium pre-trained model."
      ]
    },
    {
      "cell_type": "code",
      "metadata": {
        "colab": {
          "base_uri": "https://localhost:8080/"
        },
        "id": "xfb31q2iZadY",
        "outputId": "e3525b62-aaa0-4e57-c7e0-e681bd6d1f2a"
      },
      "source": [
        "!python -m spacy download en_core_web_md\n",
        "import en_core_web_md\n",
        "nlp_md = en_core_web_md.load()"
      ],
      "execution_count": null,
      "outputs": [
        {
          "output_type": "stream",
          "name": "stdout",
          "text": [
            "Collecting en_core_web_md==2.2.5\n",
            "  Downloading https://github.com/explosion/spacy-models/releases/download/en_core_web_md-2.2.5/en_core_web_md-2.2.5.tar.gz (96.4 MB)\n",
            "\u001b[K     |████████████████████████████████| 96.4 MB 1.2 MB/s \n",
            "\u001b[?25hRequirement already satisfied: spacy>=2.2.2 in /usr/local/lib/python3.7/dist-packages (from en_core_web_md==2.2.5) (2.2.4)\n",
            "Requirement already satisfied: wasabi<1.1.0,>=0.4.0 in /usr/local/lib/python3.7/dist-packages (from spacy>=2.2.2->en_core_web_md==2.2.5) (0.8.2)\n",
            "Requirement already satisfied: numpy>=1.15.0 in /usr/local/lib/python3.7/dist-packages (from spacy>=2.2.2->en_core_web_md==2.2.5) (1.19.5)\n",
            "Requirement already satisfied: srsly<1.1.0,>=1.0.2 in /usr/local/lib/python3.7/dist-packages (from spacy>=2.2.2->en_core_web_md==2.2.5) (1.0.5)\n",
            "Requirement already satisfied: preshed<3.1.0,>=3.0.2 in /usr/local/lib/python3.7/dist-packages (from spacy>=2.2.2->en_core_web_md==2.2.5) (3.0.5)\n",
            "Requirement already satisfied: blis<0.5.0,>=0.4.0 in /usr/local/lib/python3.7/dist-packages (from spacy>=2.2.2->en_core_web_md==2.2.5) (0.4.1)\n",
            "Requirement already satisfied: tqdm<5.0.0,>=4.38.0 in /usr/local/lib/python3.7/dist-packages (from spacy>=2.2.2->en_core_web_md==2.2.5) (4.62.3)\n",
            "Requirement already satisfied: thinc==7.4.0 in /usr/local/lib/python3.7/dist-packages (from spacy>=2.2.2->en_core_web_md==2.2.5) (7.4.0)\n",
            "Requirement already satisfied: plac<1.2.0,>=0.9.6 in /usr/local/lib/python3.7/dist-packages (from spacy>=2.2.2->en_core_web_md==2.2.5) (1.1.3)\n",
            "Requirement already satisfied: setuptools in /usr/local/lib/python3.7/dist-packages (from spacy>=2.2.2->en_core_web_md==2.2.5) (57.4.0)\n",
            "Requirement already satisfied: cymem<2.1.0,>=2.0.2 in /usr/local/lib/python3.7/dist-packages (from spacy>=2.2.2->en_core_web_md==2.2.5) (2.0.5)\n",
            "Requirement already satisfied: catalogue<1.1.0,>=0.0.7 in /usr/local/lib/python3.7/dist-packages (from spacy>=2.2.2->en_core_web_md==2.2.5) (1.0.0)\n",
            "Requirement already satisfied: murmurhash<1.1.0,>=0.28.0 in /usr/local/lib/python3.7/dist-packages (from spacy>=2.2.2->en_core_web_md==2.2.5) (1.0.5)\n",
            "Requirement already satisfied: requests<3.0.0,>=2.13.0 in /usr/local/lib/python3.7/dist-packages (from spacy>=2.2.2->en_core_web_md==2.2.5) (2.23.0)\n",
            "Requirement already satisfied: importlib-metadata>=0.20 in /usr/local/lib/python3.7/dist-packages (from catalogue<1.1.0,>=0.0.7->spacy>=2.2.2->en_core_web_md==2.2.5) (4.8.1)\n",
            "Requirement already satisfied: zipp>=0.5 in /usr/local/lib/python3.7/dist-packages (from importlib-metadata>=0.20->catalogue<1.1.0,>=0.0.7->spacy>=2.2.2->en_core_web_md==2.2.5) (3.6.0)\n",
            "Requirement already satisfied: typing-extensions>=3.6.4 in /usr/local/lib/python3.7/dist-packages (from importlib-metadata>=0.20->catalogue<1.1.0,>=0.0.7->spacy>=2.2.2->en_core_web_md==2.2.5) (3.7.4.3)\n",
            "Requirement already satisfied: idna<3,>=2.5 in /usr/local/lib/python3.7/dist-packages (from requests<3.0.0,>=2.13.0->spacy>=2.2.2->en_core_web_md==2.2.5) (2.10)\n",
            "Requirement already satisfied: chardet<4,>=3.0.2 in /usr/local/lib/python3.7/dist-packages (from requests<3.0.0,>=2.13.0->spacy>=2.2.2->en_core_web_md==2.2.5) (3.0.4)\n",
            "Requirement already satisfied: urllib3!=1.25.0,!=1.25.1,<1.26,>=1.21.1 in /usr/local/lib/python3.7/dist-packages (from requests<3.0.0,>=2.13.0->spacy>=2.2.2->en_core_web_md==2.2.5) (1.24.3)\n",
            "Requirement already satisfied: certifi>=2017.4.17 in /usr/local/lib/python3.7/dist-packages (from requests<3.0.0,>=2.13.0->spacy>=2.2.2->en_core_web_md==2.2.5) (2021.5.30)\n",
            "Building wheels for collected packages: en-core-web-md\n",
            "  Building wheel for en-core-web-md (setup.py) ... \u001b[?25l\u001b[?25hdone\n",
            "  Created wheel for en-core-web-md: filename=en_core_web_md-2.2.5-py3-none-any.whl size=98051302 sha256=ebf196cb59bd72bd636d61ef6107205e1627e9e08a38edc27a6c046bdae545fc\n",
            "  Stored in directory: /tmp/pip-ephem-wheel-cache-jnviqfvf/wheels/69/c5/b8/4f1c029d89238734311b3269762ab2ee325a42da2ce8edb997\n",
            "Successfully built en-core-web-md\n",
            "Installing collected packages: en-core-web-md\n",
            "Successfully installed en-core-web-md-2.2.5\n",
            "\u001b[38;5;2m✔ Download and installation successful\u001b[0m\n",
            "You can now load the model via spacy.load('en_core_web_md')\n"
          ]
        }
      ]
    },
    {
      "cell_type": "code",
      "metadata": {
        "id": "noFqvNoaaRuL"
      },
      "source": [
        "md_label = nlp_md(\"security\")\n",
        "md_label2 = nlp_md(\"vulnerability\")\n",
        "\n",
        "md_test1 = nlp_md(\"bug\")\n",
        "md_test2 = nlp_md(\"insecure\")\n",
        "md_test3 = nlp_md(\"unsafe\")\n",
        "md_test4 = nlp_md(\"vulnerable\")\n",
        "md_test5 = nlp_md(\"dog\")  # Not semantically similar"
      ],
      "execution_count": null,
      "outputs": []
    },
    {
      "cell_type": "code",
      "metadata": {
        "colab": {
          "base_uri": "https://localhost:8080/"
        },
        "id": "77goB1GAbC3d",
        "outputId": "18675060-9282-410e-9c82-c0bd696192df"
      },
      "source": [
        "print(md_label, \"<->\", md_label2, md_label.similarity(md_label2))"
      ],
      "execution_count": null,
      "outputs": [
        {
          "output_type": "stream",
          "name": "stdout",
          "text": [
            "security <-> vulnerability 0.5095413966051392\n"
          ]
        }
      ]
    },
    {
      "cell_type": "code",
      "metadata": {
        "colab": {
          "base_uri": "https://localhost:8080/"
        },
        "id": "NrcXfk01awKq",
        "outputId": "44a4727f-caf3-472f-af0a-70a008bf48b5"
      },
      "source": [
        "print(md_test1, \"<->\", md_label, md_test1.similarity(md_label))\n",
        "print(md_test1, \"<->\", md_label2, md_test1.similarity(md_label2))"
      ],
      "execution_count": null,
      "outputs": [
        {
          "output_type": "stream",
          "name": "stdout",
          "text": [
            "bug <-> security 0.29468643661551325\n",
            "bug <-> vulnerability 0.3992475894969541\n"
          ]
        }
      ]
    },
    {
      "cell_type": "code",
      "metadata": {
        "colab": {
          "base_uri": "https://localhost:8080/"
        },
        "id": "EhZs-cArav_s",
        "outputId": "1f9ad55d-5741-4b51-9149-cf1703e0e1f9"
      },
      "source": [
        "print(md_test2, \"<->\", md_label, md_test2.similarity(md_label))\n",
        "print(md_test2, \"<->\", md_label2, md_test2.similarity(md_label2))"
      ],
      "execution_count": null,
      "outputs": [
        {
          "output_type": "stream",
          "name": "stdout",
          "text": [
            "insecure <-> security 0.366487105387259\n",
            "insecure <-> vulnerability 0.4748353033691004\n"
          ]
        }
      ]
    },
    {
      "cell_type": "code",
      "metadata": {
        "colab": {
          "base_uri": "https://localhost:8080/"
        },
        "id": "PYSN9s9vav0X",
        "outputId": "03112942-38e5-45e9-8a2c-ba91687167ac"
      },
      "source": [
        "print(md_test3, \"<->\", md_label, md_test3.similarity(md_label))\n",
        "print(md_test3, \"<->\", md_label2, md_test3.similarity(md_label2))"
      ],
      "execution_count": null,
      "outputs": [
        {
          "output_type": "stream",
          "name": "stdout",
          "text": [
            "unsafe <-> security 0.2584225218602517\n",
            "unsafe <-> vulnerability 0.27426078407910415\n"
          ]
        }
      ]
    },
    {
      "cell_type": "code",
      "metadata": {
        "colab": {
          "base_uri": "https://localhost:8080/"
        },
        "id": "foGUJnvDadQ6",
        "outputId": "25f81e48-fc2d-47c7-862e-6f3dcf23e3b5"
      },
      "source": [
        "print(md_test4, \"<->\", md_label, md_test4.similarity(md_label))\n",
        "print(md_test4, \"<->\", md_label2, md_test4.similarity(md_label2))"
      ],
      "execution_count": null,
      "outputs": [
        {
          "output_type": "stream",
          "name": "stdout",
          "text": [
            "vulnerable <-> security 0.44470424491192456\n",
            "vulnerable <-> vulnerability 0.6644242300419219\n"
          ]
        }
      ]
    },
    {
      "cell_type": "code",
      "metadata": {
        "colab": {
          "base_uri": "https://localhost:8080/"
        },
        "id": "xJLOziNva5h_",
        "outputId": "da28755a-89e2-4f5d-d4bf-568cceac382a"
      },
      "source": [
        "print(md_test5, \"<->\", md_label, md_test5.similarity(md_label))\n",
        "print(md_test5, \"<->\", md_label2, md_test5.similarity(md_label2))"
      ],
      "execution_count": null,
      "outputs": [
        {
          "output_type": "stream",
          "name": "stdout",
          "text": [
            "dog <-> security 0.22207311333141674\n",
            "dog <-> vulnerability 0.05948544424415952\n"
          ]
        }
      ]
    },
    {
      "cell_type": "markdown",
      "metadata": {
        "id": "tuYIF7oBj7uW"
      },
      "source": [
        "## Results"
      ]
    },
    {
      "cell_type": "markdown",
      "metadata": {
        "id": "E12Culxbcqz5"
      },
      "source": [
        "Tabular summary of results for small, medium, and large models:"
      ]
    },
    {
      "cell_type": "code",
      "metadata": {
        "id": "5gxV3ZmoceZY"
      },
      "source": [
        "# Suppress warnings from computing similarity using the small model\n",
        "import warnings\n",
        "warnings.filterwarnings('ignore')\n",
        "\n",
        "## Python program to understand the usage of tabulate function for printing tables in a tabular format\n",
        "from tabulate import tabulate\n",
        "sm = [['security', sm_label.similarity(sm_label), sm_label.similarity(sm_label2)],\n",
        "['vulnerbility', sm_label2.similarity(sm_label), sm_label2.similarity(sm_label2)],\n",
        "['bug', sm_test1.similarity(sm_label), sm_test1.similarity(sm_label2)],\n",
        "['insecure', sm_test2.similarity(sm_label), sm_test2.similarity(sm_label2)],\n",
        "['unsafe', sm_test3.similarity(sm_label), sm_test3.similarity(sm_label2)],\n",
        "['vulnerable', sm_test4.similarity(sm_label), sm_test4.similarity(sm_label2)],\n",
        "['dog', sm_test5.similarity(sm_label), sm_test5.similarity(sm_label2)]] "
      ],
      "execution_count": null,
      "outputs": []
    },
    {
      "cell_type": "code",
      "metadata": {
        "id": "93oQ_GWuekTN"
      },
      "source": [
        "## Python program to understand the usage of tabulate function for printing tables in a tabular format\n",
        "from tabulate import tabulate\n",
        "md = [['security', md_label.similarity(md_label), md_label.similarity(md_label2)],\n",
        "['vulnerbility', md_label2.similarity(md_label), md_label2.similarity(md_label2)],\n",
        "['bug', md_test1.similarity(md_label), md_test1.similarity(md_label2)],\n",
        "['insecure', md_test2.similarity(md_label), md_test2.similarity(md_label2)],\n",
        "['unsafe', md_test3.similarity(md_label), md_test3.similarity(md_label2)],\n",
        "['vulnerable', md_test4.similarity(md_label), md_test4.similarity(md_label2)],\n",
        "['dog', md_test5.similarity(md_label), md_test5.similarity(md_label2)]] "
      ],
      "execution_count": null,
      "outputs": []
    },
    {
      "cell_type": "code",
      "metadata": {
        "id": "6KcGez-5hROb"
      },
      "source": [
        "lg = [['security', lg_label.similarity(lg_label), lg_label.similarity(lg_label2)],\n",
        "['vulnerbility', lg_label2.similarity(lg_label), lg_label2.similarity(lg_label2)],\n",
        "['bug', lg_test1.similarity(lg_label), lg_test1.similarity(lg_label2)],\n",
        "['insecure', lg_test2.similarity(lg_label), lg_test2.similarity(lg_label2)],\n",
        "['unsafe', lg_test3.similarity(lg_label), lg_test3.similarity(lg_label2)],\n",
        "['vulnerable', lg_test4.similarity(lg_label), lg_test4.similarity(lg_label2)],\n",
        "['dog', lg_test5.similarity(lg_label), lg_test5.similarity(lg_label2)]] "
      ],
      "execution_count": null,
      "outputs": []
    },
    {
      "cell_type": "code",
      "metadata": {
        "colab": {
          "base_uri": "https://localhost:8080/"
        },
        "id": "9t7xIB-5hoYo",
        "outputId": "8287b3fd-fe05-4614-c07a-851969014bb2"
      },
      "source": [
        "print ('------------------- Similarity Table for Small Model -------------------')\n",
        "print (tabulate(sm, headers=[\"Word\", \"Similarity to 'security'\", \"Similarity to 'vulnerability'\"]))\n",
        "print ()\n",
        "print ('------------------- Similarity Table for Medium Model -------------------')\n",
        "print (tabulate(md, headers=[\"Word\", \"Similarity to 'security'\", \"Similarity to 'vulnerability'\"]))\n",
        "print ()\n",
        "print (\"------------------- Similarity Table for Large Model -------------------\")\n",
        "print (tabulate(lg, headers=[\"Word\", \"Similarity to 'security'\", \"Similarity to 'vulnerability'\"]))"
      ],
      "execution_count": null,
      "outputs": [
        {
          "output_type": "stream",
          "name": "stdout",
          "text": [
            "------------------- Similarity Table for Small Model -------------------\n",
            "Word            Similarity to 'security'    Similarity to 'vulnerability'\n",
            "------------  --------------------------  -------------------------------\n",
            "security                        1                                0.796535\n",
            "vulnerbility                    0.796535                         1\n",
            "bug                             0.674065                         0.568852\n",
            "insecure                        0.653336                         0.705821\n",
            "unsafe                          0.47697                          0.523083\n",
            "vulnerable                      0.524963                         0.50624\n",
            "dog                             0.62599                          0.590497\n",
            "\n",
            "------------------- Similarity Table for Medium Model -------------------\n",
            "Word            Similarity to 'security'    Similarity to 'vulnerability'\n",
            "------------  --------------------------  -------------------------------\n",
            "security                        1                               0.509541\n",
            "vulnerbility                    0.509541                        1\n",
            "bug                             0.294686                        0.399248\n",
            "insecure                        0.366487                        0.474835\n",
            "unsafe                          0.258423                        0.274261\n",
            "vulnerable                      0.444704                        0.664424\n",
            "dog                             0.222073                        0.0594854\n",
            "\n",
            "------------------- Similarity Table for Large Model -------------------\n",
            "Word            Similarity to 'security'    Similarity to 'vulnerability'\n",
            "------------  --------------------------  -------------------------------\n",
            "security                        1                               0.509541\n",
            "vulnerbility                    0.509541                        1\n",
            "bug                             0.294686                        0.399248\n",
            "insecure                        0.366487                        0.474835\n",
            "unsafe                          0.258423                        0.274261\n",
            "vulnerable                      0.444704                        0.664424\n",
            "dog                             0.222073                        0.0594854\n"
          ]
        }
      ]
    },
    {
      "cell_type": "markdown",
      "metadata": {
        "id": "GDpJeptTibxD"
      },
      "source": [
        "The medium and large models perform exactly the same for these basic test cases, indicating that the semantics captured by spaCy can be represented with the fewer parameters included in the medium model. While at first glance the small model appears to perform better for identifying similar words, it also falsely classifies a dissimilar word as very similar to the target words, so the lack of word vectors within the small model make it unsuitable for our purposes."
      ]
    },
    {
      "cell_type": "markdown",
      "metadata": {
        "id": "Vr-y8L2TkF-l"
      },
      "source": [
        "# GloVe"
      ]
    },
    {
      "cell_type": "code",
      "metadata": {
        "colab": {
          "base_uri": "https://localhost:8080/"
        },
        "id": "jqrxVMMGl11W",
        "outputId": "ce552637-0dd4-4fbc-9e0d-a23faa643901"
      },
      "source": [
        "!wget http://nlp.stanford.edu/data/glove.6B.zip"
      ],
      "execution_count": null,
      "outputs": [
        {
          "output_type": "stream",
          "name": "stdout",
          "text": [
            "--2021-10-17 14:11:43--  http://nlp.stanford.edu/data/glove.6B.zip\n",
            "Resolving nlp.stanford.edu (nlp.stanford.edu)... 171.64.67.140\n",
            "Connecting to nlp.stanford.edu (nlp.stanford.edu)|171.64.67.140|:80... connected.\n",
            "HTTP request sent, awaiting response... 302 Found\n",
            "Location: https://nlp.stanford.edu/data/glove.6B.zip [following]\n",
            "--2021-10-17 14:11:43--  https://nlp.stanford.edu/data/glove.6B.zip\n",
            "Connecting to nlp.stanford.edu (nlp.stanford.edu)|171.64.67.140|:443... connected.\n",
            "HTTP request sent, awaiting response... 301 Moved Permanently\n",
            "Location: http://downloads.cs.stanford.edu/nlp/data/glove.6B.zip [following]\n",
            "--2021-10-17 14:11:44--  http://downloads.cs.stanford.edu/nlp/data/glove.6B.zip\n",
            "Resolving downloads.cs.stanford.edu (downloads.cs.stanford.edu)... 171.64.64.22\n",
            "Connecting to downloads.cs.stanford.edu (downloads.cs.stanford.edu)|171.64.64.22|:80... connected.\n",
            "HTTP request sent, awaiting response... 200 OK\n",
            "Length: 862182613 (822M) [application/zip]\n",
            "Saving to: ‘glove.6B.zip’\n",
            "\n",
            "glove.6B.zip        100%[===================>] 822.24M  5.00MB/s    in 2m 40s  \n",
            "\n",
            "2021-10-17 14:14:24 (5.13 MB/s) - ‘glove.6B.zip’ saved [862182613/862182613]\n",
            "\n"
          ]
        }
      ]
    },
    {
      "cell_type": "code",
      "metadata": {
        "colab": {
          "base_uri": "https://localhost:8080/"
        },
        "id": "70z5kyRVmCEU",
        "outputId": "c02deea9-80b4-4fc5-c235-3ab9987d9a12"
      },
      "source": [
        "!unzip glove*.zip"
      ],
      "execution_count": null,
      "outputs": [
        {
          "output_type": "stream",
          "name": "stdout",
          "text": [
            "Archive:  glove.6B.zip\n",
            "  inflating: glove.6B.50d.txt        \n",
            "  inflating: glove.6B.100d.txt       \n",
            "  inflating: glove.6B.200d.txt       \n",
            "  inflating: glove.6B.300d.txt       \n"
          ]
        }
      ]
    },
    {
      "cell_type": "markdown",
      "metadata": {
        "id": "WElgHMIBkM2X"
      },
      "source": [
        "## Experiments"
      ]
    },
    {
      "cell_type": "code",
      "metadata": {
        "id": "9vPo0JAmkIfv"
      },
      "source": [
        ""
      ],
      "execution_count": null,
      "outputs": []
    },
    {
      "cell_type": "markdown",
      "metadata": {
        "id": "kUI3fcBFkOjm"
      },
      "source": [
        "## Results"
      ]
    },
    {
      "cell_type": "code",
      "metadata": {
        "id": "PT6KAna1kPTy"
      },
      "source": [
        ""
      ],
      "execution_count": null,
      "outputs": []
    },
    {
      "cell_type": "markdown",
      "metadata": {
        "id": "f-oQYFPhj6s4"
      },
      "source": [
        "# SpaCy on Real Data"
      ]
    },
    {
      "cell_type": "markdown",
      "metadata": {
        "id": "OI1yGecF8nFz"
      },
      "source": [
        "## Load issue label data"
      ]
    },
    {
      "cell_type": "code",
      "metadata": {
        "colab": {
          "base_uri": "https://localhost:8080/"
        },
        "id": "PMr3wo-VkCmG",
        "outputId": "168b3099-111e-49f4-96cc-1e43dc3ae269"
      },
      "source": [
        "import os\n",
        "\n",
        "INPUT_PATH = \"input\"\n",
        "\n",
        "os.mkdir(INPUT_PATH)\n",
        "\n",
        "print(\"Please place data file with issue labels into the\", INPUT_PATH, \"directory.\")"
      ],
      "execution_count": 1,
      "outputs": [
        {
          "output_type": "stream",
          "name": "stdout",
          "text": [
            "Please place data file with issue labels into the input directory.\n"
          ]
        }
      ]
    },
    {
      "cell_type": "code",
      "metadata": {
        "id": "AK1EuFMIlnQ6"
      },
      "source": [
        "import regex as re\n",
        "\n",
        "def read_file(filename, input_path=INPUT_PATH):\n",
        "  '''\n",
        "  Returns a list of all the labels in the input file\n",
        "  Assumes each line is formatted \"/author/repo\\tlabel1,label2,label3,...\"\n",
        "  '''\n",
        "  p = re.compile(\"/.*/.*\\t((.+,+)*.+)\") # Pattern of each line\n",
        "  labels = set() # The set of issue labels that will be returned\n",
        "\n",
        "  file = open(os.path.join(input_path, filename), 'r')\n",
        "  lines = file.readlines()\n",
        "  for line in lines:\n",
        "    m = p.match(line.strip())\n",
        "    if m is None:\n",
        "      continue\n",
        "    labels_string = m.group(1)\n",
        "    issue_labels = labels_string.split(\",\")\n",
        "    labels.update(issue_labels) # Add this line's labels to set\n",
        "  file.close()\n",
        "  return labels"
      ],
      "execution_count": 2,
      "outputs": []
    },
    {
      "cell_type": "code",
      "metadata": {
        "id": "tnXaUj2qmKgc"
      },
      "source": [
        "labels = read_file(\"demofile3.txt\")"
      ],
      "execution_count": 3,
      "outputs": []
    },
    {
      "cell_type": "code",
      "metadata": {
        "colab": {
          "base_uri": "https://localhost:8080/"
        },
        "id": "JgRIbIze77ml",
        "outputId": "af5ce3dc-851a-4867-f126-0007d1be43f1"
      },
      "source": [
        "count = 0\n",
        "for label in labels:\n",
        "  if count == 10:\n",
        "    break\n",
        "  print(label)\n",
        "  count += 1"
      ],
      "execution_count": null,
      "outputs": [
        {
          "output_type": "stream",
          "name": "stdout",
          "text": [
            "updated\n",
            "In development\n",
            "FW 3.3.0\n",
            "language design :rage4:\n",
            "module: apps\n",
            "A-orchard\n",
            "hotfix\n",
            "Waiting for user\n",
            "cla: no\n",
            "undo-redo\n"
          ]
        }
      ]
    },
    {
      "cell_type": "markdown",
      "metadata": {
        "id": "Jk2bb5_B8sii"
      },
      "source": [
        "## Run SpaCy on the Labels"
      ]
    },
    {
      "cell_type": "code",
      "metadata": {
        "colab": {
          "base_uri": "https://localhost:8080/"
        },
        "id": "VPIIFEAW8Zgm",
        "outputId": "c9405d8b-dac1-43e0-eea9-55048ed1afbe"
      },
      "source": [
        "import spacy\n",
        "!python -m spacy download en_core_web_md\n",
        "import en_core_web_md"
      ],
      "execution_count": 4,
      "outputs": [
        {
          "output_type": "stream",
          "name": "stdout",
          "text": [
            "Collecting en_core_web_md==2.2.5\n",
            "  Downloading https://github.com/explosion/spacy-models/releases/download/en_core_web_md-2.2.5/en_core_web_md-2.2.5.tar.gz (96.4 MB)\n",
            "\u001b[K     |████████████████████████████████| 96.4 MB 2.0 MB/s \n",
            "\u001b[?25hRequirement already satisfied: spacy>=2.2.2 in /usr/local/lib/python3.7/dist-packages (from en_core_web_md==2.2.5) (2.2.4)\n",
            "Requirement already satisfied: plac<1.2.0,>=0.9.6 in /usr/local/lib/python3.7/dist-packages (from spacy>=2.2.2->en_core_web_md==2.2.5) (1.1.3)\n",
            "Requirement already satisfied: tqdm<5.0.0,>=4.38.0 in /usr/local/lib/python3.7/dist-packages (from spacy>=2.2.2->en_core_web_md==2.2.5) (4.62.3)\n",
            "Requirement already satisfied: requests<3.0.0,>=2.13.0 in /usr/local/lib/python3.7/dist-packages (from spacy>=2.2.2->en_core_web_md==2.2.5) (2.23.0)\n",
            "Requirement already satisfied: numpy>=1.15.0 in /usr/local/lib/python3.7/dist-packages (from spacy>=2.2.2->en_core_web_md==2.2.5) (1.19.5)\n",
            "Requirement already satisfied: setuptools in /usr/local/lib/python3.7/dist-packages (from spacy>=2.2.2->en_core_web_md==2.2.5) (57.4.0)\n",
            "Requirement already satisfied: cymem<2.1.0,>=2.0.2 in /usr/local/lib/python3.7/dist-packages (from spacy>=2.2.2->en_core_web_md==2.2.5) (2.0.5)\n",
            "Requirement already satisfied: blis<0.5.0,>=0.4.0 in /usr/local/lib/python3.7/dist-packages (from spacy>=2.2.2->en_core_web_md==2.2.5) (0.4.1)\n",
            "Requirement already satisfied: catalogue<1.1.0,>=0.0.7 in /usr/local/lib/python3.7/dist-packages (from spacy>=2.2.2->en_core_web_md==2.2.5) (1.0.0)\n",
            "Requirement already satisfied: wasabi<1.1.0,>=0.4.0 in /usr/local/lib/python3.7/dist-packages (from spacy>=2.2.2->en_core_web_md==2.2.5) (0.8.2)\n",
            "Requirement already satisfied: preshed<3.1.0,>=3.0.2 in /usr/local/lib/python3.7/dist-packages (from spacy>=2.2.2->en_core_web_md==2.2.5) (3.0.5)\n",
            "Requirement already satisfied: murmurhash<1.1.0,>=0.28.0 in /usr/local/lib/python3.7/dist-packages (from spacy>=2.2.2->en_core_web_md==2.2.5) (1.0.5)\n",
            "Requirement already satisfied: srsly<1.1.0,>=1.0.2 in /usr/local/lib/python3.7/dist-packages (from spacy>=2.2.2->en_core_web_md==2.2.5) (1.0.5)\n",
            "Requirement already satisfied: thinc==7.4.0 in /usr/local/lib/python3.7/dist-packages (from spacy>=2.2.2->en_core_web_md==2.2.5) (7.4.0)\n",
            "Requirement already satisfied: importlib-metadata>=0.20 in /usr/local/lib/python3.7/dist-packages (from catalogue<1.1.0,>=0.0.7->spacy>=2.2.2->en_core_web_md==2.2.5) (4.8.1)\n",
            "Requirement already satisfied: typing-extensions>=3.6.4 in /usr/local/lib/python3.7/dist-packages (from importlib-metadata>=0.20->catalogue<1.1.0,>=0.0.7->spacy>=2.2.2->en_core_web_md==2.2.5) (3.7.4.3)\n",
            "Requirement already satisfied: zipp>=0.5 in /usr/local/lib/python3.7/dist-packages (from importlib-metadata>=0.20->catalogue<1.1.0,>=0.0.7->spacy>=2.2.2->en_core_web_md==2.2.5) (3.6.0)\n",
            "Requirement already satisfied: idna<3,>=2.5 in /usr/local/lib/python3.7/dist-packages (from requests<3.0.0,>=2.13.0->spacy>=2.2.2->en_core_web_md==2.2.5) (2.10)\n",
            "Requirement already satisfied: certifi>=2017.4.17 in /usr/local/lib/python3.7/dist-packages (from requests<3.0.0,>=2.13.0->spacy>=2.2.2->en_core_web_md==2.2.5) (2021.5.30)\n",
            "Requirement already satisfied: chardet<4,>=3.0.2 in /usr/local/lib/python3.7/dist-packages (from requests<3.0.0,>=2.13.0->spacy>=2.2.2->en_core_web_md==2.2.5) (3.0.4)\n",
            "Requirement already satisfied: urllib3!=1.25.0,!=1.25.1,<1.26,>=1.21.1 in /usr/local/lib/python3.7/dist-packages (from requests<3.0.0,>=2.13.0->spacy>=2.2.2->en_core_web_md==2.2.5) (1.24.3)\n",
            "Building wheels for collected packages: en-core-web-md\n",
            "  Building wheel for en-core-web-md (setup.py) ... \u001b[?25l\u001b[?25hdone\n",
            "  Created wheel for en-core-web-md: filename=en_core_web_md-2.2.5-py3-none-any.whl size=98051302 sha256=b1a8fded1f15bbbaeddb417f852b3609c8c1cde1940b1381862437d2f932f5cf\n",
            "  Stored in directory: /tmp/pip-ephem-wheel-cache-oqv8uc87/wheels/69/c5/b8/4f1c029d89238734311b3269762ab2ee325a42da2ce8edb997\n",
            "Successfully built en-core-web-md\n",
            "Installing collected packages: en-core-web-md\n",
            "Successfully installed en-core-web-md-2.2.5\n",
            "\u001b[38;5;2m✔ Download and installation successful\u001b[0m\n",
            "You can now load the model via spacy.load('en_core_web_md')\n"
          ]
        }
      ]
    },
    {
      "cell_type": "code",
      "metadata": {
        "id": "5C1PXoIv9CvD"
      },
      "source": [
        "nlp_md = en_core_web_md.load()"
      ],
      "execution_count": 5,
      "outputs": []
    },
    {
      "cell_type": "code",
      "metadata": {
        "id": "JiDHmYw6-lgW"
      },
      "source": [
        "security = nlp_md(\"security\")\n",
        "vulnerability = nlp_md(\"vulnerability\")"
      ],
      "execution_count": 6,
      "outputs": []
    },
    {
      "cell_type": "code",
      "metadata": {
        "colab": {
          "base_uri": "https://localhost:8080/"
        },
        "id": "dAFlmvJZ-S0v",
        "outputId": "f9a07d49-8146-4191-8d45-979f1ad4abb5"
      },
      "source": [
        "similarities = [] # List of tuples: (label, security_similarity, vulnerability_similarity)\n",
        "for label in labels:\n",
        "  enc_label = nlp_md(label)\n",
        "  similarities.append((label, enc_label.similarity(security), enc_label.similarity(vulnerability)))"
      ],
      "execution_count": 7,
      "outputs": [
        {
          "output_type": "stream",
          "name": "stderr",
          "text": [
            "/usr/lib/python3.7/runpy.py:193: UserWarning: [W008] Evaluating Doc.similarity based on empty vectors.\n",
            "  \"__main__\", mod_spec)\n",
            "/usr/lib/python3.7/runpy.py:193: UserWarning: [W008] Evaluating Doc.similarity based on empty vectors.\n",
            "  \"__main__\", mod_spec)\n",
            "/usr/lib/python3.7/runpy.py:193: UserWarning: [W008] Evaluating Doc.similarity based on empty vectors.\n",
            "  \"__main__\", mod_spec)\n",
            "/usr/lib/python3.7/runpy.py:193: UserWarning: [W008] Evaluating Doc.similarity based on empty vectors.\n",
            "  \"__main__\", mod_spec)\n",
            "/usr/lib/python3.7/runpy.py:193: UserWarning: [W008] Evaluating Doc.similarity based on empty vectors.\n",
            "  \"__main__\", mod_spec)\n",
            "/usr/lib/python3.7/runpy.py:193: UserWarning: [W008] Evaluating Doc.similarity based on empty vectors.\n",
            "  \"__main__\", mod_spec)\n",
            "/usr/lib/python3.7/runpy.py:193: UserWarning: [W008] Evaluating Doc.similarity based on empty vectors.\n",
            "  \"__main__\", mod_spec)\n",
            "/usr/lib/python3.7/runpy.py:193: UserWarning: [W008] Evaluating Doc.similarity based on empty vectors.\n",
            "  \"__main__\", mod_spec)\n",
            "/usr/lib/python3.7/runpy.py:193: UserWarning: [W008] Evaluating Doc.similarity based on empty vectors.\n",
            "  \"__main__\", mod_spec)\n",
            "/usr/lib/python3.7/runpy.py:193: UserWarning: [W008] Evaluating Doc.similarity based on empty vectors.\n",
            "  \"__main__\", mod_spec)\n",
            "/usr/lib/python3.7/runpy.py:193: UserWarning: [W008] Evaluating Doc.similarity based on empty vectors.\n",
            "  \"__main__\", mod_spec)\n",
            "/usr/lib/python3.7/runpy.py:193: UserWarning: [W008] Evaluating Doc.similarity based on empty vectors.\n",
            "  \"__main__\", mod_spec)\n",
            "/usr/lib/python3.7/runpy.py:193: UserWarning: [W008] Evaluating Doc.similarity based on empty vectors.\n",
            "  \"__main__\", mod_spec)\n",
            "/usr/lib/python3.7/runpy.py:193: UserWarning: [W008] Evaluating Doc.similarity based on empty vectors.\n",
            "  \"__main__\", mod_spec)\n",
            "/usr/lib/python3.7/runpy.py:193: UserWarning: [W008] Evaluating Doc.similarity based on empty vectors.\n",
            "  \"__main__\", mod_spec)\n",
            "/usr/lib/python3.7/runpy.py:193: UserWarning: [W008] Evaluating Doc.similarity based on empty vectors.\n",
            "  \"__main__\", mod_spec)\n",
            "/usr/lib/python3.7/runpy.py:193: UserWarning: [W008] Evaluating Doc.similarity based on empty vectors.\n",
            "  \"__main__\", mod_spec)\n",
            "/usr/lib/python3.7/runpy.py:193: UserWarning: [W008] Evaluating Doc.similarity based on empty vectors.\n",
            "  \"__main__\", mod_spec)\n",
            "/usr/lib/python3.7/runpy.py:193: UserWarning: [W008] Evaluating Doc.similarity based on empty vectors.\n",
            "  \"__main__\", mod_spec)\n",
            "/usr/lib/python3.7/runpy.py:193: UserWarning: [W008] Evaluating Doc.similarity based on empty vectors.\n",
            "  \"__main__\", mod_spec)\n",
            "/usr/lib/python3.7/runpy.py:193: UserWarning: [W008] Evaluating Doc.similarity based on empty vectors.\n",
            "  \"__main__\", mod_spec)\n",
            "/usr/lib/python3.7/runpy.py:193: UserWarning: [W008] Evaluating Doc.similarity based on empty vectors.\n",
            "  \"__main__\", mod_spec)\n",
            "/usr/lib/python3.7/runpy.py:193: UserWarning: [W008] Evaluating Doc.similarity based on empty vectors.\n",
            "  \"__main__\", mod_spec)\n",
            "/usr/lib/python3.7/runpy.py:193: UserWarning: [W008] Evaluating Doc.similarity based on empty vectors.\n",
            "  \"__main__\", mod_spec)\n",
            "/usr/lib/python3.7/runpy.py:193: UserWarning: [W008] Evaluating Doc.similarity based on empty vectors.\n",
            "  \"__main__\", mod_spec)\n",
            "/usr/lib/python3.7/runpy.py:193: UserWarning: [W008] Evaluating Doc.similarity based on empty vectors.\n",
            "  \"__main__\", mod_spec)\n",
            "/usr/lib/python3.7/runpy.py:193: UserWarning: [W008] Evaluating Doc.similarity based on empty vectors.\n",
            "  \"__main__\", mod_spec)\n",
            "/usr/lib/python3.7/runpy.py:193: UserWarning: [W008] Evaluating Doc.similarity based on empty vectors.\n",
            "  \"__main__\", mod_spec)\n",
            "/usr/lib/python3.7/runpy.py:193: UserWarning: [W008] Evaluating Doc.similarity based on empty vectors.\n",
            "  \"__main__\", mod_spec)\n",
            "/usr/lib/python3.7/runpy.py:193: UserWarning: [W008] Evaluating Doc.similarity based on empty vectors.\n",
            "  \"__main__\", mod_spec)\n",
            "/usr/lib/python3.7/runpy.py:193: UserWarning: [W008] Evaluating Doc.similarity based on empty vectors.\n",
            "  \"__main__\", mod_spec)\n",
            "/usr/lib/python3.7/runpy.py:193: UserWarning: [W008] Evaluating Doc.similarity based on empty vectors.\n",
            "  \"__main__\", mod_spec)\n",
            "/usr/lib/python3.7/runpy.py:193: UserWarning: [W008] Evaluating Doc.similarity based on empty vectors.\n",
            "  \"__main__\", mod_spec)\n",
            "/usr/lib/python3.7/runpy.py:193: UserWarning: [W008] Evaluating Doc.similarity based on empty vectors.\n",
            "  \"__main__\", mod_spec)\n",
            "/usr/lib/python3.7/runpy.py:193: UserWarning: [W008] Evaluating Doc.similarity based on empty vectors.\n",
            "  \"__main__\", mod_spec)\n",
            "/usr/lib/python3.7/runpy.py:193: UserWarning: [W008] Evaluating Doc.similarity based on empty vectors.\n",
            "  \"__main__\", mod_spec)\n",
            "/usr/lib/python3.7/runpy.py:193: UserWarning: [W008] Evaluating Doc.similarity based on empty vectors.\n",
            "  \"__main__\", mod_spec)\n",
            "/usr/lib/python3.7/runpy.py:193: UserWarning: [W008] Evaluating Doc.similarity based on empty vectors.\n",
            "  \"__main__\", mod_spec)\n",
            "/usr/lib/python3.7/runpy.py:193: UserWarning: [W008] Evaluating Doc.similarity based on empty vectors.\n",
            "  \"__main__\", mod_spec)\n",
            "/usr/lib/python3.7/runpy.py:193: UserWarning: [W008] Evaluating Doc.similarity based on empty vectors.\n",
            "  \"__main__\", mod_spec)\n",
            "/usr/lib/python3.7/runpy.py:193: UserWarning: [W008] Evaluating Doc.similarity based on empty vectors.\n",
            "  \"__main__\", mod_spec)\n",
            "/usr/lib/python3.7/runpy.py:193: UserWarning: [W008] Evaluating Doc.similarity based on empty vectors.\n",
            "  \"__main__\", mod_spec)\n",
            "/usr/lib/python3.7/runpy.py:193: UserWarning: [W008] Evaluating Doc.similarity based on empty vectors.\n",
            "  \"__main__\", mod_spec)\n",
            "/usr/lib/python3.7/runpy.py:193: UserWarning: [W008] Evaluating Doc.similarity based on empty vectors.\n",
            "  \"__main__\", mod_spec)\n",
            "/usr/lib/python3.7/runpy.py:193: UserWarning: [W008] Evaluating Doc.similarity based on empty vectors.\n",
            "  \"__main__\", mod_spec)\n",
            "/usr/lib/python3.7/runpy.py:193: UserWarning: [W008] Evaluating Doc.similarity based on empty vectors.\n",
            "  \"__main__\", mod_spec)\n",
            "/usr/lib/python3.7/runpy.py:193: UserWarning: [W008] Evaluating Doc.similarity based on empty vectors.\n",
            "  \"__main__\", mod_spec)\n",
            "/usr/lib/python3.7/runpy.py:193: UserWarning: [W008] Evaluating Doc.similarity based on empty vectors.\n",
            "  \"__main__\", mod_spec)\n",
            "/usr/lib/python3.7/runpy.py:193: UserWarning: [W008] Evaluating Doc.similarity based on empty vectors.\n",
            "  \"__main__\", mod_spec)\n",
            "/usr/lib/python3.7/runpy.py:193: UserWarning: [W008] Evaluating Doc.similarity based on empty vectors.\n",
            "  \"__main__\", mod_spec)\n",
            "/usr/lib/python3.7/runpy.py:193: UserWarning: [W008] Evaluating Doc.similarity based on empty vectors.\n",
            "  \"__main__\", mod_spec)\n",
            "/usr/lib/python3.7/runpy.py:193: UserWarning: [W008] Evaluating Doc.similarity based on empty vectors.\n",
            "  \"__main__\", mod_spec)\n",
            "/usr/lib/python3.7/runpy.py:193: UserWarning: [W008] Evaluating Doc.similarity based on empty vectors.\n",
            "  \"__main__\", mod_spec)\n",
            "/usr/lib/python3.7/runpy.py:193: UserWarning: [W008] Evaluating Doc.similarity based on empty vectors.\n",
            "  \"__main__\", mod_spec)\n",
            "/usr/lib/python3.7/runpy.py:193: UserWarning: [W008] Evaluating Doc.similarity based on empty vectors.\n",
            "  \"__main__\", mod_spec)\n",
            "/usr/lib/python3.7/runpy.py:193: UserWarning: [W008] Evaluating Doc.similarity based on empty vectors.\n",
            "  \"__main__\", mod_spec)\n",
            "/usr/lib/python3.7/runpy.py:193: UserWarning: [W008] Evaluating Doc.similarity based on empty vectors.\n",
            "  \"__main__\", mod_spec)\n",
            "/usr/lib/python3.7/runpy.py:193: UserWarning: [W008] Evaluating Doc.similarity based on empty vectors.\n",
            "  \"__main__\", mod_spec)\n",
            "/usr/lib/python3.7/runpy.py:193: UserWarning: [W008] Evaluating Doc.similarity based on empty vectors.\n",
            "  \"__main__\", mod_spec)\n",
            "/usr/lib/python3.7/runpy.py:193: UserWarning: [W008] Evaluating Doc.similarity based on empty vectors.\n",
            "  \"__main__\", mod_spec)\n",
            "/usr/lib/python3.7/runpy.py:193: UserWarning: [W008] Evaluating Doc.similarity based on empty vectors.\n",
            "  \"__main__\", mod_spec)\n",
            "/usr/lib/python3.7/runpy.py:193: UserWarning: [W008] Evaluating Doc.similarity based on empty vectors.\n",
            "  \"__main__\", mod_spec)\n",
            "/usr/lib/python3.7/runpy.py:193: UserWarning: [W008] Evaluating Doc.similarity based on empty vectors.\n",
            "  \"__main__\", mod_spec)\n",
            "/usr/lib/python3.7/runpy.py:193: UserWarning: [W008] Evaluating Doc.similarity based on empty vectors.\n",
            "  \"__main__\", mod_spec)\n",
            "/usr/lib/python3.7/runpy.py:193: UserWarning: [W008] Evaluating Doc.similarity based on empty vectors.\n",
            "  \"__main__\", mod_spec)\n",
            "/usr/lib/python3.7/runpy.py:193: UserWarning: [W008] Evaluating Doc.similarity based on empty vectors.\n",
            "  \"__main__\", mod_spec)\n",
            "/usr/lib/python3.7/runpy.py:193: UserWarning: [W008] Evaluating Doc.similarity based on empty vectors.\n",
            "  \"__main__\", mod_spec)\n",
            "/usr/lib/python3.7/runpy.py:193: UserWarning: [W008] Evaluating Doc.similarity based on empty vectors.\n",
            "  \"__main__\", mod_spec)\n",
            "/usr/lib/python3.7/runpy.py:193: UserWarning: [W008] Evaluating Doc.similarity based on empty vectors.\n",
            "  \"__main__\", mod_spec)\n",
            "/usr/lib/python3.7/runpy.py:193: UserWarning: [W008] Evaluating Doc.similarity based on empty vectors.\n",
            "  \"__main__\", mod_spec)\n",
            "/usr/lib/python3.7/runpy.py:193: UserWarning: [W008] Evaluating Doc.similarity based on empty vectors.\n",
            "  \"__main__\", mod_spec)\n",
            "/usr/lib/python3.7/runpy.py:193: UserWarning: [W008] Evaluating Doc.similarity based on empty vectors.\n",
            "  \"__main__\", mod_spec)\n",
            "/usr/lib/python3.7/runpy.py:193: UserWarning: [W008] Evaluating Doc.similarity based on empty vectors.\n",
            "  \"__main__\", mod_spec)\n",
            "/usr/lib/python3.7/runpy.py:193: UserWarning: [W008] Evaluating Doc.similarity based on empty vectors.\n",
            "  \"__main__\", mod_spec)\n",
            "/usr/lib/python3.7/runpy.py:193: UserWarning: [W008] Evaluating Doc.similarity based on empty vectors.\n",
            "  \"__main__\", mod_spec)\n",
            "/usr/lib/python3.7/runpy.py:193: UserWarning: [W008] Evaluating Doc.similarity based on empty vectors.\n",
            "  \"__main__\", mod_spec)\n",
            "/usr/lib/python3.7/runpy.py:193: UserWarning: [W008] Evaluating Doc.similarity based on empty vectors.\n",
            "  \"__main__\", mod_spec)\n",
            "/usr/lib/python3.7/runpy.py:193: UserWarning: [W008] Evaluating Doc.similarity based on empty vectors.\n",
            "  \"__main__\", mod_spec)\n",
            "/usr/lib/python3.7/runpy.py:193: UserWarning: [W008] Evaluating Doc.similarity based on empty vectors.\n",
            "  \"__main__\", mod_spec)\n",
            "/usr/lib/python3.7/runpy.py:193: UserWarning: [W008] Evaluating Doc.similarity based on empty vectors.\n",
            "  \"__main__\", mod_spec)\n",
            "/usr/lib/python3.7/runpy.py:193: UserWarning: [W008] Evaluating Doc.similarity based on empty vectors.\n",
            "  \"__main__\", mod_spec)\n",
            "/usr/lib/python3.7/runpy.py:193: UserWarning: [W008] Evaluating Doc.similarity based on empty vectors.\n",
            "  \"__main__\", mod_spec)\n",
            "/usr/lib/python3.7/runpy.py:193: UserWarning: [W008] Evaluating Doc.similarity based on empty vectors.\n",
            "  \"__main__\", mod_spec)\n",
            "/usr/lib/python3.7/runpy.py:193: UserWarning: [W008] Evaluating Doc.similarity based on empty vectors.\n",
            "  \"__main__\", mod_spec)\n",
            "/usr/lib/python3.7/runpy.py:193: UserWarning: [W008] Evaluating Doc.similarity based on empty vectors.\n",
            "  \"__main__\", mod_spec)\n",
            "/usr/lib/python3.7/runpy.py:193: UserWarning: [W008] Evaluating Doc.similarity based on empty vectors.\n",
            "  \"__main__\", mod_spec)\n",
            "/usr/lib/python3.7/runpy.py:193: UserWarning: [W008] Evaluating Doc.similarity based on empty vectors.\n",
            "  \"__main__\", mod_spec)\n",
            "/usr/lib/python3.7/runpy.py:193: UserWarning: [W008] Evaluating Doc.similarity based on empty vectors.\n",
            "  \"__main__\", mod_spec)\n",
            "/usr/lib/python3.7/runpy.py:193: UserWarning: [W008] Evaluating Doc.similarity based on empty vectors.\n",
            "  \"__main__\", mod_spec)\n",
            "/usr/lib/python3.7/runpy.py:193: UserWarning: [W008] Evaluating Doc.similarity based on empty vectors.\n",
            "  \"__main__\", mod_spec)\n",
            "/usr/lib/python3.7/runpy.py:193: UserWarning: [W008] Evaluating Doc.similarity based on empty vectors.\n",
            "  \"__main__\", mod_spec)\n",
            "/usr/lib/python3.7/runpy.py:193: UserWarning: [W008] Evaluating Doc.similarity based on empty vectors.\n",
            "  \"__main__\", mod_spec)\n",
            "/usr/lib/python3.7/runpy.py:193: UserWarning: [W008] Evaluating Doc.similarity based on empty vectors.\n",
            "  \"__main__\", mod_spec)\n",
            "/usr/lib/python3.7/runpy.py:193: UserWarning: [W008] Evaluating Doc.similarity based on empty vectors.\n",
            "  \"__main__\", mod_spec)\n",
            "/usr/lib/python3.7/runpy.py:193: UserWarning: [W008] Evaluating Doc.similarity based on empty vectors.\n",
            "  \"__main__\", mod_spec)\n",
            "/usr/lib/python3.7/runpy.py:193: UserWarning: [W008] Evaluating Doc.similarity based on empty vectors.\n",
            "  \"__main__\", mod_spec)\n",
            "/usr/lib/python3.7/runpy.py:193: UserWarning: [W008] Evaluating Doc.similarity based on empty vectors.\n",
            "  \"__main__\", mod_spec)\n",
            "/usr/lib/python3.7/runpy.py:193: UserWarning: [W008] Evaluating Doc.similarity based on empty vectors.\n",
            "  \"__main__\", mod_spec)\n",
            "/usr/lib/python3.7/runpy.py:193: UserWarning: [W008] Evaluating Doc.similarity based on empty vectors.\n",
            "  \"__main__\", mod_spec)\n",
            "/usr/lib/python3.7/runpy.py:193: UserWarning: [W008] Evaluating Doc.similarity based on empty vectors.\n",
            "  \"__main__\", mod_spec)\n",
            "/usr/lib/python3.7/runpy.py:193: UserWarning: [W008] Evaluating Doc.similarity based on empty vectors.\n",
            "  \"__main__\", mod_spec)\n",
            "/usr/lib/python3.7/runpy.py:193: UserWarning: [W008] Evaluating Doc.similarity based on empty vectors.\n",
            "  \"__main__\", mod_spec)\n",
            "/usr/lib/python3.7/runpy.py:193: UserWarning: [W008] Evaluating Doc.similarity based on empty vectors.\n",
            "  \"__main__\", mod_spec)\n",
            "/usr/lib/python3.7/runpy.py:193: UserWarning: [W008] Evaluating Doc.similarity based on empty vectors.\n",
            "  \"__main__\", mod_spec)\n",
            "/usr/lib/python3.7/runpy.py:193: UserWarning: [W008] Evaluating Doc.similarity based on empty vectors.\n",
            "  \"__main__\", mod_spec)\n",
            "/usr/lib/python3.7/runpy.py:193: UserWarning: [W008] Evaluating Doc.similarity based on empty vectors.\n",
            "  \"__main__\", mod_spec)\n",
            "/usr/lib/python3.7/runpy.py:193: UserWarning: [W008] Evaluating Doc.similarity based on empty vectors.\n",
            "  \"__main__\", mod_spec)\n",
            "/usr/lib/python3.7/runpy.py:193: UserWarning: [W008] Evaluating Doc.similarity based on empty vectors.\n",
            "  \"__main__\", mod_spec)\n",
            "/usr/lib/python3.7/runpy.py:193: UserWarning: [W008] Evaluating Doc.similarity based on empty vectors.\n",
            "  \"__main__\", mod_spec)\n",
            "/usr/lib/python3.7/runpy.py:193: UserWarning: [W008] Evaluating Doc.similarity based on empty vectors.\n",
            "  \"__main__\", mod_spec)\n",
            "/usr/lib/python3.7/runpy.py:193: UserWarning: [W008] Evaluating Doc.similarity based on empty vectors.\n",
            "  \"__main__\", mod_spec)\n",
            "/usr/lib/python3.7/runpy.py:193: UserWarning: [W008] Evaluating Doc.similarity based on empty vectors.\n",
            "  \"__main__\", mod_spec)\n",
            "/usr/lib/python3.7/runpy.py:193: UserWarning: [W008] Evaluating Doc.similarity based on empty vectors.\n",
            "  \"__main__\", mod_spec)\n",
            "/usr/lib/python3.7/runpy.py:193: UserWarning: [W008] Evaluating Doc.similarity based on empty vectors.\n",
            "  \"__main__\", mod_spec)\n",
            "/usr/lib/python3.7/runpy.py:193: UserWarning: [W008] Evaluating Doc.similarity based on empty vectors.\n",
            "  \"__main__\", mod_spec)\n",
            "/usr/lib/python3.7/runpy.py:193: UserWarning: [W008] Evaluating Doc.similarity based on empty vectors.\n",
            "  \"__main__\", mod_spec)\n",
            "/usr/lib/python3.7/runpy.py:193: UserWarning: [W008] Evaluating Doc.similarity based on empty vectors.\n",
            "  \"__main__\", mod_spec)\n",
            "/usr/lib/python3.7/runpy.py:193: UserWarning: [W008] Evaluating Doc.similarity based on empty vectors.\n",
            "  \"__main__\", mod_spec)\n",
            "/usr/lib/python3.7/runpy.py:193: UserWarning: [W008] Evaluating Doc.similarity based on empty vectors.\n",
            "  \"__main__\", mod_spec)\n",
            "/usr/lib/python3.7/runpy.py:193: UserWarning: [W008] Evaluating Doc.similarity based on empty vectors.\n",
            "  \"__main__\", mod_spec)\n",
            "/usr/lib/python3.7/runpy.py:193: UserWarning: [W008] Evaluating Doc.similarity based on empty vectors.\n",
            "  \"__main__\", mod_spec)\n",
            "/usr/lib/python3.7/runpy.py:193: UserWarning: [W008] Evaluating Doc.similarity based on empty vectors.\n",
            "  \"__main__\", mod_spec)\n",
            "/usr/lib/python3.7/runpy.py:193: UserWarning: [W008] Evaluating Doc.similarity based on empty vectors.\n",
            "  \"__main__\", mod_spec)\n",
            "/usr/lib/python3.7/runpy.py:193: UserWarning: [W008] Evaluating Doc.similarity based on empty vectors.\n",
            "  \"__main__\", mod_spec)\n",
            "/usr/lib/python3.7/runpy.py:193: UserWarning: [W008] Evaluating Doc.similarity based on empty vectors.\n",
            "  \"__main__\", mod_spec)\n",
            "/usr/lib/python3.7/runpy.py:193: UserWarning: [W008] Evaluating Doc.similarity based on empty vectors.\n",
            "  \"__main__\", mod_spec)\n",
            "/usr/lib/python3.7/runpy.py:193: UserWarning: [W008] Evaluating Doc.similarity based on empty vectors.\n",
            "  \"__main__\", mod_spec)\n",
            "/usr/lib/python3.7/runpy.py:193: UserWarning: [W008] Evaluating Doc.similarity based on empty vectors.\n",
            "  \"__main__\", mod_spec)\n",
            "/usr/lib/python3.7/runpy.py:193: UserWarning: [W008] Evaluating Doc.similarity based on empty vectors.\n",
            "  \"__main__\", mod_spec)\n",
            "/usr/lib/python3.7/runpy.py:193: UserWarning: [W008] Evaluating Doc.similarity based on empty vectors.\n",
            "  \"__main__\", mod_spec)\n",
            "/usr/lib/python3.7/runpy.py:193: UserWarning: [W008] Evaluating Doc.similarity based on empty vectors.\n",
            "  \"__main__\", mod_spec)\n",
            "/usr/lib/python3.7/runpy.py:193: UserWarning: [W008] Evaluating Doc.similarity based on empty vectors.\n",
            "  \"__main__\", mod_spec)\n",
            "/usr/lib/python3.7/runpy.py:193: UserWarning: [W008] Evaluating Doc.similarity based on empty vectors.\n",
            "  \"__main__\", mod_spec)\n",
            "/usr/lib/python3.7/runpy.py:193: UserWarning: [W008] Evaluating Doc.similarity based on empty vectors.\n",
            "  \"__main__\", mod_spec)\n",
            "/usr/lib/python3.7/runpy.py:193: UserWarning: [W008] Evaluating Doc.similarity based on empty vectors.\n",
            "  \"__main__\", mod_spec)\n",
            "/usr/lib/python3.7/runpy.py:193: UserWarning: [W008] Evaluating Doc.similarity based on empty vectors.\n",
            "  \"__main__\", mod_spec)\n",
            "/usr/lib/python3.7/runpy.py:193: UserWarning: [W008] Evaluating Doc.similarity based on empty vectors.\n",
            "  \"__main__\", mod_spec)\n",
            "/usr/lib/python3.7/runpy.py:193: UserWarning: [W008] Evaluating Doc.similarity based on empty vectors.\n",
            "  \"__main__\", mod_spec)\n",
            "/usr/lib/python3.7/runpy.py:193: UserWarning: [W008] Evaluating Doc.similarity based on empty vectors.\n",
            "  \"__main__\", mod_spec)\n",
            "/usr/lib/python3.7/runpy.py:193: UserWarning: [W008] Evaluating Doc.similarity based on empty vectors.\n",
            "  \"__main__\", mod_spec)\n",
            "/usr/lib/python3.7/runpy.py:193: UserWarning: [W008] Evaluating Doc.similarity based on empty vectors.\n",
            "  \"__main__\", mod_spec)\n",
            "/usr/lib/python3.7/runpy.py:193: UserWarning: [W008] Evaluating Doc.similarity based on empty vectors.\n",
            "  \"__main__\", mod_spec)\n",
            "/usr/lib/python3.7/runpy.py:193: UserWarning: [W008] Evaluating Doc.similarity based on empty vectors.\n",
            "  \"__main__\", mod_spec)\n",
            "/usr/lib/python3.7/runpy.py:193: UserWarning: [W008] Evaluating Doc.similarity based on empty vectors.\n",
            "  \"__main__\", mod_spec)\n",
            "/usr/lib/python3.7/runpy.py:193: UserWarning: [W008] Evaluating Doc.similarity based on empty vectors.\n",
            "  \"__main__\", mod_spec)\n",
            "/usr/lib/python3.7/runpy.py:193: UserWarning: [W008] Evaluating Doc.similarity based on empty vectors.\n",
            "  \"__main__\", mod_spec)\n",
            "/usr/lib/python3.7/runpy.py:193: UserWarning: [W008] Evaluating Doc.similarity based on empty vectors.\n",
            "  \"__main__\", mod_spec)\n",
            "/usr/lib/python3.7/runpy.py:193: UserWarning: [W008] Evaluating Doc.similarity based on empty vectors.\n",
            "  \"__main__\", mod_spec)\n",
            "/usr/lib/python3.7/runpy.py:193: UserWarning: [W008] Evaluating Doc.similarity based on empty vectors.\n",
            "  \"__main__\", mod_spec)\n",
            "/usr/lib/python3.7/runpy.py:193: UserWarning: [W008] Evaluating Doc.similarity based on empty vectors.\n",
            "  \"__main__\", mod_spec)\n",
            "/usr/lib/python3.7/runpy.py:193: UserWarning: [W008] Evaluating Doc.similarity based on empty vectors.\n",
            "  \"__main__\", mod_spec)\n",
            "/usr/lib/python3.7/runpy.py:193: UserWarning: [W008] Evaluating Doc.similarity based on empty vectors.\n",
            "  \"__main__\", mod_spec)\n",
            "/usr/lib/python3.7/runpy.py:193: UserWarning: [W008] Evaluating Doc.similarity based on empty vectors.\n",
            "  \"__main__\", mod_spec)\n",
            "/usr/lib/python3.7/runpy.py:193: UserWarning: [W008] Evaluating Doc.similarity based on empty vectors.\n",
            "  \"__main__\", mod_spec)\n",
            "/usr/lib/python3.7/runpy.py:193: UserWarning: [W008] Evaluating Doc.similarity based on empty vectors.\n",
            "  \"__main__\", mod_spec)\n",
            "/usr/lib/python3.7/runpy.py:193: UserWarning: [W008] Evaluating Doc.similarity based on empty vectors.\n",
            "  \"__main__\", mod_spec)\n",
            "/usr/lib/python3.7/runpy.py:193: UserWarning: [W008] Evaluating Doc.similarity based on empty vectors.\n",
            "  \"__main__\", mod_spec)\n",
            "/usr/lib/python3.7/runpy.py:193: UserWarning: [W008] Evaluating Doc.similarity based on empty vectors.\n",
            "  \"__main__\", mod_spec)\n",
            "/usr/lib/python3.7/runpy.py:193: UserWarning: [W008] Evaluating Doc.similarity based on empty vectors.\n",
            "  \"__main__\", mod_spec)\n",
            "/usr/lib/python3.7/runpy.py:193: UserWarning: [W008] Evaluating Doc.similarity based on empty vectors.\n",
            "  \"__main__\", mod_spec)\n",
            "/usr/lib/python3.7/runpy.py:193: UserWarning: [W008] Evaluating Doc.similarity based on empty vectors.\n",
            "  \"__main__\", mod_spec)\n",
            "/usr/lib/python3.7/runpy.py:193: UserWarning: [W008] Evaluating Doc.similarity based on empty vectors.\n",
            "  \"__main__\", mod_spec)\n",
            "/usr/lib/python3.7/runpy.py:193: UserWarning: [W008] Evaluating Doc.similarity based on empty vectors.\n",
            "  \"__main__\", mod_spec)\n",
            "/usr/lib/python3.7/runpy.py:193: UserWarning: [W008] Evaluating Doc.similarity based on empty vectors.\n",
            "  \"__main__\", mod_spec)\n",
            "/usr/lib/python3.7/runpy.py:193: UserWarning: [W008] Evaluating Doc.similarity based on empty vectors.\n",
            "  \"__main__\", mod_spec)\n",
            "/usr/lib/python3.7/runpy.py:193: UserWarning: [W008] Evaluating Doc.similarity based on empty vectors.\n",
            "  \"__main__\", mod_spec)\n",
            "/usr/lib/python3.7/runpy.py:193: UserWarning: [W008] Evaluating Doc.similarity based on empty vectors.\n",
            "  \"__main__\", mod_spec)\n",
            "/usr/lib/python3.7/runpy.py:193: UserWarning: [W008] Evaluating Doc.similarity based on empty vectors.\n",
            "  \"__main__\", mod_spec)\n",
            "/usr/lib/python3.7/runpy.py:193: UserWarning: [W008] Evaluating Doc.similarity based on empty vectors.\n",
            "  \"__main__\", mod_spec)\n",
            "/usr/lib/python3.7/runpy.py:193: UserWarning: [W008] Evaluating Doc.similarity based on empty vectors.\n",
            "  \"__main__\", mod_spec)\n",
            "/usr/lib/python3.7/runpy.py:193: UserWarning: [W008] Evaluating Doc.similarity based on empty vectors.\n",
            "  \"__main__\", mod_spec)\n",
            "/usr/lib/python3.7/runpy.py:193: UserWarning: [W008] Evaluating Doc.similarity based on empty vectors.\n",
            "  \"__main__\", mod_spec)\n",
            "/usr/lib/python3.7/runpy.py:193: UserWarning: [W008] Evaluating Doc.similarity based on empty vectors.\n",
            "  \"__main__\", mod_spec)\n",
            "/usr/lib/python3.7/runpy.py:193: UserWarning: [W008] Evaluating Doc.similarity based on empty vectors.\n",
            "  \"__main__\", mod_spec)\n",
            "/usr/lib/python3.7/runpy.py:193: UserWarning: [W008] Evaluating Doc.similarity based on empty vectors.\n",
            "  \"__main__\", mod_spec)\n",
            "/usr/lib/python3.7/runpy.py:193: UserWarning: [W008] Evaluating Doc.similarity based on empty vectors.\n",
            "  \"__main__\", mod_spec)\n",
            "/usr/lib/python3.7/runpy.py:193: UserWarning: [W008] Evaluating Doc.similarity based on empty vectors.\n",
            "  \"__main__\", mod_spec)\n",
            "/usr/lib/python3.7/runpy.py:193: UserWarning: [W008] Evaluating Doc.similarity based on empty vectors.\n",
            "  \"__main__\", mod_spec)\n",
            "/usr/lib/python3.7/runpy.py:193: UserWarning: [W008] Evaluating Doc.similarity based on empty vectors.\n",
            "  \"__main__\", mod_spec)\n",
            "/usr/lib/python3.7/runpy.py:193: UserWarning: [W008] Evaluating Doc.similarity based on empty vectors.\n",
            "  \"__main__\", mod_spec)\n",
            "/usr/lib/python3.7/runpy.py:193: UserWarning: [W008] Evaluating Doc.similarity based on empty vectors.\n",
            "  \"__main__\", mod_spec)\n",
            "/usr/lib/python3.7/runpy.py:193: UserWarning: [W008] Evaluating Doc.similarity based on empty vectors.\n",
            "  \"__main__\", mod_spec)\n",
            "/usr/lib/python3.7/runpy.py:193: UserWarning: [W008] Evaluating Doc.similarity based on empty vectors.\n",
            "  \"__main__\", mod_spec)\n",
            "/usr/lib/python3.7/runpy.py:193: UserWarning: [W008] Evaluating Doc.similarity based on empty vectors.\n",
            "  \"__main__\", mod_spec)\n",
            "/usr/lib/python3.7/runpy.py:193: UserWarning: [W008] Evaluating Doc.similarity based on empty vectors.\n",
            "  \"__main__\", mod_spec)\n",
            "/usr/lib/python3.7/runpy.py:193: UserWarning: [W008] Evaluating Doc.similarity based on empty vectors.\n",
            "  \"__main__\", mod_spec)\n",
            "/usr/lib/python3.7/runpy.py:193: UserWarning: [W008] Evaluating Doc.similarity based on empty vectors.\n",
            "  \"__main__\", mod_spec)\n",
            "/usr/lib/python3.7/runpy.py:193: UserWarning: [W008] Evaluating Doc.similarity based on empty vectors.\n",
            "  \"__main__\", mod_spec)\n",
            "/usr/lib/python3.7/runpy.py:193: UserWarning: [W008] Evaluating Doc.similarity based on empty vectors.\n",
            "  \"__main__\", mod_spec)\n",
            "/usr/lib/python3.7/runpy.py:193: UserWarning: [W008] Evaluating Doc.similarity based on empty vectors.\n",
            "  \"__main__\", mod_spec)\n",
            "/usr/lib/python3.7/runpy.py:193: UserWarning: [W008] Evaluating Doc.similarity based on empty vectors.\n",
            "  \"__main__\", mod_spec)\n",
            "/usr/lib/python3.7/runpy.py:193: UserWarning: [W008] Evaluating Doc.similarity based on empty vectors.\n",
            "  \"__main__\", mod_spec)\n",
            "/usr/lib/python3.7/runpy.py:193: UserWarning: [W008] Evaluating Doc.similarity based on empty vectors.\n",
            "  \"__main__\", mod_spec)\n",
            "/usr/lib/python3.7/runpy.py:193: UserWarning: [W008] Evaluating Doc.similarity based on empty vectors.\n",
            "  \"__main__\", mod_spec)\n",
            "/usr/lib/python3.7/runpy.py:193: UserWarning: [W008] Evaluating Doc.similarity based on empty vectors.\n",
            "  \"__main__\", mod_spec)\n",
            "/usr/lib/python3.7/runpy.py:193: UserWarning: [W008] Evaluating Doc.similarity based on empty vectors.\n",
            "  \"__main__\", mod_spec)\n",
            "/usr/lib/python3.7/runpy.py:193: UserWarning: [W008] Evaluating Doc.similarity based on empty vectors.\n",
            "  \"__main__\", mod_spec)\n",
            "/usr/lib/python3.7/runpy.py:193: UserWarning: [W008] Evaluating Doc.similarity based on empty vectors.\n",
            "  \"__main__\", mod_spec)\n",
            "/usr/lib/python3.7/runpy.py:193: UserWarning: [W008] Evaluating Doc.similarity based on empty vectors.\n",
            "  \"__main__\", mod_spec)\n",
            "/usr/lib/python3.7/runpy.py:193: UserWarning: [W008] Evaluating Doc.similarity based on empty vectors.\n",
            "  \"__main__\", mod_spec)\n",
            "/usr/lib/python3.7/runpy.py:193: UserWarning: [W008] Evaluating Doc.similarity based on empty vectors.\n",
            "  \"__main__\", mod_spec)\n",
            "/usr/lib/python3.7/runpy.py:193: UserWarning: [W008] Evaluating Doc.similarity based on empty vectors.\n",
            "  \"__main__\", mod_spec)\n",
            "/usr/lib/python3.7/runpy.py:193: UserWarning: [W008] Evaluating Doc.similarity based on empty vectors.\n",
            "  \"__main__\", mod_spec)\n",
            "/usr/lib/python3.7/runpy.py:193: UserWarning: [W008] Evaluating Doc.similarity based on empty vectors.\n",
            "  \"__main__\", mod_spec)\n",
            "/usr/lib/python3.7/runpy.py:193: UserWarning: [W008] Evaluating Doc.similarity based on empty vectors.\n",
            "  \"__main__\", mod_spec)\n",
            "/usr/lib/python3.7/runpy.py:193: UserWarning: [W008] Evaluating Doc.similarity based on empty vectors.\n",
            "  \"__main__\", mod_spec)\n",
            "/usr/lib/python3.7/runpy.py:193: UserWarning: [W008] Evaluating Doc.similarity based on empty vectors.\n",
            "  \"__main__\", mod_spec)\n",
            "/usr/lib/python3.7/runpy.py:193: UserWarning: [W008] Evaluating Doc.similarity based on empty vectors.\n",
            "  \"__main__\", mod_spec)\n",
            "/usr/lib/python3.7/runpy.py:193: UserWarning: [W008] Evaluating Doc.similarity based on empty vectors.\n",
            "  \"__main__\", mod_spec)\n",
            "/usr/lib/python3.7/runpy.py:193: UserWarning: [W008] Evaluating Doc.similarity based on empty vectors.\n",
            "  \"__main__\", mod_spec)\n",
            "/usr/lib/python3.7/runpy.py:193: UserWarning: [W008] Evaluating Doc.similarity based on empty vectors.\n",
            "  \"__main__\", mod_spec)\n",
            "/usr/lib/python3.7/runpy.py:193: UserWarning: [W008] Evaluating Doc.similarity based on empty vectors.\n",
            "  \"__main__\", mod_spec)\n",
            "/usr/lib/python3.7/runpy.py:193: UserWarning: [W008] Evaluating Doc.similarity based on empty vectors.\n",
            "  \"__main__\", mod_spec)\n",
            "/usr/lib/python3.7/runpy.py:193: UserWarning: [W008] Evaluating Doc.similarity based on empty vectors.\n",
            "  \"__main__\", mod_spec)\n",
            "/usr/lib/python3.7/runpy.py:193: UserWarning: [W008] Evaluating Doc.similarity based on empty vectors.\n",
            "  \"__main__\", mod_spec)\n",
            "/usr/lib/python3.7/runpy.py:193: UserWarning: [W008] Evaluating Doc.similarity based on empty vectors.\n",
            "  \"__main__\", mod_spec)\n",
            "/usr/lib/python3.7/runpy.py:193: UserWarning: [W008] Evaluating Doc.similarity based on empty vectors.\n",
            "  \"__main__\", mod_spec)\n",
            "/usr/lib/python3.7/runpy.py:193: UserWarning: [W008] Evaluating Doc.similarity based on empty vectors.\n",
            "  \"__main__\", mod_spec)\n",
            "/usr/lib/python3.7/runpy.py:193: UserWarning: [W008] Evaluating Doc.similarity based on empty vectors.\n",
            "  \"__main__\", mod_spec)\n",
            "/usr/lib/python3.7/runpy.py:193: UserWarning: [W008] Evaluating Doc.similarity based on empty vectors.\n",
            "  \"__main__\", mod_spec)\n",
            "/usr/lib/python3.7/runpy.py:193: UserWarning: [W008] Evaluating Doc.similarity based on empty vectors.\n",
            "  \"__main__\", mod_spec)\n",
            "/usr/lib/python3.7/runpy.py:193: UserWarning: [W008] Evaluating Doc.similarity based on empty vectors.\n",
            "  \"__main__\", mod_spec)\n",
            "/usr/lib/python3.7/runpy.py:193: UserWarning: [W008] Evaluating Doc.similarity based on empty vectors.\n",
            "  \"__main__\", mod_spec)\n",
            "/usr/lib/python3.7/runpy.py:193: UserWarning: [W008] Evaluating Doc.similarity based on empty vectors.\n",
            "  \"__main__\", mod_spec)\n",
            "/usr/lib/python3.7/runpy.py:193: UserWarning: [W008] Evaluating Doc.similarity based on empty vectors.\n",
            "  \"__main__\", mod_spec)\n",
            "/usr/lib/python3.7/runpy.py:193: UserWarning: [W008] Evaluating Doc.similarity based on empty vectors.\n",
            "  \"__main__\", mod_spec)\n",
            "/usr/lib/python3.7/runpy.py:193: UserWarning: [W008] Evaluating Doc.similarity based on empty vectors.\n",
            "  \"__main__\", mod_spec)\n",
            "/usr/lib/python3.7/runpy.py:193: UserWarning: [W008] Evaluating Doc.similarity based on empty vectors.\n",
            "  \"__main__\", mod_spec)\n",
            "/usr/lib/python3.7/runpy.py:193: UserWarning: [W008] Evaluating Doc.similarity based on empty vectors.\n",
            "  \"__main__\", mod_spec)\n",
            "/usr/lib/python3.7/runpy.py:193: UserWarning: [W008] Evaluating Doc.similarity based on empty vectors.\n",
            "  \"__main__\", mod_spec)\n",
            "/usr/lib/python3.7/runpy.py:193: UserWarning: [W008] Evaluating Doc.similarity based on empty vectors.\n",
            "  \"__main__\", mod_spec)\n",
            "/usr/lib/python3.7/runpy.py:193: UserWarning: [W008] Evaluating Doc.similarity based on empty vectors.\n",
            "  \"__main__\", mod_spec)\n",
            "/usr/lib/python3.7/runpy.py:193: UserWarning: [W008] Evaluating Doc.similarity based on empty vectors.\n",
            "  \"__main__\", mod_spec)\n",
            "/usr/lib/python3.7/runpy.py:193: UserWarning: [W008] Evaluating Doc.similarity based on empty vectors.\n",
            "  \"__main__\", mod_spec)\n",
            "/usr/lib/python3.7/runpy.py:193: UserWarning: [W008] Evaluating Doc.similarity based on empty vectors.\n",
            "  \"__main__\", mod_spec)\n",
            "/usr/lib/python3.7/runpy.py:193: UserWarning: [W008] Evaluating Doc.similarity based on empty vectors.\n",
            "  \"__main__\", mod_spec)\n",
            "/usr/lib/python3.7/runpy.py:193: UserWarning: [W008] Evaluating Doc.similarity based on empty vectors.\n",
            "  \"__main__\", mod_spec)\n",
            "/usr/lib/python3.7/runpy.py:193: UserWarning: [W008] Evaluating Doc.similarity based on empty vectors.\n",
            "  \"__main__\", mod_spec)\n",
            "/usr/lib/python3.7/runpy.py:193: UserWarning: [W008] Evaluating Doc.similarity based on empty vectors.\n",
            "  \"__main__\", mod_spec)\n",
            "/usr/lib/python3.7/runpy.py:193: UserWarning: [W008] Evaluating Doc.similarity based on empty vectors.\n",
            "  \"__main__\", mod_spec)\n",
            "/usr/lib/python3.7/runpy.py:193: UserWarning: [W008] Evaluating Doc.similarity based on empty vectors.\n",
            "  \"__main__\", mod_spec)\n",
            "/usr/lib/python3.7/runpy.py:193: UserWarning: [W008] Evaluating Doc.similarity based on empty vectors.\n",
            "  \"__main__\", mod_spec)\n",
            "/usr/lib/python3.7/runpy.py:193: UserWarning: [W008] Evaluating Doc.similarity based on empty vectors.\n",
            "  \"__main__\", mod_spec)\n",
            "/usr/lib/python3.7/runpy.py:193: UserWarning: [W008] Evaluating Doc.similarity based on empty vectors.\n",
            "  \"__main__\", mod_spec)\n",
            "/usr/lib/python3.7/runpy.py:193: UserWarning: [W008] Evaluating Doc.similarity based on empty vectors.\n",
            "  \"__main__\", mod_spec)\n",
            "/usr/lib/python3.7/runpy.py:193: UserWarning: [W008] Evaluating Doc.similarity based on empty vectors.\n",
            "  \"__main__\", mod_spec)\n",
            "/usr/lib/python3.7/runpy.py:193: UserWarning: [W008] Evaluating Doc.similarity based on empty vectors.\n",
            "  \"__main__\", mod_spec)\n",
            "/usr/lib/python3.7/runpy.py:193: UserWarning: [W008] Evaluating Doc.similarity based on empty vectors.\n",
            "  \"__main__\", mod_spec)\n",
            "/usr/lib/python3.7/runpy.py:193: UserWarning: [W008] Evaluating Doc.similarity based on empty vectors.\n",
            "  \"__main__\", mod_spec)\n",
            "/usr/lib/python3.7/runpy.py:193: UserWarning: [W008] Evaluating Doc.similarity based on empty vectors.\n",
            "  \"__main__\", mod_spec)\n",
            "/usr/lib/python3.7/runpy.py:193: UserWarning: [W008] Evaluating Doc.similarity based on empty vectors.\n",
            "  \"__main__\", mod_spec)\n",
            "/usr/lib/python3.7/runpy.py:193: UserWarning: [W008] Evaluating Doc.similarity based on empty vectors.\n",
            "  \"__main__\", mod_spec)\n",
            "/usr/lib/python3.7/runpy.py:193: UserWarning: [W008] Evaluating Doc.similarity based on empty vectors.\n",
            "  \"__main__\", mod_spec)\n",
            "/usr/lib/python3.7/runpy.py:193: UserWarning: [W008] Evaluating Doc.similarity based on empty vectors.\n",
            "  \"__main__\", mod_spec)\n",
            "/usr/lib/python3.7/runpy.py:193: UserWarning: [W008] Evaluating Doc.similarity based on empty vectors.\n",
            "  \"__main__\", mod_spec)\n",
            "/usr/lib/python3.7/runpy.py:193: UserWarning: [W008] Evaluating Doc.similarity based on empty vectors.\n",
            "  \"__main__\", mod_spec)\n",
            "/usr/lib/python3.7/runpy.py:193: UserWarning: [W008] Evaluating Doc.similarity based on empty vectors.\n",
            "  \"__main__\", mod_spec)\n",
            "/usr/lib/python3.7/runpy.py:193: UserWarning: [W008] Evaluating Doc.similarity based on empty vectors.\n",
            "  \"__main__\", mod_spec)\n",
            "/usr/lib/python3.7/runpy.py:193: UserWarning: [W008] Evaluating Doc.similarity based on empty vectors.\n",
            "  \"__main__\", mod_spec)\n",
            "/usr/lib/python3.7/runpy.py:193: UserWarning: [W008] Evaluating Doc.similarity based on empty vectors.\n",
            "  \"__main__\", mod_spec)\n",
            "/usr/lib/python3.7/runpy.py:193: UserWarning: [W008] Evaluating Doc.similarity based on empty vectors.\n",
            "  \"__main__\", mod_spec)\n",
            "/usr/lib/python3.7/runpy.py:193: UserWarning: [W008] Evaluating Doc.similarity based on empty vectors.\n",
            "  \"__main__\", mod_spec)\n",
            "/usr/lib/python3.7/runpy.py:193: UserWarning: [W008] Evaluating Doc.similarity based on empty vectors.\n",
            "  \"__main__\", mod_spec)\n",
            "/usr/lib/python3.7/runpy.py:193: UserWarning: [W008] Evaluating Doc.similarity based on empty vectors.\n",
            "  \"__main__\", mod_spec)\n",
            "/usr/lib/python3.7/runpy.py:193: UserWarning: [W008] Evaluating Doc.similarity based on empty vectors.\n",
            "  \"__main__\", mod_spec)\n",
            "/usr/lib/python3.7/runpy.py:193: UserWarning: [W008] Evaluating Doc.similarity based on empty vectors.\n",
            "  \"__main__\", mod_spec)\n",
            "/usr/lib/python3.7/runpy.py:193: UserWarning: [W008] Evaluating Doc.similarity based on empty vectors.\n",
            "  \"__main__\", mod_spec)\n",
            "/usr/lib/python3.7/runpy.py:193: UserWarning: [W008] Evaluating Doc.similarity based on empty vectors.\n",
            "  \"__main__\", mod_spec)\n",
            "/usr/lib/python3.7/runpy.py:193: UserWarning: [W008] Evaluating Doc.similarity based on empty vectors.\n",
            "  \"__main__\", mod_spec)\n",
            "/usr/lib/python3.7/runpy.py:193: UserWarning: [W008] Evaluating Doc.similarity based on empty vectors.\n",
            "  \"__main__\", mod_spec)\n",
            "/usr/lib/python3.7/runpy.py:193: UserWarning: [W008] Evaluating Doc.similarity based on empty vectors.\n",
            "  \"__main__\", mod_spec)\n",
            "/usr/lib/python3.7/runpy.py:193: UserWarning: [W008] Evaluating Doc.similarity based on empty vectors.\n",
            "  \"__main__\", mod_spec)\n",
            "/usr/lib/python3.7/runpy.py:193: UserWarning: [W008] Evaluating Doc.similarity based on empty vectors.\n",
            "  \"__main__\", mod_spec)\n",
            "/usr/lib/python3.7/runpy.py:193: UserWarning: [W008] Evaluating Doc.similarity based on empty vectors.\n",
            "  \"__main__\", mod_spec)\n",
            "/usr/lib/python3.7/runpy.py:193: UserWarning: [W008] Evaluating Doc.similarity based on empty vectors.\n",
            "  \"__main__\", mod_spec)\n",
            "/usr/lib/python3.7/runpy.py:193: UserWarning: [W008] Evaluating Doc.similarity based on empty vectors.\n",
            "  \"__main__\", mod_spec)\n",
            "/usr/lib/python3.7/runpy.py:193: UserWarning: [W008] Evaluating Doc.similarity based on empty vectors.\n",
            "  \"__main__\", mod_spec)\n",
            "/usr/lib/python3.7/runpy.py:193: UserWarning: [W008] Evaluating Doc.similarity based on empty vectors.\n",
            "  \"__main__\", mod_spec)\n",
            "/usr/lib/python3.7/runpy.py:193: UserWarning: [W008] Evaluating Doc.similarity based on empty vectors.\n",
            "  \"__main__\", mod_spec)\n",
            "/usr/lib/python3.7/runpy.py:193: UserWarning: [W008] Evaluating Doc.similarity based on empty vectors.\n",
            "  \"__main__\", mod_spec)\n",
            "/usr/lib/python3.7/runpy.py:193: UserWarning: [W008] Evaluating Doc.similarity based on empty vectors.\n",
            "  \"__main__\", mod_spec)\n",
            "/usr/lib/python3.7/runpy.py:193: UserWarning: [W008] Evaluating Doc.similarity based on empty vectors.\n",
            "  \"__main__\", mod_spec)\n",
            "/usr/lib/python3.7/runpy.py:193: UserWarning: [W008] Evaluating Doc.similarity based on empty vectors.\n",
            "  \"__main__\", mod_spec)\n",
            "/usr/lib/python3.7/runpy.py:193: UserWarning: [W008] Evaluating Doc.similarity based on empty vectors.\n",
            "  \"__main__\", mod_spec)\n",
            "/usr/lib/python3.7/runpy.py:193: UserWarning: [W008] Evaluating Doc.similarity based on empty vectors.\n",
            "  \"__main__\", mod_spec)\n",
            "/usr/lib/python3.7/runpy.py:193: UserWarning: [W008] Evaluating Doc.similarity based on empty vectors.\n",
            "  \"__main__\", mod_spec)\n",
            "/usr/lib/python3.7/runpy.py:193: UserWarning: [W008] Evaluating Doc.similarity based on empty vectors.\n",
            "  \"__main__\", mod_spec)\n",
            "/usr/lib/python3.7/runpy.py:193: UserWarning: [W008] Evaluating Doc.similarity based on empty vectors.\n",
            "  \"__main__\", mod_spec)\n",
            "/usr/lib/python3.7/runpy.py:193: UserWarning: [W008] Evaluating Doc.similarity based on empty vectors.\n",
            "  \"__main__\", mod_spec)\n",
            "/usr/lib/python3.7/runpy.py:193: UserWarning: [W008] Evaluating Doc.similarity based on empty vectors.\n",
            "  \"__main__\", mod_spec)\n",
            "/usr/lib/python3.7/runpy.py:193: UserWarning: [W008] Evaluating Doc.similarity based on empty vectors.\n",
            "  \"__main__\", mod_spec)\n",
            "/usr/lib/python3.7/runpy.py:193: UserWarning: [W008] Evaluating Doc.similarity based on empty vectors.\n",
            "  \"__main__\", mod_spec)\n",
            "/usr/lib/python3.7/runpy.py:193: UserWarning: [W008] Evaluating Doc.similarity based on empty vectors.\n",
            "  \"__main__\", mod_spec)\n",
            "/usr/lib/python3.7/runpy.py:193: UserWarning: [W008] Evaluating Doc.similarity based on empty vectors.\n",
            "  \"__main__\", mod_spec)\n",
            "/usr/lib/python3.7/runpy.py:193: UserWarning: [W008] Evaluating Doc.similarity based on empty vectors.\n",
            "  \"__main__\", mod_spec)\n",
            "/usr/lib/python3.7/runpy.py:193: UserWarning: [W008] Evaluating Doc.similarity based on empty vectors.\n",
            "  \"__main__\", mod_spec)\n",
            "/usr/lib/python3.7/runpy.py:193: UserWarning: [W008] Evaluating Doc.similarity based on empty vectors.\n",
            "  \"__main__\", mod_spec)\n",
            "/usr/lib/python3.7/runpy.py:193: UserWarning: [W008] Evaluating Doc.similarity based on empty vectors.\n",
            "  \"__main__\", mod_spec)\n",
            "/usr/lib/python3.7/runpy.py:193: UserWarning: [W008] Evaluating Doc.similarity based on empty vectors.\n",
            "  \"__main__\", mod_spec)\n",
            "/usr/lib/python3.7/runpy.py:193: UserWarning: [W008] Evaluating Doc.similarity based on empty vectors.\n",
            "  \"__main__\", mod_spec)\n",
            "/usr/lib/python3.7/runpy.py:193: UserWarning: [W008] Evaluating Doc.similarity based on empty vectors.\n",
            "  \"__main__\", mod_spec)\n",
            "/usr/lib/python3.7/runpy.py:193: UserWarning: [W008] Evaluating Doc.similarity based on empty vectors.\n",
            "  \"__main__\", mod_spec)\n",
            "/usr/lib/python3.7/runpy.py:193: UserWarning: [W008] Evaluating Doc.similarity based on empty vectors.\n",
            "  \"__main__\", mod_spec)\n",
            "/usr/lib/python3.7/runpy.py:193: UserWarning: [W008] Evaluating Doc.similarity based on empty vectors.\n",
            "  \"__main__\", mod_spec)\n",
            "/usr/lib/python3.7/runpy.py:193: UserWarning: [W008] Evaluating Doc.similarity based on empty vectors.\n",
            "  \"__main__\", mod_spec)\n",
            "/usr/lib/python3.7/runpy.py:193: UserWarning: [W008] Evaluating Doc.similarity based on empty vectors.\n",
            "  \"__main__\", mod_spec)\n",
            "/usr/lib/python3.7/runpy.py:193: UserWarning: [W008] Evaluating Doc.similarity based on empty vectors.\n",
            "  \"__main__\", mod_spec)\n",
            "/usr/lib/python3.7/runpy.py:193: UserWarning: [W008] Evaluating Doc.similarity based on empty vectors.\n",
            "  \"__main__\", mod_spec)\n",
            "/usr/lib/python3.7/runpy.py:193: UserWarning: [W008] Evaluating Doc.similarity based on empty vectors.\n",
            "  \"__main__\", mod_spec)\n",
            "/usr/lib/python3.7/runpy.py:193: UserWarning: [W008] Evaluating Doc.similarity based on empty vectors.\n",
            "  \"__main__\", mod_spec)\n",
            "/usr/lib/python3.7/runpy.py:193: UserWarning: [W008] Evaluating Doc.similarity based on empty vectors.\n",
            "  \"__main__\", mod_spec)\n",
            "/usr/lib/python3.7/runpy.py:193: UserWarning: [W008] Evaluating Doc.similarity based on empty vectors.\n",
            "  \"__main__\", mod_spec)\n",
            "/usr/lib/python3.7/runpy.py:193: UserWarning: [W008] Evaluating Doc.similarity based on empty vectors.\n",
            "  \"__main__\", mod_spec)\n",
            "/usr/lib/python3.7/runpy.py:193: UserWarning: [W008] Evaluating Doc.similarity based on empty vectors.\n",
            "  \"__main__\", mod_spec)\n",
            "/usr/lib/python3.7/runpy.py:193: UserWarning: [W008] Evaluating Doc.similarity based on empty vectors.\n",
            "  \"__main__\", mod_spec)\n",
            "/usr/lib/python3.7/runpy.py:193: UserWarning: [W008] Evaluating Doc.similarity based on empty vectors.\n",
            "  \"__main__\", mod_spec)\n",
            "/usr/lib/python3.7/runpy.py:193: UserWarning: [W008] Evaluating Doc.similarity based on empty vectors.\n",
            "  \"__main__\", mod_spec)\n",
            "/usr/lib/python3.7/runpy.py:193: UserWarning: [W008] Evaluating Doc.similarity based on empty vectors.\n",
            "  \"__main__\", mod_spec)\n",
            "/usr/lib/python3.7/runpy.py:193: UserWarning: [W008] Evaluating Doc.similarity based on empty vectors.\n",
            "  \"__main__\", mod_spec)\n",
            "/usr/lib/python3.7/runpy.py:193: UserWarning: [W008] Evaluating Doc.similarity based on empty vectors.\n",
            "  \"__main__\", mod_spec)\n",
            "/usr/lib/python3.7/runpy.py:193: UserWarning: [W008] Evaluating Doc.similarity based on empty vectors.\n",
            "  \"__main__\", mod_spec)\n",
            "/usr/lib/python3.7/runpy.py:193: UserWarning: [W008] Evaluating Doc.similarity based on empty vectors.\n",
            "  \"__main__\", mod_spec)\n",
            "/usr/lib/python3.7/runpy.py:193: UserWarning: [W008] Evaluating Doc.similarity based on empty vectors.\n",
            "  \"__main__\", mod_spec)\n",
            "/usr/lib/python3.7/runpy.py:193: UserWarning: [W008] Evaluating Doc.similarity based on empty vectors.\n",
            "  \"__main__\", mod_spec)\n",
            "/usr/lib/python3.7/runpy.py:193: UserWarning: [W008] Evaluating Doc.similarity based on empty vectors.\n",
            "  \"__main__\", mod_spec)\n",
            "/usr/lib/python3.7/runpy.py:193: UserWarning: [W008] Evaluating Doc.similarity based on empty vectors.\n",
            "  \"__main__\", mod_spec)\n",
            "/usr/lib/python3.7/runpy.py:193: UserWarning: [W008] Evaluating Doc.similarity based on empty vectors.\n",
            "  \"__main__\", mod_spec)\n",
            "/usr/lib/python3.7/runpy.py:193: UserWarning: [W008] Evaluating Doc.similarity based on empty vectors.\n",
            "  \"__main__\", mod_spec)\n",
            "/usr/lib/python3.7/runpy.py:193: UserWarning: [W008] Evaluating Doc.similarity based on empty vectors.\n",
            "  \"__main__\", mod_spec)\n",
            "/usr/lib/python3.7/runpy.py:193: UserWarning: [W008] Evaluating Doc.similarity based on empty vectors.\n",
            "  \"__main__\", mod_spec)\n",
            "/usr/lib/python3.7/runpy.py:193: UserWarning: [W008] Evaluating Doc.similarity based on empty vectors.\n",
            "  \"__main__\", mod_spec)\n",
            "/usr/lib/python3.7/runpy.py:193: UserWarning: [W008] Evaluating Doc.similarity based on empty vectors.\n",
            "  \"__main__\", mod_spec)\n",
            "/usr/lib/python3.7/runpy.py:193: UserWarning: [W008] Evaluating Doc.similarity based on empty vectors.\n",
            "  \"__main__\", mod_spec)\n",
            "/usr/lib/python3.7/runpy.py:193: UserWarning: [W008] Evaluating Doc.similarity based on empty vectors.\n",
            "  \"__main__\", mod_spec)\n",
            "/usr/lib/python3.7/runpy.py:193: UserWarning: [W008] Evaluating Doc.similarity based on empty vectors.\n",
            "  \"__main__\", mod_spec)\n",
            "/usr/lib/python3.7/runpy.py:193: UserWarning: [W008] Evaluating Doc.similarity based on empty vectors.\n",
            "  \"__main__\", mod_spec)\n",
            "/usr/lib/python3.7/runpy.py:193: UserWarning: [W008] Evaluating Doc.similarity based on empty vectors.\n",
            "  \"__main__\", mod_spec)\n",
            "/usr/lib/python3.7/runpy.py:193: UserWarning: [W008] Evaluating Doc.similarity based on empty vectors.\n",
            "  \"__main__\", mod_spec)\n",
            "/usr/lib/python3.7/runpy.py:193: UserWarning: [W008] Evaluating Doc.similarity based on empty vectors.\n",
            "  \"__main__\", mod_spec)\n",
            "/usr/lib/python3.7/runpy.py:193: UserWarning: [W008] Evaluating Doc.similarity based on empty vectors.\n",
            "  \"__main__\", mod_spec)\n",
            "/usr/lib/python3.7/runpy.py:193: UserWarning: [W008] Evaluating Doc.similarity based on empty vectors.\n",
            "  \"__main__\", mod_spec)\n",
            "/usr/lib/python3.7/runpy.py:193: UserWarning: [W008] Evaluating Doc.similarity based on empty vectors.\n",
            "  \"__main__\", mod_spec)\n",
            "/usr/lib/python3.7/runpy.py:193: UserWarning: [W008] Evaluating Doc.similarity based on empty vectors.\n",
            "  \"__main__\", mod_spec)\n",
            "/usr/lib/python3.7/runpy.py:193: UserWarning: [W008] Evaluating Doc.similarity based on empty vectors.\n",
            "  \"__main__\", mod_spec)\n",
            "/usr/lib/python3.7/runpy.py:193: UserWarning: [W008] Evaluating Doc.similarity based on empty vectors.\n",
            "  \"__main__\", mod_spec)\n",
            "/usr/lib/python3.7/runpy.py:193: UserWarning: [W008] Evaluating Doc.similarity based on empty vectors.\n",
            "  \"__main__\", mod_spec)\n",
            "/usr/lib/python3.7/runpy.py:193: UserWarning: [W008] Evaluating Doc.similarity based on empty vectors.\n",
            "  \"__main__\", mod_spec)\n",
            "/usr/lib/python3.7/runpy.py:193: UserWarning: [W008] Evaluating Doc.similarity based on empty vectors.\n",
            "  \"__main__\", mod_spec)\n",
            "/usr/lib/python3.7/runpy.py:193: UserWarning: [W008] Evaluating Doc.similarity based on empty vectors.\n",
            "  \"__main__\", mod_spec)\n",
            "/usr/lib/python3.7/runpy.py:193: UserWarning: [W008] Evaluating Doc.similarity based on empty vectors.\n",
            "  \"__main__\", mod_spec)\n",
            "/usr/lib/python3.7/runpy.py:193: UserWarning: [W008] Evaluating Doc.similarity based on empty vectors.\n",
            "  \"__main__\", mod_spec)\n",
            "/usr/lib/python3.7/runpy.py:193: UserWarning: [W008] Evaluating Doc.similarity based on empty vectors.\n",
            "  \"__main__\", mod_spec)\n",
            "/usr/lib/python3.7/runpy.py:193: UserWarning: [W008] Evaluating Doc.similarity based on empty vectors.\n",
            "  \"__main__\", mod_spec)\n",
            "/usr/lib/python3.7/runpy.py:193: UserWarning: [W008] Evaluating Doc.similarity based on empty vectors.\n",
            "  \"__main__\", mod_spec)\n",
            "/usr/lib/python3.7/runpy.py:193: UserWarning: [W008] Evaluating Doc.similarity based on empty vectors.\n",
            "  \"__main__\", mod_spec)\n",
            "/usr/lib/python3.7/runpy.py:193: UserWarning: [W008] Evaluating Doc.similarity based on empty vectors.\n",
            "  \"__main__\", mod_spec)\n",
            "/usr/lib/python3.7/runpy.py:193: UserWarning: [W008] Evaluating Doc.similarity based on empty vectors.\n",
            "  \"__main__\", mod_spec)\n",
            "/usr/lib/python3.7/runpy.py:193: UserWarning: [W008] Evaluating Doc.similarity based on empty vectors.\n",
            "  \"__main__\", mod_spec)\n",
            "/usr/lib/python3.7/runpy.py:193: UserWarning: [W008] Evaluating Doc.similarity based on empty vectors.\n",
            "  \"__main__\", mod_spec)\n",
            "/usr/lib/python3.7/runpy.py:193: UserWarning: [W008] Evaluating Doc.similarity based on empty vectors.\n",
            "  \"__main__\", mod_spec)\n",
            "/usr/lib/python3.7/runpy.py:193: UserWarning: [W008] Evaluating Doc.similarity based on empty vectors.\n",
            "  \"__main__\", mod_spec)\n",
            "/usr/lib/python3.7/runpy.py:193: UserWarning: [W008] Evaluating Doc.similarity based on empty vectors.\n",
            "  \"__main__\", mod_spec)\n",
            "/usr/lib/python3.7/runpy.py:193: UserWarning: [W008] Evaluating Doc.similarity based on empty vectors.\n",
            "  \"__main__\", mod_spec)\n",
            "/usr/lib/python3.7/runpy.py:193: UserWarning: [W008] Evaluating Doc.similarity based on empty vectors.\n",
            "  \"__main__\", mod_spec)\n",
            "/usr/lib/python3.7/runpy.py:193: UserWarning: [W008] Evaluating Doc.similarity based on empty vectors.\n",
            "  \"__main__\", mod_spec)\n",
            "/usr/lib/python3.7/runpy.py:193: UserWarning: [W008] Evaluating Doc.similarity based on empty vectors.\n",
            "  \"__main__\", mod_spec)\n",
            "/usr/lib/python3.7/runpy.py:193: UserWarning: [W008] Evaluating Doc.similarity based on empty vectors.\n",
            "  \"__main__\", mod_spec)\n",
            "/usr/lib/python3.7/runpy.py:193: UserWarning: [W008] Evaluating Doc.similarity based on empty vectors.\n",
            "  \"__main__\", mod_spec)\n",
            "/usr/lib/python3.7/runpy.py:193: UserWarning: [W008] Evaluating Doc.similarity based on empty vectors.\n",
            "  \"__main__\", mod_spec)\n",
            "/usr/lib/python3.7/runpy.py:193: UserWarning: [W008] Evaluating Doc.similarity based on empty vectors.\n",
            "  \"__main__\", mod_spec)\n",
            "/usr/lib/python3.7/runpy.py:193: UserWarning: [W008] Evaluating Doc.similarity based on empty vectors.\n",
            "  \"__main__\", mod_spec)\n",
            "/usr/lib/python3.7/runpy.py:193: UserWarning: [W008] Evaluating Doc.similarity based on empty vectors.\n",
            "  \"__main__\", mod_spec)\n",
            "/usr/lib/python3.7/runpy.py:193: UserWarning: [W008] Evaluating Doc.similarity based on empty vectors.\n",
            "  \"__main__\", mod_spec)\n",
            "/usr/lib/python3.7/runpy.py:193: UserWarning: [W008] Evaluating Doc.similarity based on empty vectors.\n",
            "  \"__main__\", mod_spec)\n",
            "/usr/lib/python3.7/runpy.py:193: UserWarning: [W008] Evaluating Doc.similarity based on empty vectors.\n",
            "  \"__main__\", mod_spec)\n",
            "/usr/lib/python3.7/runpy.py:193: UserWarning: [W008] Evaluating Doc.similarity based on empty vectors.\n",
            "  \"__main__\", mod_spec)\n",
            "/usr/lib/python3.7/runpy.py:193: UserWarning: [W008] Evaluating Doc.similarity based on empty vectors.\n",
            "  \"__main__\", mod_spec)\n",
            "/usr/lib/python3.7/runpy.py:193: UserWarning: [W008] Evaluating Doc.similarity based on empty vectors.\n",
            "  \"__main__\", mod_spec)\n",
            "/usr/lib/python3.7/runpy.py:193: UserWarning: [W008] Evaluating Doc.similarity based on empty vectors.\n",
            "  \"__main__\", mod_spec)\n",
            "/usr/lib/python3.7/runpy.py:193: UserWarning: [W008] Evaluating Doc.similarity based on empty vectors.\n",
            "  \"__main__\", mod_spec)\n",
            "/usr/lib/python3.7/runpy.py:193: UserWarning: [W008] Evaluating Doc.similarity based on empty vectors.\n",
            "  \"__main__\", mod_spec)\n",
            "/usr/lib/python3.7/runpy.py:193: UserWarning: [W008] Evaluating Doc.similarity based on empty vectors.\n",
            "  \"__main__\", mod_spec)\n",
            "/usr/lib/python3.7/runpy.py:193: UserWarning: [W008] Evaluating Doc.similarity based on empty vectors.\n",
            "  \"__main__\", mod_spec)\n",
            "/usr/lib/python3.7/runpy.py:193: UserWarning: [W008] Evaluating Doc.similarity based on empty vectors.\n",
            "  \"__main__\", mod_spec)\n",
            "/usr/lib/python3.7/runpy.py:193: UserWarning: [W008] Evaluating Doc.similarity based on empty vectors.\n",
            "  \"__main__\", mod_spec)\n",
            "/usr/lib/python3.7/runpy.py:193: UserWarning: [W008] Evaluating Doc.similarity based on empty vectors.\n",
            "  \"__main__\", mod_spec)\n",
            "/usr/lib/python3.7/runpy.py:193: UserWarning: [W008] Evaluating Doc.similarity based on empty vectors.\n",
            "  \"__main__\", mod_spec)\n",
            "/usr/lib/python3.7/runpy.py:193: UserWarning: [W008] Evaluating Doc.similarity based on empty vectors.\n",
            "  \"__main__\", mod_spec)\n",
            "/usr/lib/python3.7/runpy.py:193: UserWarning: [W008] Evaluating Doc.similarity based on empty vectors.\n",
            "  \"__main__\", mod_spec)\n",
            "/usr/lib/python3.7/runpy.py:193: UserWarning: [W008] Evaluating Doc.similarity based on empty vectors.\n",
            "  \"__main__\", mod_spec)\n",
            "/usr/lib/python3.7/runpy.py:193: UserWarning: [W008] Evaluating Doc.similarity based on empty vectors.\n",
            "  \"__main__\", mod_spec)\n",
            "/usr/lib/python3.7/runpy.py:193: UserWarning: [W008] Evaluating Doc.similarity based on empty vectors.\n",
            "  \"__main__\", mod_spec)\n",
            "/usr/lib/python3.7/runpy.py:193: UserWarning: [W008] Evaluating Doc.similarity based on empty vectors.\n",
            "  \"__main__\", mod_spec)\n",
            "/usr/lib/python3.7/runpy.py:193: UserWarning: [W008] Evaluating Doc.similarity based on empty vectors.\n",
            "  \"__main__\", mod_spec)\n",
            "/usr/lib/python3.7/runpy.py:193: UserWarning: [W008] Evaluating Doc.similarity based on empty vectors.\n",
            "  \"__main__\", mod_spec)\n",
            "/usr/lib/python3.7/runpy.py:193: UserWarning: [W008] Evaluating Doc.similarity based on empty vectors.\n",
            "  \"__main__\", mod_spec)\n",
            "/usr/lib/python3.7/runpy.py:193: UserWarning: [W008] Evaluating Doc.similarity based on empty vectors.\n",
            "  \"__main__\", mod_spec)\n",
            "/usr/lib/python3.7/runpy.py:193: UserWarning: [W008] Evaluating Doc.similarity based on empty vectors.\n",
            "  \"__main__\", mod_spec)\n",
            "/usr/lib/python3.7/runpy.py:193: UserWarning: [W008] Evaluating Doc.similarity based on empty vectors.\n",
            "  \"__main__\", mod_spec)\n",
            "/usr/lib/python3.7/runpy.py:193: UserWarning: [W008] Evaluating Doc.similarity based on empty vectors.\n",
            "  \"__main__\", mod_spec)\n",
            "/usr/lib/python3.7/runpy.py:193: UserWarning: [W008] Evaluating Doc.similarity based on empty vectors.\n",
            "  \"__main__\", mod_spec)\n",
            "/usr/lib/python3.7/runpy.py:193: UserWarning: [W008] Evaluating Doc.similarity based on empty vectors.\n",
            "  \"__main__\", mod_spec)\n",
            "/usr/lib/python3.7/runpy.py:193: UserWarning: [W008] Evaluating Doc.similarity based on empty vectors.\n",
            "  \"__main__\", mod_spec)\n",
            "/usr/lib/python3.7/runpy.py:193: UserWarning: [W008] Evaluating Doc.similarity based on empty vectors.\n",
            "  \"__main__\", mod_spec)\n",
            "/usr/lib/python3.7/runpy.py:193: UserWarning: [W008] Evaluating Doc.similarity based on empty vectors.\n",
            "  \"__main__\", mod_spec)\n",
            "/usr/lib/python3.7/runpy.py:193: UserWarning: [W008] Evaluating Doc.similarity based on empty vectors.\n",
            "  \"__main__\", mod_spec)\n",
            "/usr/lib/python3.7/runpy.py:193: UserWarning: [W008] Evaluating Doc.similarity based on empty vectors.\n",
            "  \"__main__\", mod_spec)\n",
            "/usr/lib/python3.7/runpy.py:193: UserWarning: [W008] Evaluating Doc.similarity based on empty vectors.\n",
            "  \"__main__\", mod_spec)\n",
            "/usr/lib/python3.7/runpy.py:193: UserWarning: [W008] Evaluating Doc.similarity based on empty vectors.\n",
            "  \"__main__\", mod_spec)\n",
            "/usr/lib/python3.7/runpy.py:193: UserWarning: [W008] Evaluating Doc.similarity based on empty vectors.\n",
            "  \"__main__\", mod_spec)\n",
            "/usr/lib/python3.7/runpy.py:193: UserWarning: [W008] Evaluating Doc.similarity based on empty vectors.\n",
            "  \"__main__\", mod_spec)\n",
            "/usr/lib/python3.7/runpy.py:193: UserWarning: [W008] Evaluating Doc.similarity based on empty vectors.\n",
            "  \"__main__\", mod_spec)\n",
            "/usr/lib/python3.7/runpy.py:193: UserWarning: [W008] Evaluating Doc.similarity based on empty vectors.\n",
            "  \"__main__\", mod_spec)\n",
            "/usr/lib/python3.7/runpy.py:193: UserWarning: [W008] Evaluating Doc.similarity based on empty vectors.\n",
            "  \"__main__\", mod_spec)\n",
            "/usr/lib/python3.7/runpy.py:193: UserWarning: [W008] Evaluating Doc.similarity based on empty vectors.\n",
            "  \"__main__\", mod_spec)\n",
            "/usr/lib/python3.7/runpy.py:193: UserWarning: [W008] Evaluating Doc.similarity based on empty vectors.\n",
            "  \"__main__\", mod_spec)\n",
            "/usr/lib/python3.7/runpy.py:193: UserWarning: [W008] Evaluating Doc.similarity based on empty vectors.\n",
            "  \"__main__\", mod_spec)\n",
            "/usr/lib/python3.7/runpy.py:193: UserWarning: [W008] Evaluating Doc.similarity based on empty vectors.\n",
            "  \"__main__\", mod_spec)\n",
            "/usr/lib/python3.7/runpy.py:193: UserWarning: [W008] Evaluating Doc.similarity based on empty vectors.\n",
            "  \"__main__\", mod_spec)\n",
            "/usr/lib/python3.7/runpy.py:193: UserWarning: [W008] Evaluating Doc.similarity based on empty vectors.\n",
            "  \"__main__\", mod_spec)\n",
            "/usr/lib/python3.7/runpy.py:193: UserWarning: [W008] Evaluating Doc.similarity based on empty vectors.\n",
            "  \"__main__\", mod_spec)\n",
            "/usr/lib/python3.7/runpy.py:193: UserWarning: [W008] Evaluating Doc.similarity based on empty vectors.\n",
            "  \"__main__\", mod_spec)\n",
            "/usr/lib/python3.7/runpy.py:193: UserWarning: [W008] Evaluating Doc.similarity based on empty vectors.\n",
            "  \"__main__\", mod_spec)\n",
            "/usr/lib/python3.7/runpy.py:193: UserWarning: [W008] Evaluating Doc.similarity based on empty vectors.\n",
            "  \"__main__\", mod_spec)\n",
            "/usr/lib/python3.7/runpy.py:193: UserWarning: [W008] Evaluating Doc.similarity based on empty vectors.\n",
            "  \"__main__\", mod_spec)\n",
            "/usr/lib/python3.7/runpy.py:193: UserWarning: [W008] Evaluating Doc.similarity based on empty vectors.\n",
            "  \"__main__\", mod_spec)\n",
            "/usr/lib/python3.7/runpy.py:193: UserWarning: [W008] Evaluating Doc.similarity based on empty vectors.\n",
            "  \"__main__\", mod_spec)\n",
            "/usr/lib/python3.7/runpy.py:193: UserWarning: [W008] Evaluating Doc.similarity based on empty vectors.\n",
            "  \"__main__\", mod_spec)\n",
            "/usr/lib/python3.7/runpy.py:193: UserWarning: [W008] Evaluating Doc.similarity based on empty vectors.\n",
            "  \"__main__\", mod_spec)\n",
            "/usr/lib/python3.7/runpy.py:193: UserWarning: [W008] Evaluating Doc.similarity based on empty vectors.\n",
            "  \"__main__\", mod_spec)\n",
            "/usr/lib/python3.7/runpy.py:193: UserWarning: [W008] Evaluating Doc.similarity based on empty vectors.\n",
            "  \"__main__\", mod_spec)\n",
            "/usr/lib/python3.7/runpy.py:193: UserWarning: [W008] Evaluating Doc.similarity based on empty vectors.\n",
            "  \"__main__\", mod_spec)\n",
            "/usr/lib/python3.7/runpy.py:193: UserWarning: [W008] Evaluating Doc.similarity based on empty vectors.\n",
            "  \"__main__\", mod_spec)\n",
            "/usr/lib/python3.7/runpy.py:193: UserWarning: [W008] Evaluating Doc.similarity based on empty vectors.\n",
            "  \"__main__\", mod_spec)\n",
            "/usr/lib/python3.7/runpy.py:193: UserWarning: [W008] Evaluating Doc.similarity based on empty vectors.\n",
            "  \"__main__\", mod_spec)\n",
            "/usr/lib/python3.7/runpy.py:193: UserWarning: [W008] Evaluating Doc.similarity based on empty vectors.\n",
            "  \"__main__\", mod_spec)\n",
            "/usr/lib/python3.7/runpy.py:193: UserWarning: [W008] Evaluating Doc.similarity based on empty vectors.\n",
            "  \"__main__\", mod_spec)\n",
            "/usr/lib/python3.7/runpy.py:193: UserWarning: [W008] Evaluating Doc.similarity based on empty vectors.\n",
            "  \"__main__\", mod_spec)\n",
            "/usr/lib/python3.7/runpy.py:193: UserWarning: [W008] Evaluating Doc.similarity based on empty vectors.\n",
            "  \"__main__\", mod_spec)\n",
            "/usr/lib/python3.7/runpy.py:193: UserWarning: [W008] Evaluating Doc.similarity based on empty vectors.\n",
            "  \"__main__\", mod_spec)\n",
            "/usr/lib/python3.7/runpy.py:193: UserWarning: [W008] Evaluating Doc.similarity based on empty vectors.\n",
            "  \"__main__\", mod_spec)\n",
            "/usr/lib/python3.7/runpy.py:193: UserWarning: [W008] Evaluating Doc.similarity based on empty vectors.\n",
            "  \"__main__\", mod_spec)\n",
            "/usr/lib/python3.7/runpy.py:193: UserWarning: [W008] Evaluating Doc.similarity based on empty vectors.\n",
            "  \"__main__\", mod_spec)\n",
            "/usr/lib/python3.7/runpy.py:193: UserWarning: [W008] Evaluating Doc.similarity based on empty vectors.\n",
            "  \"__main__\", mod_spec)\n",
            "/usr/lib/python3.7/runpy.py:193: UserWarning: [W008] Evaluating Doc.similarity based on empty vectors.\n",
            "  \"__main__\", mod_spec)\n",
            "/usr/lib/python3.7/runpy.py:193: UserWarning: [W008] Evaluating Doc.similarity based on empty vectors.\n",
            "  \"__main__\", mod_spec)\n",
            "/usr/lib/python3.7/runpy.py:193: UserWarning: [W008] Evaluating Doc.similarity based on empty vectors.\n",
            "  \"__main__\", mod_spec)\n",
            "/usr/lib/python3.7/runpy.py:193: UserWarning: [W008] Evaluating Doc.similarity based on empty vectors.\n",
            "  \"__main__\", mod_spec)\n",
            "/usr/lib/python3.7/runpy.py:193: UserWarning: [W008] Evaluating Doc.similarity based on empty vectors.\n",
            "  \"__main__\", mod_spec)\n",
            "/usr/lib/python3.7/runpy.py:193: UserWarning: [W008] Evaluating Doc.similarity based on empty vectors.\n",
            "  \"__main__\", mod_spec)\n",
            "/usr/lib/python3.7/runpy.py:193: UserWarning: [W008] Evaluating Doc.similarity based on empty vectors.\n",
            "  \"__main__\", mod_spec)\n",
            "/usr/lib/python3.7/runpy.py:193: UserWarning: [W008] Evaluating Doc.similarity based on empty vectors.\n",
            "  \"__main__\", mod_spec)\n",
            "/usr/lib/python3.7/runpy.py:193: UserWarning: [W008] Evaluating Doc.similarity based on empty vectors.\n",
            "  \"__main__\", mod_spec)\n",
            "/usr/lib/python3.7/runpy.py:193: UserWarning: [W008] Evaluating Doc.similarity based on empty vectors.\n",
            "  \"__main__\", mod_spec)\n",
            "/usr/lib/python3.7/runpy.py:193: UserWarning: [W008] Evaluating Doc.similarity based on empty vectors.\n",
            "  \"__main__\", mod_spec)\n",
            "/usr/lib/python3.7/runpy.py:193: UserWarning: [W008] Evaluating Doc.similarity based on empty vectors.\n",
            "  \"__main__\", mod_spec)\n",
            "/usr/lib/python3.7/runpy.py:193: UserWarning: [W008] Evaluating Doc.similarity based on empty vectors.\n",
            "  \"__main__\", mod_spec)\n",
            "/usr/lib/python3.7/runpy.py:193: UserWarning: [W008] Evaluating Doc.similarity based on empty vectors.\n",
            "  \"__main__\", mod_spec)\n",
            "/usr/lib/python3.7/runpy.py:193: UserWarning: [W008] Evaluating Doc.similarity based on empty vectors.\n",
            "  \"__main__\", mod_spec)\n",
            "/usr/lib/python3.7/runpy.py:193: UserWarning: [W008] Evaluating Doc.similarity based on empty vectors.\n",
            "  \"__main__\", mod_spec)\n",
            "/usr/lib/python3.7/runpy.py:193: UserWarning: [W008] Evaluating Doc.similarity based on empty vectors.\n",
            "  \"__main__\", mod_spec)\n",
            "/usr/lib/python3.7/runpy.py:193: UserWarning: [W008] Evaluating Doc.similarity based on empty vectors.\n",
            "  \"__main__\", mod_spec)\n",
            "/usr/lib/python3.7/runpy.py:193: UserWarning: [W008] Evaluating Doc.similarity based on empty vectors.\n",
            "  \"__main__\", mod_spec)\n",
            "/usr/lib/python3.7/runpy.py:193: UserWarning: [W008] Evaluating Doc.similarity based on empty vectors.\n",
            "  \"__main__\", mod_spec)\n",
            "/usr/lib/python3.7/runpy.py:193: UserWarning: [W008] Evaluating Doc.similarity based on empty vectors.\n",
            "  \"__main__\", mod_spec)\n",
            "/usr/lib/python3.7/runpy.py:193: UserWarning: [W008] Evaluating Doc.similarity based on empty vectors.\n",
            "  \"__main__\", mod_spec)\n",
            "/usr/lib/python3.7/runpy.py:193: UserWarning: [W008] Evaluating Doc.similarity based on empty vectors.\n",
            "  \"__main__\", mod_spec)\n",
            "/usr/lib/python3.7/runpy.py:193: UserWarning: [W008] Evaluating Doc.similarity based on empty vectors.\n",
            "  \"__main__\", mod_spec)\n",
            "/usr/lib/python3.7/runpy.py:193: UserWarning: [W008] Evaluating Doc.similarity based on empty vectors.\n",
            "  \"__main__\", mod_spec)\n",
            "/usr/lib/python3.7/runpy.py:193: UserWarning: [W008] Evaluating Doc.similarity based on empty vectors.\n",
            "  \"__main__\", mod_spec)\n",
            "/usr/lib/python3.7/runpy.py:193: UserWarning: [W008] Evaluating Doc.similarity based on empty vectors.\n",
            "  \"__main__\", mod_spec)\n",
            "/usr/lib/python3.7/runpy.py:193: UserWarning: [W008] Evaluating Doc.similarity based on empty vectors.\n",
            "  \"__main__\", mod_spec)\n",
            "/usr/lib/python3.7/runpy.py:193: UserWarning: [W008] Evaluating Doc.similarity based on empty vectors.\n",
            "  \"__main__\", mod_spec)\n",
            "/usr/lib/python3.7/runpy.py:193: UserWarning: [W008] Evaluating Doc.similarity based on empty vectors.\n",
            "  \"__main__\", mod_spec)\n",
            "/usr/lib/python3.7/runpy.py:193: UserWarning: [W008] Evaluating Doc.similarity based on empty vectors.\n",
            "  \"__main__\", mod_spec)\n",
            "/usr/lib/python3.7/runpy.py:193: UserWarning: [W008] Evaluating Doc.similarity based on empty vectors.\n",
            "  \"__main__\", mod_spec)\n",
            "/usr/lib/python3.7/runpy.py:193: UserWarning: [W008] Evaluating Doc.similarity based on empty vectors.\n",
            "  \"__main__\", mod_spec)\n",
            "/usr/lib/python3.7/runpy.py:193: UserWarning: [W008] Evaluating Doc.similarity based on empty vectors.\n",
            "  \"__main__\", mod_spec)\n",
            "/usr/lib/python3.7/runpy.py:193: UserWarning: [W008] Evaluating Doc.similarity based on empty vectors.\n",
            "  \"__main__\", mod_spec)\n",
            "/usr/lib/python3.7/runpy.py:193: UserWarning: [W008] Evaluating Doc.similarity based on empty vectors.\n",
            "  \"__main__\", mod_spec)\n",
            "/usr/lib/python3.7/runpy.py:193: UserWarning: [W008] Evaluating Doc.similarity based on empty vectors.\n",
            "  \"__main__\", mod_spec)\n",
            "/usr/lib/python3.7/runpy.py:193: UserWarning: [W008] Evaluating Doc.similarity based on empty vectors.\n",
            "  \"__main__\", mod_spec)\n",
            "/usr/lib/python3.7/runpy.py:193: UserWarning: [W008] Evaluating Doc.similarity based on empty vectors.\n",
            "  \"__main__\", mod_spec)\n",
            "/usr/lib/python3.7/runpy.py:193: UserWarning: [W008] Evaluating Doc.similarity based on empty vectors.\n",
            "  \"__main__\", mod_spec)\n",
            "/usr/lib/python3.7/runpy.py:193: UserWarning: [W008] Evaluating Doc.similarity based on empty vectors.\n",
            "  \"__main__\", mod_spec)\n",
            "/usr/lib/python3.7/runpy.py:193: UserWarning: [W008] Evaluating Doc.similarity based on empty vectors.\n",
            "  \"__main__\", mod_spec)\n",
            "/usr/lib/python3.7/runpy.py:193: UserWarning: [W008] Evaluating Doc.similarity based on empty vectors.\n",
            "  \"__main__\", mod_spec)\n",
            "/usr/lib/python3.7/runpy.py:193: UserWarning: [W008] Evaluating Doc.similarity based on empty vectors.\n",
            "  \"__main__\", mod_spec)\n",
            "/usr/lib/python3.7/runpy.py:193: UserWarning: [W008] Evaluating Doc.similarity based on empty vectors.\n",
            "  \"__main__\", mod_spec)\n",
            "/usr/lib/python3.7/runpy.py:193: UserWarning: [W008] Evaluating Doc.similarity based on empty vectors.\n",
            "  \"__main__\", mod_spec)\n",
            "/usr/lib/python3.7/runpy.py:193: UserWarning: [W008] Evaluating Doc.similarity based on empty vectors.\n",
            "  \"__main__\", mod_spec)\n",
            "/usr/lib/python3.7/runpy.py:193: UserWarning: [W008] Evaluating Doc.similarity based on empty vectors.\n",
            "  \"__main__\", mod_spec)\n",
            "/usr/lib/python3.7/runpy.py:193: UserWarning: [W008] Evaluating Doc.similarity based on empty vectors.\n",
            "  \"__main__\", mod_spec)\n",
            "/usr/lib/python3.7/runpy.py:193: UserWarning: [W008] Evaluating Doc.similarity based on empty vectors.\n",
            "  \"__main__\", mod_spec)\n",
            "/usr/lib/python3.7/runpy.py:193: UserWarning: [W008] Evaluating Doc.similarity based on empty vectors.\n",
            "  \"__main__\", mod_spec)\n",
            "/usr/lib/python3.7/runpy.py:193: UserWarning: [W008] Evaluating Doc.similarity based on empty vectors.\n",
            "  \"__main__\", mod_spec)\n",
            "/usr/lib/python3.7/runpy.py:193: UserWarning: [W008] Evaluating Doc.similarity based on empty vectors.\n",
            "  \"__main__\", mod_spec)\n",
            "/usr/lib/python3.7/runpy.py:193: UserWarning: [W008] Evaluating Doc.similarity based on empty vectors.\n",
            "  \"__main__\", mod_spec)\n",
            "/usr/lib/python3.7/runpy.py:193: UserWarning: [W008] Evaluating Doc.similarity based on empty vectors.\n",
            "  \"__main__\", mod_spec)\n",
            "/usr/lib/python3.7/runpy.py:193: UserWarning: [W008] Evaluating Doc.similarity based on empty vectors.\n",
            "  \"__main__\", mod_spec)\n",
            "/usr/lib/python3.7/runpy.py:193: UserWarning: [W008] Evaluating Doc.similarity based on empty vectors.\n",
            "  \"__main__\", mod_spec)\n",
            "/usr/lib/python3.7/runpy.py:193: UserWarning: [W008] Evaluating Doc.similarity based on empty vectors.\n",
            "  \"__main__\", mod_spec)\n",
            "/usr/lib/python3.7/runpy.py:193: UserWarning: [W008] Evaluating Doc.similarity based on empty vectors.\n",
            "  \"__main__\", mod_spec)\n",
            "/usr/lib/python3.7/runpy.py:193: UserWarning: [W008] Evaluating Doc.similarity based on empty vectors.\n",
            "  \"__main__\", mod_spec)\n",
            "/usr/lib/python3.7/runpy.py:193: UserWarning: [W008] Evaluating Doc.similarity based on empty vectors.\n",
            "  \"__main__\", mod_spec)\n",
            "/usr/lib/python3.7/runpy.py:193: UserWarning: [W008] Evaluating Doc.similarity based on empty vectors.\n",
            "  \"__main__\", mod_spec)\n",
            "/usr/lib/python3.7/runpy.py:193: UserWarning: [W008] Evaluating Doc.similarity based on empty vectors.\n",
            "  \"__main__\", mod_spec)\n",
            "/usr/lib/python3.7/runpy.py:193: UserWarning: [W008] Evaluating Doc.similarity based on empty vectors.\n",
            "  \"__main__\", mod_spec)\n",
            "/usr/lib/python3.7/runpy.py:193: UserWarning: [W008] Evaluating Doc.similarity based on empty vectors.\n",
            "  \"__main__\", mod_spec)\n",
            "/usr/lib/python3.7/runpy.py:193: UserWarning: [W008] Evaluating Doc.similarity based on empty vectors.\n",
            "  \"__main__\", mod_spec)\n",
            "/usr/lib/python3.7/runpy.py:193: UserWarning: [W008] Evaluating Doc.similarity based on empty vectors.\n",
            "  \"__main__\", mod_spec)\n",
            "/usr/lib/python3.7/runpy.py:193: UserWarning: [W008] Evaluating Doc.similarity based on empty vectors.\n",
            "  \"__main__\", mod_spec)\n",
            "/usr/lib/python3.7/runpy.py:193: UserWarning: [W008] Evaluating Doc.similarity based on empty vectors.\n",
            "  \"__main__\", mod_spec)\n",
            "/usr/lib/python3.7/runpy.py:193: UserWarning: [W008] Evaluating Doc.similarity based on empty vectors.\n",
            "  \"__main__\", mod_spec)\n",
            "/usr/lib/python3.7/runpy.py:193: UserWarning: [W008] Evaluating Doc.similarity based on empty vectors.\n",
            "  \"__main__\", mod_spec)\n",
            "/usr/lib/python3.7/runpy.py:193: UserWarning: [W008] Evaluating Doc.similarity based on empty vectors.\n",
            "  \"__main__\", mod_spec)\n",
            "/usr/lib/python3.7/runpy.py:193: UserWarning: [W008] Evaluating Doc.similarity based on empty vectors.\n",
            "  \"__main__\", mod_spec)\n",
            "/usr/lib/python3.7/runpy.py:193: UserWarning: [W008] Evaluating Doc.similarity based on empty vectors.\n",
            "  \"__main__\", mod_spec)\n",
            "/usr/lib/python3.7/runpy.py:193: UserWarning: [W008] Evaluating Doc.similarity based on empty vectors.\n",
            "  \"__main__\", mod_spec)\n",
            "/usr/lib/python3.7/runpy.py:193: UserWarning: [W008] Evaluating Doc.similarity based on empty vectors.\n",
            "  \"__main__\", mod_spec)\n",
            "/usr/lib/python3.7/runpy.py:193: UserWarning: [W008] Evaluating Doc.similarity based on empty vectors.\n",
            "  \"__main__\", mod_spec)\n",
            "/usr/lib/python3.7/runpy.py:193: UserWarning: [W008] Evaluating Doc.similarity based on empty vectors.\n",
            "  \"__main__\", mod_spec)\n",
            "/usr/lib/python3.7/runpy.py:193: UserWarning: [W008] Evaluating Doc.similarity based on empty vectors.\n",
            "  \"__main__\", mod_spec)\n",
            "/usr/lib/python3.7/runpy.py:193: UserWarning: [W008] Evaluating Doc.similarity based on empty vectors.\n",
            "  \"__main__\", mod_spec)\n",
            "/usr/lib/python3.7/runpy.py:193: UserWarning: [W008] Evaluating Doc.similarity based on empty vectors.\n",
            "  \"__main__\", mod_spec)\n",
            "/usr/lib/python3.7/runpy.py:193: UserWarning: [W008] Evaluating Doc.similarity based on empty vectors.\n",
            "  \"__main__\", mod_spec)\n",
            "/usr/lib/python3.7/runpy.py:193: UserWarning: [W008] Evaluating Doc.similarity based on empty vectors.\n",
            "  \"__main__\", mod_spec)\n",
            "/usr/lib/python3.7/runpy.py:193: UserWarning: [W008] Evaluating Doc.similarity based on empty vectors.\n",
            "  \"__main__\", mod_spec)\n",
            "/usr/lib/python3.7/runpy.py:193: UserWarning: [W008] Evaluating Doc.similarity based on empty vectors.\n",
            "  \"__main__\", mod_spec)\n",
            "/usr/lib/python3.7/runpy.py:193: UserWarning: [W008] Evaluating Doc.similarity based on empty vectors.\n",
            "  \"__main__\", mod_spec)\n",
            "/usr/lib/python3.7/runpy.py:193: UserWarning: [W008] Evaluating Doc.similarity based on empty vectors.\n",
            "  \"__main__\", mod_spec)\n",
            "/usr/lib/python3.7/runpy.py:193: UserWarning: [W008] Evaluating Doc.similarity based on empty vectors.\n",
            "  \"__main__\", mod_spec)\n",
            "/usr/lib/python3.7/runpy.py:193: UserWarning: [W008] Evaluating Doc.similarity based on empty vectors.\n",
            "  \"__main__\", mod_spec)\n",
            "/usr/lib/python3.7/runpy.py:193: UserWarning: [W008] Evaluating Doc.similarity based on empty vectors.\n",
            "  \"__main__\", mod_spec)\n",
            "/usr/lib/python3.7/runpy.py:193: UserWarning: [W008] Evaluating Doc.similarity based on empty vectors.\n",
            "  \"__main__\", mod_spec)\n",
            "/usr/lib/python3.7/runpy.py:193: UserWarning: [W008] Evaluating Doc.similarity based on empty vectors.\n",
            "  \"__main__\", mod_spec)\n",
            "/usr/lib/python3.7/runpy.py:193: UserWarning: [W008] Evaluating Doc.similarity based on empty vectors.\n",
            "  \"__main__\", mod_spec)\n",
            "/usr/lib/python3.7/runpy.py:193: UserWarning: [W008] Evaluating Doc.similarity based on empty vectors.\n",
            "  \"__main__\", mod_spec)\n",
            "/usr/lib/python3.7/runpy.py:193: UserWarning: [W008] Evaluating Doc.similarity based on empty vectors.\n",
            "  \"__main__\", mod_spec)\n",
            "/usr/lib/python3.7/runpy.py:193: UserWarning: [W008] Evaluating Doc.similarity based on empty vectors.\n",
            "  \"__main__\", mod_spec)\n",
            "/usr/lib/python3.7/runpy.py:193: UserWarning: [W008] Evaluating Doc.similarity based on empty vectors.\n",
            "  \"__main__\", mod_spec)\n",
            "/usr/lib/python3.7/runpy.py:193: UserWarning: [W008] Evaluating Doc.similarity based on empty vectors.\n",
            "  \"__main__\", mod_spec)\n",
            "/usr/lib/python3.7/runpy.py:193: UserWarning: [W008] Evaluating Doc.similarity based on empty vectors.\n",
            "  \"__main__\", mod_spec)\n",
            "/usr/lib/python3.7/runpy.py:193: UserWarning: [W008] Evaluating Doc.similarity based on empty vectors.\n",
            "  \"__main__\", mod_spec)\n",
            "/usr/lib/python3.7/runpy.py:193: UserWarning: [W008] Evaluating Doc.similarity based on empty vectors.\n",
            "  \"__main__\", mod_spec)\n",
            "/usr/lib/python3.7/runpy.py:193: UserWarning: [W008] Evaluating Doc.similarity based on empty vectors.\n",
            "  \"__main__\", mod_spec)\n"
          ]
        }
      ]
    },
    {
      "cell_type": "markdown",
      "metadata": {
        "id": "FuW77o15Bksn"
      },
      "source": [
        "The above code triggers the warning `/usr/lib/python3.7/runpy.py:193: UserWarning: [W008] Evaluating Doc.similarity based on empty vectors.` because many of the words are unknown to SpaCy, so they will be valid SpaCy objects but will have no word vector, which makes them unhelpful from a similarity standpoint.\n"
      ]
    },
    {
      "cell_type": "code",
      "metadata": {
        "colab": {
          "base_uri": "https://localhost:8080/"
        },
        "id": "QiHVIr1k_wsv",
        "outputId": "7050bddf-2934-475b-920d-889892d12c9d"
      },
      "source": [
        "threshold = 0.5\n",
        "above_thresh_labels = [label for label, sec_sim, vul_sim in similarities if sec_sim > threshold or vul_sim > threshold]\n",
        "print(\"There are\", len(above_thresh_labels), \"labels above the threshold\")\n",
        "if (len(above_thresh_labels) > 0):\n",
        "  print(\"Here's a sample of the labels above the threshold:\")\n",
        "  for i in range(5):\n",
        "    if i >= len(above_thresh_labels):\n",
        "      break\n",
        "    print(above_thresh_labels[i])"
      ],
      "execution_count": null,
      "outputs": [
        {
          "output_type": "stream",
          "name": "stdout",
          "text": [
            "There are 16 labels above the threshold\n",
            "Here's a sample of the labels above the threshold:\n",
            "Needs Hardware\n",
            "security v3\n",
            "Area: Debug Infrastructure\n",
            "security vulnerability\n",
            "triage: user protections\n"
          ]
        }
      ]
    },
    {
      "cell_type": "code",
      "metadata": {
        "colab": {
          "base_uri": "https://localhost:8080/"
        },
        "id": "v10fCHVhC1F5",
        "outputId": "b3b5e5e0-dde8-48fd-8c07-f74b899cfa8d"
      },
      "source": [
        "above_thresh_sec = [(label, sec_sim) for label, sec_sim, _ in similarities if sec_sim > threshold]\n",
        "above_thresh_vul = [(label, vul_sim) for label, _, vul_sim in similarities if vul_sim > threshold]\n",
        "\n",
        "print(\"There are\", len(above_thresh_sec), \"labels above the threshold for 'security'\")\n",
        "if (len(above_thresh_sec) > 0):\n",
        "  print(\"Here's a sample of the labels above the threshold and their similarity measure:\")\n",
        "  for i in range(5):\n",
        "    if i >= len(above_thresh_sec):\n",
        "      break\n",
        "    print(above_thresh_sec[i][0], \"=>\", above_thresh_sec[i][1])\n",
        "print()\n",
        "print(\"There are\", len(above_thresh_vul), \"labels above the threshold for 'vulnerability'\")\n",
        "if (len(above_thresh_vul) > 0):\n",
        "  print(\"Here's a sample of the labels above the threshold and their similarity measure:\")\n",
        "  for i in range(5):\n",
        "    if i >= len(above_thresh_vul):\n",
        "      break\n",
        "    print(above_thresh_vul[i][0], \"=>\", above_thresh_vul[i][1])"
      ],
      "execution_count": null,
      "outputs": [
        {
          "output_type": "stream",
          "name": "stdout",
          "text": [
            "There are 15 labels above the threshold for 'security'\n",
            "Here's a sample of the labels above the threshold and their similarity measure:\n",
            "Needs Hardware => 0.5326270610964011\n",
            "security v3 => 0.7223536702053809\n",
            "Area: Debug Infrastructure => 0.5119029120838114\n",
            "security vulnerability => 0.8686049977589914\n",
            "triage: user protections => 0.5802197760313744\n",
            "\n",
            "There are 6 labels above the threshold for 'vulnerability'\n",
            "Here's a sample of the labels above the threshold and their similarity measure:\n",
            "security vulnerability => 0.8689457870764925\n",
            "security => 0.5095413966051392\n",
            "critical bug => 0.5330330323968283\n",
            "security fix => 0.5079090878162593\n",
            "security findings => 0.5051075715488159\n"
          ]
        }
      ]
    },
    {
      "cell_type": "markdown",
      "metadata": {
        "id": "UFxPTSPPE96y"
      },
      "source": [
        "Let's save these labels with their similarity measures to a file!"
      ]
    },
    {
      "cell_type": "code",
      "metadata": {
        "id": "q3abc-h6E9JO"
      },
      "source": [
        "import os\n",
        "\n",
        "OUTPUT_PATH = \"output\"\n",
        "output_filename = \"relevant_labels.txt\"\n",
        "os.mkdir(OUTPUT_PATH)"
      ],
      "execution_count": 8,
      "outputs": []
    },
    {
      "cell_type": "code",
      "metadata": {
        "id": "cj5Zo9MoDvJ7"
      },
      "source": [
        "labels_and_similarities = [(label, sec_sim, vul_sim) for label, sec_sim, vul_sim in similarities if sec_sim > threshold or vul_sim > threshold]\n",
        "\n",
        "file = open(os.path.join(OUTPUT_PATH, output_filename), 'w')\n",
        "for label, sec_sim, vul_sim in labels_and_similarities:\n",
        "  file.write(label + \"\\t\" + str(sec_sim) + \"\\t\" + str(vul_sim) + \"\\n\")\n",
        "file.close()"
      ],
      "execution_count": null,
      "outputs": []
    },
    {
      "cell_type": "markdown",
      "metadata": {
        "id": "Q0IMf5USJSND"
      },
      "source": [
        "### Create a function to help determine threshold"
      ]
    },
    {
      "cell_type": "code",
      "metadata": {
        "id": "cbFrVlcfJlnR"
      },
      "source": [
        "def section_labels(similarities, threshold, save=False, filename=None, labels_only=False):\n",
        "  if save and (filename is None):\n",
        "    print(\"Please specify a filename to save to.\")\n",
        "    return\n",
        "  \n",
        "  OUTPUT_PATH = \"output\"\n",
        "  values = [(label, sec_sim, vul_sim) for label, sec_sim, vul_sim in similarities if sec_sim > threshold or vul_sim > threshold]\n",
        "\n",
        "  if save:\n",
        "    file = open(os.path.join(OUTPUT_PATH, filename), 'w')\n",
        "    if labels_only:\n",
        "      for label, _, _ in values:\n",
        "        file.write(label + \"\\n\")\n",
        "    else:\n",
        "      for label, sec_sim, vul_sim in values:\n",
        "        file.write(label + \"\\t\" + str(sec_sim) + \"\\t\" + str(vul_sim) + \"\\n\")\n",
        "    file.close()\n",
        "  else:\n",
        "    print(\"There are\", len(values), \"labels above the threshold\", threshold)\n",
        "    for label, sec_sim, vul_sim in values:\n",
        "      print(label + \"\\t\" + str(sec_sim) + \"\\t\" + str(vul_sim))"
      ],
      "execution_count": 9,
      "outputs": []
    },
    {
      "cell_type": "markdown",
      "metadata": {
        "id": "0qf0Kk4_LEFr"
      },
      "source": [
        "Start with threshold 0.5, then continue to become more lenient"
      ]
    },
    {
      "cell_type": "code",
      "metadata": {
        "colab": {
          "base_uri": "https://localhost:8080/"
        },
        "id": "jORHlp_qMdX3",
        "outputId": "eb8780da-7010-4f28-ba7c-fd62ef478521"
      },
      "source": [
        "section_labels(similarities, security.similarity(vulnerability))"
      ],
      "execution_count": null,
      "outputs": [
        {
          "output_type": "stream",
          "name": "stdout",
          "text": [
            "There are 15 labels above the threshold 0.5095413966051392\n",
            "Needs Hardware\t0.5326270610964011\t0.2965716941465733\n",
            "security v3\t0.7223536702053809\t0.3591809270065743\n",
            "Area: Debug Infrastructure\t0.5119029120838114\t0.36849826636494115\n",
            "security vulnerability\t0.8686049977589914\t0.8689457870764925\n",
            "triage: user protections\t0.5802197760313744\t0.39032634070640754\n",
            "security\t1.0\t0.5095413966051392\n",
            "area/security\t0.7575661108122438\t0.37215394725602124\n",
            "critical bug\t0.48687897058834767\t0.5330330323968283\n",
            "Infrastructure\t0.5511181768861314\t0.3824606316944508\n",
            "infrastructure\t0.5511181768861314\t0.3824606316944508\n",
            "security fix\t0.8538809322947807\t0.5079090878162593\n",
            "Authentication\t0.5101948375632891\t0.41957116716626003\n",
            "embedded systems\t0.528331662618643\t0.3547530530252997\n",
            "security findings\t0.7862595524456654\t0.5051075715488159\n",
            "critical security issue\t0.8176221819256407\t0.549812373051681\n"
          ]
        }
      ]
    },
    {
      "cell_type": "code",
      "metadata": {
        "colab": {
          "base_uri": "https://localhost:8080/"
        },
        "id": "lJUuG15GLCtP",
        "outputId": "025b9bc1-cc2b-4207-fa6a-01e3a6972e64"
      },
      "source": [
        "section_labels(similarities, 0.5)"
      ],
      "execution_count": null,
      "outputs": [
        {
          "output_type": "stream",
          "name": "stdout",
          "text": [
            "There are 16 labels above the threshold 0.5\n",
            "Needs Hardware\t0.5326270610964011\t0.2965716941465733\n",
            "security v3\t0.7223536702053809\t0.3591809270065743\n",
            "Area: Debug Infrastructure\t0.5119029120838114\t0.36849826636494115\n",
            "security vulnerability\t0.8686049977589914\t0.8689457870764925\n",
            "triage: user protections\t0.5802197760313744\t0.39032634070640754\n",
            "security\t1.0\t0.5095413966051392\n",
            "area/security\t0.7575661108122438\t0.37215394725602124\n",
            "critical bug\t0.48687897058834767\t0.5330330323968283\n",
            "Infrastructure\t0.5511181768861314\t0.3824606316944508\n",
            "infrastructure\t0.5511181768861314\t0.3824606316944508\n",
            "Area: Build Infrastructure\t0.5075821206644304\t0.31568467457099303\n",
            "security fix\t0.8538809322947807\t0.5079090878162593\n",
            "Authentication\t0.5101948375632891\t0.41957116716626003\n",
            "embedded systems\t0.528331662618643\t0.3547530530252997\n",
            "security findings\t0.7862595524456654\t0.5051075715488159\n",
            "critical security issue\t0.8176221819256407\t0.549812373051681\n"
          ]
        }
      ]
    },
    {
      "cell_type": "code",
      "metadata": {
        "colab": {
          "base_uri": "https://localhost:8080/"
        },
        "id": "HBKVCy8sLvRA",
        "outputId": "e89f5cf6-8a59-4f61-f608-97f72e717936"
      },
      "source": [
        "section_labels(similarities, 0.45)"
      ],
      "execution_count": null,
      "outputs": [
        {
          "output_type": "stream",
          "name": "stdout",
          "text": [
            "There are 91 labels above the threshold 0.45\n",
            "Needs Hardware\t0.5326270610964011\t0.2965716941465733\n",
            "Ready to deploy\t0.4576434724122817\t0.27194845266832457\n",
            "Data Provider\t0.46233653862605245\t0.31242138269105857\n",
            "security v3\t0.7223536702053809\t0.3591809270065743\n",
            "Area: Debug Infrastructure\t0.5119029120838114\t0.36849826636494115\n",
            "High Priority\t0.46734603228579297\t0.27798844256365024\n",
            "component: TLS\t0.45418671840998975\t0.3600769929689655\n",
            "Need testing\t0.46029046548834296\t0.3379402686926806\n",
            "security vulnerability\t0.8686049977589914\t0.8689457870764925\n",
            "triage: user protections\t0.5802197760313744\t0.39032634070640754\n",
            "Crash/Data Corruption\t0.47049345931224607\t0.41565721328634947\n",
            "priority: critical\t0.4795210738892632\t0.37995459581330043\n",
            "Priority-Critical\t0.4996049740956253\t0.3636361020542121\n",
            "component:build system\t0.46243676649099186\t0.31115527660390174\n",
            "Needs more data\t0.4756558981980542\t0.3330487499932636\n",
            "component:general-utility\t0.4574996641567013\t0.33078429116541647\n",
            "Tag: Infrastructure\t0.4872609479926556\t0.31230603730321393\n",
            "update dependencies\t0.362650292886113\t0.46367965350257556\n",
            "Full Implementation Committee Decision\t0.4641272079089264\t0.23334797388507875\n",
            "security\t1.0\t0.5095413966051392\n",
            "fixed in source\t0.4550357120311324\t0.32675065643945495\n",
            "area/security\t0.7575661108122438\t0.37215394725602124\n",
            "hardware\t0.45676251927651856\t0.24732013275609518\n",
            "External tools\t0.49157149927431304\t0.35093559411658287\n",
            "critical bug\t0.48687897058834767\t0.5330330323968283\n",
            "in triage\t0.48620904630998757\t0.24292313546961267\n",
            "Data corruption\t0.4639345705504134\t0.4397919175647617\n",
            "Whitelist Request - Has Native\t0.4557884468604971\t0.3558448557261898\n",
            "Infrastructure\t0.5511181768861314\t0.3824606316944508\n",
            "Technical debt\t0.46553370262379584\t0.24758866964845416\n",
            "Build system\t0.4799242133771269\t0.26812466376922417\n",
            "No-Hyperion Issue\t0.4593923182168215\t0.29632665851335416\n",
            "triage: bug\t0.4549304503288549\t0.3577732041315422\n",
            "TRACKING ISSUE\t0.4885358713811746\t0.3773389518788346\n",
            "needs an update\t0.45868560612003606\t0.32191068933062844\n",
            "priority\t0.4563576879383417\t0.3009461250355424\n",
            "Area: Core DLL\t0.4546609143073781\t0.3338397563063205\n",
            "in:Build System\t0.46130935770816633\t0.2712459120612595\n",
            "Build System\t0.4799242133771269\t0.26812466376922417\n",
            "infrastructure\t0.5511181768861314\t0.3824606316944508\n",
            "Data Source Manager\t0.46911502749377776\t0.34929943710245626\n",
            "P: safety related\t0.4526854969176984\t0.2365569108796792\n",
            "Bug? False Alarm\t0.49383667514872476\t0.3483412425043773\n",
            "Critical feature\t0.4719674879614153\t0.4011244796420506\n",
            "0. Needs triage\t0.4640297152006415\t0.19388140163725032\n",
            "build system\t0.4799242133771269\t0.26812466376922417\n",
            "high priority\t0.46734603228579297\t0.27798844256365024\n",
            "Area: Build Infrastructure\t0.5075821206644304\t0.31568467457099303\n",
            "Network\t0.4673534541485774\t0.2887051505027938\n",
            "priority:critical\t0.4795210738892632\t0.37995459581330043\n",
            "triage\t0.47074309513360735\t0.21303037039115508\n",
            "Deploy\t0.45804857986627495\t0.33302688826128934\n",
            "Target: Authentication\t0.49308366509187435\t0.4119295738869893\n",
            "platform:windows\t0.4519728762796732\t0.2771641476472983\n",
            "status:unsupported client\t0.46893906684405173\t0.41392512511407387\n",
            "triage: enhancement\t0.45618988274147804\t0.2964330312380819\n",
            "component:deployment\t0.4853070064072703\t0.38726469690642823\n",
            "A-alert-system\t0.45626104500513864\t0.25219029631246326\n",
            "? - Needs Triage\t0.46711650380899056\t0.20082657895783368\n",
            "security fix\t0.8538809322947807\t0.5079090878162593\n",
            "Triage\t0.47074309513360735\t0.21303037039115508\n",
            "not our bug\t0.4534924292384579\t0.4015716776550061\n",
            "Embedded systems/ARM\t0.49945029245628747\t0.28535178443260695\n",
            "component:infrastructure\t0.49718609218571697\t0.38730656487688414\n",
            "Bug Report\t0.4170041918521816\t0.45341816041718536\n",
            "triage: feature\t0.46058271370862464\t0.26486022404015785\n",
            "Bug report\t0.4170041918521816\t0.45341816041718536\n",
            "Authentication\t0.5101948375632891\t0.41957116716626003\n",
            "needs testing\t0.4736289560116168\t0.3542889203030301\n",
            "needs-triage\t0.49173720944606647\t0.23180216571979734\n",
            "LEWG issue needed\t0.45117490636371305\t0.3482885294888491\n",
            "has solution\t0.47424537069410416\t0.279664193764107\n",
            "comp: border router\t0.46378097113294037\t0.22186609398167526\n",
            "Hardware Feature\t0.46345318239502764\t0.28455750174284405\n",
            "embedded systems\t0.528331662618643\t0.3547530530252997\n",
            "technical debt\t0.46553370262379584\t0.24758866964845416\n",
            "Needs testing\t0.4736289560116168\t0.3542889203030301\n",
            "component:network\t0.45589450955911714\t0.33906916650189134\n",
            "component: network\t0.45589450955911714\t0.33906916650189134\n",
            "Component: Network\t0.45589450955911714\t0.33906916650189134\n",
            "needs investigation\t0.48165750570103893\t0.29211177254456006\n",
            "security findings\t0.7862595524456654\t0.5051075715488159\n",
            "Area-Server\t0.47271411061975055\t0.2965620944156382\n",
            "ArcGIS feature server data provider\t0.482861770997983\t0.3828246569577739\n",
            "building-system\t0.49323735020115866\t0.20343986844213818\n",
            "attestation\t0.46193753869071374\t0.30634019815630886\n",
            "critical\t0.47344436098737597\t0.430581792347808\n",
            "critical security issue\t0.8176221819256407\t0.549812373051681\n",
            "Workaround exists\t0.4027552854751414\t0.4761180604722704\n",
            "feature: :lock: end to end encryption\t0.4722420987184661\t0.26099261434681903\n",
            "code maintenance\t0.4923626748864204\t0.27641969336498645\n"
          ]
        }
      ]
    },
    {
      "cell_type": "code",
      "metadata": {
        "colab": {
          "base_uri": "https://localhost:8080/"
        },
        "id": "K8Gzs_tbDLWc",
        "outputId": "72942154-aaae-471a-f536-db0d374921ee"
      },
      "source": [
        "section_labels(similarities, 0.46)"
      ],
      "execution_count": 10,
      "outputs": [
        {
          "output_type": "stream",
          "name": "stdout",
          "text": [
            "There are 68 labels above the threshold 0.46\n",
            "Target: Authentication\t0.49308366509187435\t0.4119295738869893\n",
            "Area-Server\t0.47271411061975055\t0.2965620944156382\n",
            "area/security\t0.7575661108122438\t0.37215394725602124\n",
            "Build system\t0.4799242133771269\t0.26812466376922417\n",
            "feature: :lock: end to end encryption\t0.4722420987184661\t0.26099261434681903\n",
            "code maintenance\t0.4923626748864204\t0.27641969336498645\n",
            "Crash/Data Corruption\t0.47049345931224607\t0.41565721328634947\n",
            "comp: border router\t0.46378097113294037\t0.22186609398167526\n",
            "Bug? False Alarm\t0.49383667514872476\t0.3483412425043773\n",
            "Priority-Critical\t0.4996049740956253\t0.3636361020542121\n",
            "Area: Build Infrastructure\t0.5075821206644304\t0.31568467457099303\n",
            "External tools\t0.49157149927431304\t0.35093559411658287\n",
            "Needs Hardware\t0.5326270610964011\t0.2965716941465733\n",
            "Hardware Feature\t0.46345318239502764\t0.28455750174284405\n",
            "critical\t0.47344436098737597\t0.430581792347808\n",
            "security\t1.0\t0.5095413966051392\n",
            "Build System\t0.4799242133771269\t0.26812466376922417\n",
            "has solution\t0.47424537069410416\t0.279664193764107\n",
            "High Priority\t0.46734603228579297\t0.27798844256365024\n",
            "Infrastructure\t0.5511181768861314\t0.3824606316944508\n",
            "building-system\t0.49323735020115866\t0.20343986844213818\n",
            "security fix\t0.8538809322947807\t0.5079090878162593\n",
            "component:deployment\t0.4853070064072703\t0.38726469690642823\n",
            "needs testing\t0.4736289560116168\t0.3542889203030301\n",
            "Data corruption\t0.4639345705504134\t0.4397919175647617\n",
            "Area: Debug Infrastructure\t0.5119029120838114\t0.36849826636494115\n",
            "build system\t0.4799242133771269\t0.26812466376922417\n",
            "technical debt\t0.46553370262379584\t0.24758866964845416\n",
            "update dependencies\t0.362650292886113\t0.46367965350257556\n",
            "security findings\t0.7862595524456654\t0.5051075715488159\n",
            "Technical debt\t0.46553370262379584\t0.24758866964845416\n",
            "status:unsupported client\t0.46893906684405173\t0.41392512511407387\n",
            "Triage\t0.47074309513360735\t0.21303037039115508\n",
            "component:build system\t0.46243676649099186\t0.31115527660390174\n",
            "Embedded systems/ARM\t0.49945029245628747\t0.28535178443260695\n",
            "triage: feature\t0.46058271370862464\t0.26486022404015785\n",
            "Tag: Infrastructure\t0.4872609479926556\t0.31230603730321393\n",
            "security v3\t0.7223536702053809\t0.3591809270065743\n",
            "critical security issue\t0.8176221819256407\t0.549812373051681\n",
            "infrastructure\t0.5511181768861314\t0.3824606316944508\n",
            "priority:critical\t0.4795210738892632\t0.37995459581330043\n",
            "in triage\t0.48620904630998757\t0.24292313546961267\n",
            "priority: critical\t0.4795210738892632\t0.37995459581330043\n",
            "embedded systems\t0.528331662618643\t0.3547530530252997\n",
            "Data Source Manager\t0.46911502749377776\t0.34929943710245626\n",
            "Authentication\t0.5101948375632891\t0.41957116716626003\n",
            "attestation\t0.46193753869071374\t0.30634019815630886\n",
            "Critical feature\t0.4719674879614153\t0.4011244796420506\n",
            "? - Needs Triage\t0.46711650380899056\t0.20082657895783368\n",
            "Needs more data\t0.4756558981980542\t0.3330487499932636\n",
            "TRACKING ISSUE\t0.4885358713811746\t0.3773389518788346\n",
            "Workaround exists\t0.4027552854751414\t0.4761180604722704\n",
            "high priority\t0.46734603228579297\t0.27798844256365024\n",
            "in:Build System\t0.46130935770816633\t0.2712459120612595\n",
            "triage\t0.47074309513360735\t0.21303037039115508\n",
            "security vulnerability\t0.8686049977589914\t0.8689457870764925\n",
            "critical bug\t0.48687897058834767\t0.5330330323968283\n",
            "Full Implementation Committee Decision\t0.4641272079089264\t0.23334797388507875\n",
            "Network\t0.4673534541485774\t0.2887051505027938\n",
            "triage: user protections\t0.5802197760313744\t0.39032634070640754\n",
            "needs investigation\t0.48165750570103893\t0.29211177254456006\n",
            "Need testing\t0.46029046548834296\t0.3379402686926806\n",
            "component:infrastructure\t0.49718609218571697\t0.38730656487688414\n",
            "0. Needs triage\t0.4640297152006415\t0.19388140163725032\n",
            "needs-triage\t0.49173720944606647\t0.23180216571979734\n",
            "Needs testing\t0.4736289560116168\t0.3542889203030301\n",
            "ArcGIS feature server data provider\t0.482861770997983\t0.3828246569577739\n",
            "Data Provider\t0.46233653862605245\t0.31242138269105857\n"
          ]
        }
      ]
    },
    {
      "cell_type": "markdown",
      "metadata": {
        "id": "mXX9UKHCNC1W"
      },
      "source": [
        "Save the labels with the following threshold to a file because they seem promising"
      ]
    },
    {
      "cell_type": "code",
      "metadata": {
        "id": "JkN9IkgrNCB1"
      },
      "source": [
        "section_labels(similarities, security.similarity(vulnerability), save=True, filename=\"relevant_labels.txt\", labels_only=True)"
      ],
      "execution_count": 45,
      "outputs": []
    },
    {
      "cell_type": "code",
      "metadata": {
        "id": "WWgD964hEMQ-"
      },
      "source": [
        "section_labels(similarities, 0.46, save=True, filename=\"relevant_labels_extended.txt\", labels_only=True)"
      ],
      "execution_count": 11,
      "outputs": []
    },
    {
      "cell_type": "markdown",
      "metadata": {
        "id": "odHlw9YqEAUS"
      },
      "source": [
        "## How many of these issue labels are actually common across GitHub projects though?"
      ]
    },
    {
      "cell_type": "code",
      "metadata": {
        "id": "65ODEYRqIRfD"
      },
      "source": [
        "def read_lines(filename, input_path=INPUT_PATH):\n",
        "  '''\n",
        "  Returns a list of all the lines in the input file\n",
        "  '''\n",
        "  labels = set() # The set of issue labels that will be returned\n",
        "\n",
        "  file = open(os.path.join(input_path, filename), 'r')\n",
        "  lines = file.readlines()\n",
        "  for line in lines:\n",
        "    labels.add(line.strip())\n",
        "  file.close()\n",
        "  return labels"
      ],
      "execution_count": 29,
      "outputs": []
    },
    {
      "cell_type": "code",
      "metadata": {
        "id": "f8eJ7VWrEGkE"
      },
      "source": [
        "relevant_labels = read_lines(\"relevant_labels_extended.txt\", input_path=\"output\")"
      ],
      "execution_count": 30,
      "outputs": []
    },
    {
      "cell_type": "code",
      "metadata": {
        "colab": {
          "base_uri": "https://localhost:8080/"
        },
        "id": "woah0Sx5H8Kf",
        "outputId": "6bff112a-f529-4a69-f11e-81e7ff8157a3"
      },
      "source": [
        "print(relevant_labels)"
      ],
      "execution_count": 31,
      "outputs": [
        {
          "output_type": "stream",
          "name": "stdout",
          "text": [
            "{'attestation', 'has solution', 'Workaround exists', 'area/security', 'security v3', 'Need testing', 'component:deployment', 'needs-triage', 'Target: Authentication', 'Triage', 'External tools', 'Tag: Infrastructure', 'technical debt', 'Build system', 'Data Source Manager', 'update dependencies', 'Critical feature', '? - Needs Triage', 'Needs testing', 'Data corruption', 'ArcGIS feature server data provider', '0. Needs triage', 'embedded systems', 'high priority', 'Needs Hardware', 'comp: border router', 'critical bug', 'Infrastructure', 'status:unsupported client', 'in triage', 'Bug? False Alarm', 'Area: Debug Infrastructure', 'triage', 'Network', 'Priority-Critical', 'Data Provider', 'feature: :lock: end to end encryption', 'security vulnerability', 'Hardware Feature', 'Area: Build Infrastructure', 'component:build system', 'Authentication', 'High Priority', 'infrastructure', 'needs testing', 'critical security issue', 'critical', 'building-system', 'triage: feature', 'Needs more data', 'security', 'build system', 'security findings', 'priority: critical', 'in:Build System', 'Embedded systems/ARM', 'Technical debt', 'triage: user protections', 'needs investigation', 'priority:critical', 'Full Implementation Committee Decision', 'component:infrastructure', 'TRACKING ISSUE', 'Build System', 'Area-Server', 'code maintenance', 'Crash/Data Corruption', 'security fix'}\n"
          ]
        }
      ]
    },
    {
      "cell_type": "code",
      "metadata": {
        "colab": {
          "base_uri": "https://localhost:8080/"
        },
        "id": "_2-Pc_8eLxXn",
        "outputId": "e16404cd-3b80-402d-e3d7-a9dbd3ace9a3"
      },
      "source": [
        "print(len(relevant_labels))"
      ],
      "execution_count": 44,
      "outputs": [
        {
          "output_type": "stream",
          "name": "stdout",
          "text": [
            "68\n"
          ]
        }
      ]
    },
    {
      "cell_type": "code",
      "metadata": {
        "id": "66Zqu_3zFUWb"
      },
      "source": [
        "import regex as re\n",
        "\n",
        "def determine_frequency(relevant_labels, full_file, input_path=\"input\"):\n",
        "  '''\n",
        "  Returns a dict with the frequency of each label in relevant_labels\n",
        "  Assumes each line of full file is formatted \"/author/repo\\tlabel1,label2,label3,...\"\n",
        "  '''\n",
        "  frequency = {} # The dict of relevant label frequencies to return\n",
        "  # Populate frequency where each label starts with 0 frequency\n",
        "  for label in relevant_labels:\n",
        "    frequency[label] = 0\n",
        "\n",
        "  p = re.compile(\"/.*/.*\\t((.+,+)*.+)\") # Pattern of each line\n",
        "  file = open(os.path.join(input_path, full_file), 'r')\n",
        "  lines = file.readlines()\n",
        "  for line in lines:\n",
        "    m = p.match(line.strip())\n",
        "    if m is None:\n",
        "      continue\n",
        "    labels_string = m.group(1)\n",
        "    issue_labels = labels_string.split(\",\")\n",
        "    \n",
        "    for label in relevant_labels:\n",
        "      if label in issue_labels:\n",
        "        frequency[label] += 1\n",
        "  file.close()\n",
        "  return frequency"
      ],
      "execution_count": 52,
      "outputs": []
    },
    {
      "cell_type": "code",
      "metadata": {
        "id": "eulQVxMnHCVB"
      },
      "source": [
        "frequency = determine_frequency(relevant_labels=relevant_labels, full\"demofile3.txt\", input_path=\"input\")"
      ],
      "execution_count": 35,
      "outputs": []
    },
    {
      "cell_type": "code",
      "metadata": {
        "colab": {
          "base_uri": "https://localhost:8080/"
        },
        "id": "KniZtGlxHNaj",
        "outputId": "5ffb5fad-d78e-4533-cfc3-5e5200cd6397"
      },
      "source": [
        "for label, freq in frequency.items():\n",
        "  print(label + \"\\t\" + str(freq))"
      ],
      "execution_count": 36,
      "outputs": [
        {
          "output_type": "stream",
          "name": "stdout",
          "text": [
            "attestation\t1\n",
            "has solution\t1\n",
            "Workaround exists\t1\n",
            "area/security\t1\n",
            "security v3\t1\n",
            "Need testing\t1\n",
            "component:deployment\t1\n",
            "needs-triage\t1\n",
            "Target: Authentication\t1\n",
            "Triage\t1\n",
            "External tools\t1\n",
            "Tag: Infrastructure\t1\n",
            "technical debt\t1\n",
            "Build system\t3\n",
            "Data Source Manager\t1\n",
            "update dependencies\t1\n",
            "Critical feature\t1\n",
            "? - Needs Triage\t1\n",
            "Needs testing\t1\n",
            "Data corruption\t1\n",
            "ArcGIS feature server data provider\t1\n",
            "0. Needs triage\t1\n",
            "embedded systems\t1\n",
            "high priority\t5\n",
            "Needs Hardware\t1\n",
            "comp: border router\t2\n",
            "critical bug\t2\n",
            "Infrastructure\t2\n",
            "status:unsupported client\t1\n",
            "in triage\t1\n",
            "Bug? False Alarm\t1\n",
            "Area: Debug Infrastructure\t1\n",
            "triage\t1\n",
            "Network\t1\n",
            "Priority-Critical\t3\n",
            "Data Provider\t1\n",
            "feature: :lock: end to end encryption\t1\n",
            "security vulnerability\t2\n",
            "Hardware Feature\t1\n",
            "Area: Build Infrastructure\t1\n",
            "component:build system\t1\n",
            "Authentication\t1\n",
            "High Priority\t5\n",
            "infrastructure\t4\n",
            "needs testing\t3\n",
            "critical security issue\t1\n",
            "critical\t6\n",
            "building-system\t1\n",
            "triage: feature\t1\n",
            "Needs more data\t1\n",
            "security\t3\n",
            "build system\t2\n",
            "security findings\t1\n",
            "priority: critical\t3\n",
            "in:Build System\t1\n",
            "Embedded systems/ARM\t1\n",
            "Technical debt\t1\n",
            "triage: user protections\t1\n",
            "needs investigation\t3\n",
            "priority:critical\t1\n",
            "Full Implementation Committee Decision\t1\n",
            "component:infrastructure\t1\n",
            "TRACKING ISSUE\t1\n",
            "Build System\t2\n",
            "Area-Server\t1\n",
            "code maintenance\t1\n",
            "Crash/Data Corruption\t1\n",
            "security fix\t2\n"
          ]
        }
      ]
    },
    {
      "cell_type": "markdown",
      "metadata": {
        "id": "8KFrKc74JnRu"
      },
      "source": [
        "Process data for list of labels with a certain frequency"
      ]
    },
    {
      "cell_type": "code",
      "metadata": {
        "id": "22eaeHs8Jber"
      },
      "source": [
        "frequency_labels = {}\n",
        "\n",
        "for label, freq in frequency.items():\n",
        "  if freq not in frequency_labels:\n",
        "    frequency_labels[freq] = []\n",
        "  frequency_labels[freq] += [label]\n",
        "\n",
        "frequency_frequency = {}\n",
        "for freq, label_lst in frequency_labels.items():\n",
        "  frequency_frequency[freq] = len(label_lst)"
      ],
      "execution_count": 41,
      "outputs": []
    },
    {
      "cell_type": "code",
      "metadata": {
        "colab": {
          "base_uri": "https://localhost:8080/",
          "height": 295
        },
        "id": "9_1389J1KC8p",
        "outputId": "f2c95f1e-32ce-4c6f-a3bc-7e18286caf00"
      },
      "source": [
        "import matplotlib.pyplot as plt\n",
        "\n",
        "plt.bar(frequency_frequency.keys(), frequency_frequency.values(), align=\"center\")\n",
        "plt.ylabel(\"Number of Labels\")\n",
        "plt.xlabel(\"Frequency\")\n",
        "plt.title(\"Number of Labels with a Certain Frequency\")\n",
        "\n",
        "plt.show()"
      ],
      "execution_count": 43,
      "outputs": [
        {
          "output_type": "display_data",
          "data": {
            "image/png": "[encoded data removed]",
            "text/plain": [
              "<Figure size 432x288 with 1 Axes>"
            ]
          },
          "metadata": {
            "needs_background": "light"
          }
        }
      ]
    },
    {
      "cell_type": "markdown",
      "metadata": {
        "id": "J78kF5nvLrr1"
      },
      "source": [
        "As can be seen from the above chart, about 51 of the labels only appear once. This is the majority of the 68 total relevant labels extracted, indicating that out list of relevant labels is actually quite useless in extracting common GitHub issue labels that are relevant to security and vulnerability. This is likely because the GitHub issues we collected do not share many common labels.\n",
        "\n",
        "The same can be observed from the plotting of frequencies from the smaller set of relevant labels where the threshold was equivalent to `security.similarity(vulnerability)`. Here, 9 out of 15 labels only appear once."
      ]
    },
    {
      "cell_type": "code",
      "metadata": {
        "colab": {
          "base_uri": "https://localhost:8080/",
          "height": 609
        },
        "id": "9bIjHwg2XL7u",
        "outputId": "18744eb2-0bfa-49fd-b030-a94c41d66312"
      },
      "source": [
        "import matplotlib.pyplot as plt\n",
        "\n",
        "relevant_labels_sm = read_lines(\"relevant_labels.txt\", input_path=\"output\")\n",
        "print(relevant_labels_sm)\n",
        "print(len(relevant_labels_sm))\n",
        "\n",
        "frequency_sm = determine_frequency(relevant_labels=relevant_labels_sm, full_file=\"demofile3.txt\", input_path=\"input\")\n",
        "\n",
        "for label, freq in frequency_sm.items():\n",
        "  print(label + \"\\t\" + str(freq))\n",
        "\n",
        "frequency_labels_sm = {}\n",
        "\n",
        "for label, freq in frequency_sm.items():\n",
        "  if freq not in frequency_labels_sm:\n",
        "    frequency_labels_sm[freq] = []\n",
        "  frequency_labels_sm[freq] += [label]\n",
        "\n",
        "frequency_frequency_sm = {}\n",
        "for freq, label_lst in frequency_labels_sm.items():\n",
        "  frequency_frequency_sm[freq] = len(label_lst)\n",
        "\n",
        "plt.bar(frequency_frequency_sm.keys(), frequency_frequency_sm.values(), align=\"center\")\n",
        "plt.ylabel(\"Number of Labels\")\n",
        "plt.xlabel(\"Frequency\")\n",
        "plt.title(\"Number of Labels with a Certain Frequency\")\n",
        "\n",
        "plt.show()"
      ],
      "execution_count": 47,
      "outputs": [
        {
          "output_type": "stream",
          "name": "stdout",
          "text": [
            "{'critical security issue', 'critical bug', 'Area: Debug Infrastructure', 'security', 'area/security', 'security findings', 'security v3', 'triage: user protections', 'security vulnerability', 'Authentication', 'infrastructure', 'embedded systems', 'Needs Hardware', 'Infrastructure', 'security fix'}\n",
            "15\n",
            "critical security issue\t1\n",
            "critical bug\t2\n",
            "Area: Debug Infrastructure\t1\n",
            "security\t3\n",
            "area/security\t1\n",
            "security findings\t1\n",
            "security v3\t1\n",
            "triage: user protections\t1\n",
            "security vulnerability\t2\n",
            "Authentication\t1\n",
            "infrastructure\t4\n",
            "embedded systems\t1\n",
            "Needs Hardware\t1\n",
            "Infrastructure\t2\n",
            "security fix\t2\n"
          ]
        },
        {
          "output_type": "display_data",
          "data": {
            "image/png": "[encoded data removed]",
            "text/plain": [
              "<Figure size 432x288 with 1 Axes>"
            ]
          },
          "metadata": {
            "needs_background": "light"
          }
        }
      ]
    },
    {
      "cell_type": "markdown",
      "metadata": {
        "id": "doLJyJiWNL6Q"
      },
      "source": [
        "## Commonality of All Labels"
      ]
    },
    {
      "cell_type": "code",
      "metadata": {
        "colab": {
          "base_uri": "https://localhost:8080/"
        },
        "id": "8RQCeoTYLb42",
        "outputId": "089237b0-b25b-4046-8f69-280ad5007d29"
      },
      "source": [
        "print(len(labels))"
      ],
      "execution_count": 48,
      "outputs": [
        {
          "output_type": "stream",
          "name": "stdout",
          "text": [
            "2733\n"
          ]
        }
      ]
    },
    {
      "cell_type": "code",
      "metadata": {
        "id": "F7TcXjJ-Y2qU"
      },
      "source": [
        "label_freq_full = determine_frequency(relevant_labels=labels, full_file=\"demofile3.txt\", input_path=\"input\")"
      ],
      "execution_count": 53,
      "outputs": []
    },
    {
      "cell_type": "code",
      "metadata": {
        "colab": {
          "base_uri": "https://localhost:8080/",
          "height": 404
        },
        "id": "g8n_FzGtZBt4",
        "outputId": "e670a79f-cbbd-428b-cf7a-b99b296c5a3d"
      },
      "source": [
        "import matplotlib.pyplot as plt\n",
        "\n",
        "frequency_labels_full = {}\n",
        "\n",
        "for label, freq in label_freq_full.items():\n",
        "  if freq not in frequency_labels_full:\n",
        "    frequency_labels_full[freq] = []\n",
        "  frequency_labels_full[freq] += [label]\n",
        "\n",
        "frequency_frequency_full = {}\n",
        "for freq, label_lst in frequency_labels_full.items():\n",
        "  frequency_frequency_full[freq] = len(label_lst)\n",
        "\n",
        "plt.rcParams['figure.figsize'] = (8,6)\n",
        "plt.bar(frequency_frequency_full.keys(), frequency_frequency_full.values(), align=\"center\")\n",
        "plt.ylabel(\"Number of Labels\")\n",
        "plt.xlabel(\"Frequency\")\n",
        "plt.title(\"Number of All Labels with a Certain Frequency\")\n",
        "\n",
        "plt.show()"
      ],
      "execution_count": 60,
      "outputs": [
        {
          "output_type": "display_data",
          "data": {
            "image/png": "[encoded data removed]",
            "text/plain": [
              "<Figure size 576x432 with 1 Axes>"
            ]
          },
          "metadata": {
            "needs_background": "light"
          }
        }
      ]
    },
    {
      "cell_type": "markdown",
      "metadata": {
        "id": "Cku9v270a2X2"
      },
      "source": [
        "This plot is heavily skewed, demonstrating our previous observations that many issues have custom labels, which reduces out power to extract relevant labels with meaningful applicability across all projects. Below the same plot is now displayed with a logarithmic y-axis."
      ]
    },
    {
      "cell_type": "code",
      "metadata": {
        "colab": {
          "base_uri": "https://localhost:8080/",
          "height": 404
        },
        "id": "7jeS5lS9apel",
        "outputId": "b4c0593e-105a-4d23-e4c1-6454895b7741"
      },
      "source": [
        "plt.rcParams['figure.figsize'] = (8,6)\n",
        "plt.bar(frequency_frequency_full.keys(), frequency_frequency_full.values(), align=\"center\")\n",
        "plt.yscale('log')\n",
        "plt.ylabel(\"Number of Labels (Log Scale)\")\n",
        "plt.xlabel(\"Frequency\")\n",
        "plt.title(\"Number of All Labels with a Certain Frequency\")\n",
        "\n",
        "plt.show()"
      ],
      "execution_count": 61,
      "outputs": [
        {
          "output_type": "display_data",
          "data": {
            "image/png": "[encoded data removed]",
            "text/plain": [
              "<Figure size 576x432 with 1 Axes>"
            ]
          },
          "metadata": {
            "needs_background": "light"
          }
        }
      ]
    },
    {
      "cell_type": "code",
      "metadata": {
        "colab": {
          "base_uri": "https://localhost:8080/"
        },
        "id": "f6_B6U5_bixn",
        "outputId": "ae15756d-f166-468f-e84b-222fc6a3db9b"
      },
      "source": [
        "high_freq_labels = [label for label, freq in label_freq_full.items() if freq >= 20]\n",
        "print(len(high_freq_labels))\n",
        "for label in high_freq_labels:\n",
        "  print(label)"
      ],
      "execution_count": 65,
      "outputs": [
        {
          "output_type": "stream",
          "name": "stdout",
          "text": [
            "12\n",
            "good first issue\n",
            "help wanted\n",
            "question\n",
            "documentation\n",
            "enhancement\n",
            "Bug\n",
            "dependencies\n",
            "bug\n",
            "wontfix\n",
            "invalid\n",
            "duplicate\n",
            "Documentation\n"
          ]
        }
      ]
    },
    {
      "cell_type": "code",
      "metadata": {
        "colab": {
          "base_uri": "https://localhost:8080/"
        },
        "id": "5UfOhU2Ud0w9",
        "outputId": "8bcba54b-2812-42c4-da0b-2ed543b35e31"
      },
      "source": [
        "mid_freq_labels = [label for label, freq in label_freq_full.items() if freq >= 10 and freq < 20]\n",
        "print(len(mid_freq_labels))\n",
        "for label in mid_freq_labels:\n",
        "  print(label)"
      ],
      "execution_count": 67,
      "outputs": [
        {
          "output_type": "stream",
          "name": "stdout",
          "text": [
            "7\n",
            "feature\n",
            "feature request\n",
            "build\n",
            "discussion\n",
            "in progress\n",
            "stale\n",
            "CI\n"
          ]
        }
      ]
    },
    {
      "cell_type": "code",
      "metadata": {
        "colab": {
          "base_uri": "https://localhost:8080/"
        },
        "id": "Q_MGT4kMe2Pu",
        "outputId": "a5ab0a77-fe3d-4f24-f359-46c4db69cd14"
      },
      "source": [
        "low_freq_labels = [label for label, freq in label_freq_full.items() if freq >= 2 and freq < 10]\n",
        "print(len(low_freq_labels))\n",
        "for label in low_freq_labels:\n",
        "  print(label)"
      ],
      "execution_count": 69,
      "outputs": [
        {
          "output_type": "stream",
          "name": "stdout",
          "text": [
            "313\n",
            "Build\n",
            "jit\n",
            "Minor Version\n",
            "AT: STALE\n",
            "example\n",
            "C: Documentation\n",
            "bug fix\n",
            "CLI\n",
            "esp32\n",
            "tests\n",
            "low-priority\n",
            "type: bug\n",
            "component: tools\n",
            "code cleanup\n",
            "Backend\n",
            "kokoro:run\n",
            "cli\n",
            "jira/BED\n",
            "community\n",
            "in review\n",
            "config\n",
            "Performance\n",
            "pr-merged\n",
            "clean-up\n",
            "Help wanted\n",
            "CycloneDDS\n",
            "Reviewed\n",
            "regression\n",
            "hitlist\n",
            "Hotfix\n",
            "continuous-integration\n",
            "lang-python\n",
            "blocker\n",
            "Merged\n",
            "do-not-merge/work-in-progress\n",
            "blocked\n",
            "Build system\n",
            "gui\n",
            "WIP\n",
            "jira/GV\n",
            "Enhancement\n",
            "hacktoberfest-accepted\n",
            "code quality\n",
            "wishlist\n",
            "compatibility\n",
            "Feature Request\n",
            "jira/CORE\n",
            "Compilation\n",
            "Priority-High\n",
            "comp: border router\n",
            "big\n",
            "do not merge\n",
            "project-idea\n",
            "Cleanup\n",
            "spam\n",
            "Major Version\n",
            "Incomplete\n",
            "jira/NWX\n",
            "✨ Merged\n",
            "arm64\n",
            "UX\n",
            "Priority-Critical\n",
            "Backport\n",
            "Blocker\n",
            "OpSys-Linux\n",
            "internal\n",
            "🚧 WIP\n",
            "awaiting review\n",
            "OpSys-Windows\n",
            "do-not-merge/hold\n",
            "Patch Version\n",
            "PR: unreviewed\n",
            "merge-conflict\n",
            "jira/ENG\n",
            "Cython\n",
            "release\n",
            "RPC\n",
            "pinned\n",
            "cleanup\n",
            "needs more info\n",
            "needs rebase\n",
            "maintenance\n",
            "In Progress\n",
            "area/build\n",
            "draft\n",
            "installation\n",
            "in-progress\n",
            "Type: Bug\n",
            "jira/INF\n",
            "hardware\n",
            "component: tests\n",
            "status:invalid\n",
            "task\n",
            "cla: no\n",
            "critical\n",
            "not our bug\n",
            "type:bug\n",
            "API change\n",
            "priority:low\n",
            "small\n",
            "Dependencies\n",
            "a11y\n",
            "osx\n",
            "priority:high\n",
            "Refactoring\n",
            "security\n",
            "Build System\n",
            "Refactor\n",
            "comp: dns\n",
            "roadmap\n",
            "not a bug\n",
            "Linux\n",
            "easy\n",
            "kokoro:force-run\n",
            ".NET\n",
            "High Priority\n",
            "comp: build\n",
            "fix\n",
            "unconfirmed\n",
            "Docs\n",
            "Good First Issue\n",
            "Hacktoberfest\n",
            "Discussion\n",
            "announcement\n",
            "priority: medium\n",
            "github\n",
            "refactor\n",
            "building\n",
            "P1\n",
            "linux\n",
            "Connext\n",
            "component: core\n",
            "priority\n",
            "32-bit\n",
            "0 - Backlog\n",
            "Infrastructure\n",
            "OpSys-OSX\n",
            "security fix\n",
            "Regression\n",
            "needs testing\n",
            "clang\n",
            "merge when green\n",
            "Priority-Low\n",
            "macos\n",
            "resolved\n",
            "build system\n",
            "defect\n",
            "Core\n",
            "fb-exported\n",
            "bug :bug:\n",
            "performance\n",
            "PR: draft\n",
            "windows\n",
            "Clang\n",
            "design\n",
            "AT: RETEST\n",
            "android\n",
            "beginner\n",
            "module: common\n",
            "Deprecated\n",
            "Backlog\n",
            "Epic\n",
            "testing\n",
            "fixed\n",
            "CLA Signed\n",
            "installer\n",
            "epic\n",
            "workaround\n",
            "dask\n",
            "feature-request\n",
            "cannot reproduce\n",
            "certification\n",
            "reviewed\n",
            "status:wontfix\n",
            "macOS\n",
            "major\n",
            "Stale\n",
            "low priority\n",
            "CMake\n",
            "cla: yes\n",
            "Crash\n",
            "more-information-needed\n",
            "ready\n",
            "upstream\n",
            "javascript\n",
            "PR: reviewed-changes-requested\n",
            "acl\n",
            "jira/DOC\n",
            "infrastructure\n",
            "status:inprogress\n",
            "doc\n",
            "CUDA\n",
            "priority: low\n",
            "backport\n",
            "breaking\n",
            "arm\n",
            "Examples\n",
            "library\n",
            "consensus\n",
            "RFC\n",
            "jira/OP\n",
            "conflicts\n",
            "crash\n",
            "needs review\n",
            "merge when passing\n",
            "ready-for-review\n",
            "ARM\n",
            "help-needed\n",
            "jira/INTELLI\n",
            "meta\n",
            "Error\n",
            "minor\n",
            "PR: reviewed-approved\n",
            "dev\n",
            "api-change\n",
            "Python\n",
            "translation\n",
            "optimization\n",
            "Wontfix\n",
            "packaging\n",
            "priority: critical\n",
            "requires-changes\n",
            "improvement\n",
            "Low Priority\n",
            "todo :spiral_notepad:\n",
            "awaiting response\n",
            "needs-tests\n",
            "examples\n",
            "UI\n",
            "test\n",
            "approved\n",
            "P0\n",
            "optimizer\n",
            "external\n",
            "P2\n",
            "✅ Approved\n",
            "jira/no-ticket\n",
            "jira/MBL\n",
            "P3\n",
            "do-not-merge/invalid-owners-file\n",
            "core\n",
            "Meta\n",
            "QA\n",
            "docs\n",
            "Continuous Integration\n",
            "accessibility\n",
            "jira/MVX\n",
            "ready for review\n",
            "bugfix\n",
            "pr-rejected\n",
            "needs info\n",
            "Need Retest\n",
            "class-project\n",
            "bounty\n",
            "Feature\n",
            "AT: WIP\n",
            "known issue\n",
            "archived\n",
            "Cosmetic\n",
            "⚠️ Changes requested\n",
            ":arrow_heading_down: pull\n",
            "GSoC\n",
            "C++\n",
            "high priority\n",
            "GPU\n",
            "proposal\n",
            "high-priority\n",
            "Android\n",
            "confirmed\n",
            "Matlab\n",
            "🌟 Needs more Approvals\n",
            "component: examples\n",
            "PR: merged\n",
            "Optimization\n",
            "Consensus\n",
            "priority: high\n",
            "amr\n",
            "C++11\n",
            "wiki\n",
            "docker\n",
            "security vulnerability\n",
            "can't reproduce\n",
            "jira/CHINF\n",
            "GUI\n",
            "TODO\n",
            "comp: docs\n",
            "component:documentation\n",
            "api\n",
            "Windows\n",
            "mac\n",
            "python\n",
            "Request for Comments\n",
            "pr-available\n",
            "critical bug\n",
            "cmake\n",
            "refactoring\n",
            "Information\n",
            "hacktoberfest\n",
            "needs investigation\n",
            "API\n",
            "cuda\n",
            "OpenCL\n",
            "Priority-Medium\n",
            "backlog\n",
            "Bugfix\n",
            "🔍 Ready for Review\n",
            "ci\n",
            "gpu\n",
            "Duplicate\n",
            "Mac\n",
            "Distributed\n",
            "status:duplicate\n",
            "needs-more-info\n"
          ]
        }
      ]
    },
    {
      "cell_type": "code",
      "metadata": {
        "colab": {
          "base_uri": "https://localhost:8080/"
        },
        "id": "KA9f9X6ZftnF",
        "outputId": "0b87aa90-3655-4b25-e7cf-5cf360455d2c"
      },
      "source": [
        "single_freq_labels = [label for label, freq in label_freq_full.items() if freq == 1]\n",
        "print(len(single_freq_labels))"
      ],
      "execution_count": 70,
      "outputs": [
        {
          "output_type": "stream",
          "name": "stdout",
          "text": [
            "2401\n"
          ]
        }
      ]
    },
    {
      "cell_type": "code",
      "metadata": {
        "colab": {
          "base_uri": "https://localhost:8080/"
        },
        "id": "X1AjV1OtgPus",
        "outputId": "a9776ecc-f01f-4a70-c280-139703e67b5d"
      },
      "source": [
        "print(\"Total number of labels:\\t\\t\\t\\t\\t\", len(labels))\n",
        "print(\"-------------------------------------------------------------\")\n",
        "print(\"Number of labels that appear once:\\t\\t\\t\", len(single_freq_labels))\n",
        "print(\"Number of labels that appear in interval [2, 10):\\t \", len(low_freq_labels))\n",
        "print(\"Number of labels that appear in interval [10, 20):\\t   \", len(mid_freq_labels))\n",
        "print(\"Number of labels that appear 20 or more times:\\t\\t  \", len(high_freq_labels))"
      ],
      "execution_count": 78,
      "outputs": [
        {
          "output_type": "stream",
          "name": "stdout",
          "text": [
            "Total number of labels:\t\t\t\t\t 2733\n",
            "-------------------------------------------------------------\n",
            "Number of labels that appear once:\t\t\t 2401\n",
            "Number of labels that appear in interval [2, 10):\t  313\n",
            "Number of labels that appear in interval [10, 20):\t    7\n",
            "Number of labels that appear 20 or more times:\t\t   12\n"
          ]
        }
      ]
    }
  ]
}